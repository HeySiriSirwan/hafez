{
 "cells": [
  {
   "cell_type": "code",
   "execution_count": 1,
   "id": "6356cf4b",
   "metadata": {},
   "outputs": [],
   "source": [
    "import requests\n",
    "from bs4 import BeautifulSoup\n",
    "import json\n",
    "import re\n",
    "import time\n",
    "from tqdm import tqdm"
   ]
  },
  {
   "cell_type": "code",
   "execution_count": null,
   "id": "da70622a",
   "metadata": {},
   "outputs": [
    {
     "name": "stderr",
     "output_type": "stream",
     "text": [
      "Crawling Ghazals:   0%|          | 1/495 [00:04<40:59,  4.98s/it]"
     ]
    },
    {
     "name": "stdout",
     "output_type": "stream",
     "text": [
      "اَلا یا اَیُّهَا السّاقی اَدِرْ کَأسَاً و ناوِلْها\n",
      "که عشق آسان نمود اوّل ولی افتاد مشکل‌ها\n"
     ]
    },
    {
     "name": "stderr",
     "output_type": "stream",
     "text": [
      "Crawling Ghazals:   0%|          | 2/495 [00:09<38:20,  4.67s/it]"
     ]
    },
    {
     "name": "stdout",
     "output_type": "stream",
     "text": [
      "صلاحِ کار کجا و منِ خراب کجا؟\n",
      "ببین تفاوتِ رَه کز کجاست تا به کجا\n"
     ]
    },
    {
     "name": "stderr",
     "output_type": "stream",
     "text": [
      "Crawling Ghazals:   1%|          | 3/495 [00:16<46:16,  5.64s/it]"
     ]
    },
    {
     "name": "stdout",
     "output_type": "stream",
     "text": [
      "اگر آن تُرکِ شیرازی به‌‌ دست‌ آرَد دلِ ما را\n",
      "به خال هِندویَش بَخشَم سَمَرقند و بُخارا را\n"
     ]
    },
    {
     "name": "stderr",
     "output_type": "stream",
     "text": [
      "Crawling Ghazals:   1%|          | 4/495 [00:20<42:10,  5.15s/it]"
     ]
    },
    {
     "name": "stdout",
     "output_type": "stream",
     "text": [
      "صبا به لُطف بگو آن غزالِ رَعنا را\n",
      "که سَر به کوه و بیابان تو داده‌ای ما را\n"
     ]
    },
    {
     "name": "stderr",
     "output_type": "stream",
     "text": [
      "Crawling Ghazals:   1%|          | 5/495 [00:25<40:43,  4.99s/it]"
     ]
    },
    {
     "name": "stdout",
     "output_type": "stream",
     "text": [
      "دل می‌رود ز دستم صاحب‌دلان خدا را\n",
      "دردا که راز پنهان خواهد شد آشکارا\n"
     ]
    },
    {
     "name": "stderr",
     "output_type": "stream",
     "text": [
      "Crawling Ghazals:   1%|          | 6/495 [00:31<44:45,  5.49s/it]"
     ]
    },
    {
     "name": "stdout",
     "output_type": "stream",
     "text": [
      "به مُلازِمانِ سلطان، که رساند این دعا را؟\n",
      "که به شُکرِ پادشاهی، زِ نظر مَران گدا را\n"
     ]
    },
    {
     "name": "stderr",
     "output_type": "stream",
     "text": [
      "Crawling Ghazals:   1%|▏         | 7/495 [00:39<50:04,  6.16s/it]"
     ]
    },
    {
     "name": "stdout",
     "output_type": "stream",
     "text": [
      "صوفی بیا که آینه صافیست جام را\n",
      "تا بنگری صفای مِی لِعْل‌فام را\n"
     ]
    },
    {
     "name": "stderr",
     "output_type": "stream",
     "text": [
      "Crawling Ghazals:   2%|▏         | 8/495 [00:43<45:42,  5.63s/it]"
     ]
    },
    {
     "name": "stdout",
     "output_type": "stream",
     "text": [
      "ساقیا برخیز و دَردِه جام را\n",
      "خاک بر سر کن غمِ ایّام را\n"
     ]
    },
    {
     "name": "stderr",
     "output_type": "stream",
     "text": [
      "Crawling Ghazals:   2%|▏         | 9/495 [00:50<47:49,  5.91s/it]"
     ]
    },
    {
     "name": "stdout",
     "output_type": "stream",
     "text": [
      "رونق عهد شباب است دگر بُستان را\n",
      "می‌رسد مژدهٔ گل بلبل خوش‌الحان را\n"
     ]
    },
    {
     "name": "stderr",
     "output_type": "stream",
     "text": [
      "Crawling Ghazals:   2%|▏         | 10/495 [00:54<44:32,  5.51s/it]"
     ]
    },
    {
     "name": "stdout",
     "output_type": "stream",
     "text": [
      "دوش از مسجد سویِ میخانه آمد پیرِ ما\n",
      "چیست یارانِ طریقت بعد از این تدبیرِ ما؟\n"
     ]
    },
    {
     "name": "stderr",
     "output_type": "stream",
     "text": [
      "Crawling Ghazals:   2%|▏         | 11/495 [01:08<1:05:27,  8.11s/it]"
     ]
    },
    {
     "name": "stdout",
     "output_type": "stream",
     "text": [
      "Error fetching ghazal 11: HTTPSConnectionPool(host='ganjoor.net', port=443): Read timed out. (read timeout=10)\n"
     ]
    },
    {
     "name": "stderr",
     "output_type": "stream",
     "text": [
      "Crawling Ghazals:   2%|▏         | 12/495 [01:15<1:01:14,  7.61s/it]"
     ]
    },
    {
     "name": "stdout",
     "output_type": "stream",
     "text": [
      "ای فروغِ ماهِ حُسن‌، از روی رخشان شما\n",
      "آبِ‌روی خوبی از چاه زَنَخدان شما\n"
     ]
    },
    {
     "name": "stderr",
     "output_type": "stream",
     "text": [
      "Crawling Ghazals:   3%|▎         | 13/495 [01:19<52:59,  6.60s/it]  "
     ]
    },
    {
     "name": "stdout",
     "output_type": "stream",
     "text": [
      "می‌دمد صبح و کِلِّه بست سحاب\n",
      "الصَبوح الصَبوح یا اصحاب\n"
     ]
    },
    {
     "name": "stderr",
     "output_type": "stream",
     "text": [
      "Crawling Ghazals:   3%|▎         | 14/495 [01:27<55:11,  6.88s/it]"
     ]
    },
    {
     "name": "stdout",
     "output_type": "stream",
     "text": [
      "گفتم ای سلطانِ خوبان رحم کن بر این غریب\n",
      "گفت در دنبالِ دل، رَه گُم کُنَد مسکین غریب\n"
     ]
    },
    {
     "name": "stderr",
     "output_type": "stream",
     "text": [
      "Crawling Ghazals:   3%|▎         | 15/495 [01:33<54:38,  6.83s/it]"
     ]
    },
    {
     "name": "stdout",
     "output_type": "stream",
     "text": [
      "ای شاهد قدسی، کِه کَشَد بند نقابت؟\n",
      "وی مرغ بهشتی، که دهد دانه و آبت؟\n"
     ]
    },
    {
     "name": "stderr",
     "output_type": "stream",
     "text": [
      "Crawling Ghazals:   3%|▎         | 16/495 [01:38<48:39,  6.10s/it]"
     ]
    },
    {
     "name": "stdout",
     "output_type": "stream",
     "text": [
      "خَمی که ابرویِ شوخِ تو در کمان انداخت\n",
      "به قصد جانِ منِ زارِ ناتوان انداخت\n"
     ]
    },
    {
     "name": "stderr",
     "output_type": "stream",
     "text": [
      "Crawling Ghazals:   3%|▎         | 17/495 [01:42<44:36,  5.60s/it]"
     ]
    },
    {
     "name": "stdout",
     "output_type": "stream",
     "text": [
      "سینه از آتش دل، در غمِ جانانه بسوخت\n",
      "آتشی بود در این خانه که کاشانه بسوخت\n"
     ]
    },
    {
     "name": "stderr",
     "output_type": "stream",
     "text": [
      "Crawling Ghazals:   4%|▎         | 18/495 [01:49<46:35,  5.86s/it]"
     ]
    },
    {
     "name": "stdout",
     "output_type": "stream",
     "text": [
      "ساقیا آمدنِ عید، مبارک بادت\n",
      "وان مَواعید که کردی، مَرَواد از یادت\n"
     ]
    },
    {
     "name": "stderr",
     "output_type": "stream",
     "text": [
      "Crawling Ghazals:   4%|▍         | 19/495 [01:53<43:11,  5.44s/it]"
     ]
    },
    {
     "name": "stdout",
     "output_type": "stream",
     "text": [
      "ای نسیمِ سحر آرامگَهِ یار کجاست؟\n",
      "منزلِ آن مَهِ عاشق‌کُشِ عَیّار کجاست؟\n"
     ]
    },
    {
     "name": "stderr",
     "output_type": "stream",
     "text": [
      "Crawling Ghazals:   4%|▍         | 20/495 [01:58<41:19,  5.22s/it]"
     ]
    },
    {
     "name": "stdout",
     "output_type": "stream",
     "text": [
      "روزه یک سو شد و عید آمد و دل‌ها برخاست\n",
      "می ز خُم‌خانه به‌جوش آمد و می‌باید خواست\n"
     ]
    },
    {
     "name": "stderr",
     "output_type": "stream",
     "text": [
      "Crawling Ghazals:   4%|▍         | 21/495 [02:08<51:58,  6.58s/it]"
     ]
    },
    {
     "name": "stdout",
     "output_type": "stream",
     "text": [
      "دل و دینم شد و دلبر به ملامت برخاست\n",
      "گفت با ما منشین، کز تو سلامت برخاست\n"
     ]
    },
    {
     "name": "stderr",
     "output_type": "stream",
     "text": [
      "Crawling Ghazals:   4%|▍         | 22/495 [02:17<57:30,  7.30s/it]"
     ]
    },
    {
     "name": "stdout",
     "output_type": "stream",
     "text": [
      "چو بشنوی سخنِ اهلِ دل، مگو که خطاست\n",
      "سخن‌شناس نه‌ای، جان من! خطا این جاست\n"
     ]
    },
    {
     "name": "stderr",
     "output_type": "stream",
     "text": [
      "Crawling Ghazals:   5%|▍         | 23/495 [02:21<51:05,  6.49s/it]"
     ]
    },
    {
     "name": "stdout",
     "output_type": "stream",
     "text": [
      "خیالِ رویِ تو در هر طریق همرهِ ماست\n",
      "نسیمِ مویِ تو، پیوندِ جانِ آگهِ ماست\n"
     ]
    },
    {
     "name": "stderr",
     "output_type": "stream",
     "text": [
      "Crawling Ghazals:   5%|▍         | 24/495 [02:28<51:24,  6.55s/it]"
     ]
    },
    {
     "name": "stdout",
     "output_type": "stream",
     "text": [
      "مطلب طاعت و پیمان و صلاح از من مست\n",
      "که به پیمانه‌کشی شهره شدم روز الست\n"
     ]
    },
    {
     "name": "stderr",
     "output_type": "stream",
     "text": [
      "Crawling Ghazals:   5%|▌         | 25/495 [02:33<46:38,  5.95s/it]"
     ]
    },
    {
     "name": "stdout",
     "output_type": "stream",
     "text": [
      "شکفته شد گل حَمرا و گشت بلبل مست\n",
      "صَلایِ سرخوشی، ای صوفیانِ باده پرست\n"
     ]
    },
    {
     "name": "stderr",
     "output_type": "stream",
     "text": [
      "Crawling Ghazals:   5%|▌         | 26/495 [02:38<45:02,  5.76s/it]"
     ]
    },
    {
     "name": "stdout",
     "output_type": "stream",
     "text": [
      "زلف‌آشفته و خِوی‌کرده و خندان‌لب و مست\n",
      "پیرهن‌چاک و غزل‌خوان و صُراحی در دست\n"
     ]
    },
    {
     "name": "stderr",
     "output_type": "stream",
     "text": [
      "Crawling Ghazals:   5%|▌         | 27/495 [02:44<46:41,  5.99s/it]"
     ]
    },
    {
     "name": "stdout",
     "output_type": "stream",
     "text": [
      "در دیرِ مغان آمد، یارم قدحی در دست\n",
      "مست از می و میخواران از نرگسِ مستش مست\n"
     ]
    },
    {
     "name": "stderr",
     "output_type": "stream",
     "text": [
      "Crawling Ghazals:   6%|▌         | 28/495 [02:52<51:12,  6.58s/it]"
     ]
    },
    {
     "name": "stdout",
     "output_type": "stream",
     "text": [
      "به جانِ خواجه و حقِ قدیم و عهدِ درست\n",
      "که مونسِ دمِ صبحم، دعایِ دولتِ توست\n"
     ]
    },
    {
     "name": "stderr",
     "output_type": "stream",
     "text": [
      "Crawling Ghazals:   6%|▌         | 29/495 [02:57<45:49,  5.90s/it]"
     ]
    },
    {
     "name": "stdout",
     "output_type": "stream",
     "text": [
      "ما را زِ خیالِ تو چه پروایِ شراب است؟\n",
      "خُم گو سر خود گیر، که خُمخانه خراب است\n"
     ]
    },
    {
     "name": "stderr",
     "output_type": "stream",
     "text": [
      "Crawling Ghazals:   6%|▌         | 30/495 [03:03<46:43,  6.03s/it]"
     ]
    },
    {
     "name": "stdout",
     "output_type": "stream",
     "text": [
      "زلفت هزار دل به یکی تار مو ببست\n",
      "راه هزار چاره‌گر از چارسو ببست\n"
     ]
    },
    {
     "name": "stderr",
     "output_type": "stream",
     "text": [
      "Crawling Ghazals:   6%|▋         | 31/495 [03:08<44:16,  5.73s/it]"
     ]
    },
    {
     "name": "stdout",
     "output_type": "stream",
     "text": [
      "آن شبِ قدری که گویند اهلِ خلوت امشب است\n",
      "یا رب این تأثیرِ دولت در کدامین کوکب است؟\n"
     ]
    },
    {
     "name": "stderr",
     "output_type": "stream",
     "text": [
      "Crawling Ghazals:   6%|▋         | 32/495 [03:12<41:08,  5.33s/it]"
     ]
    },
    {
     "name": "stdout",
     "output_type": "stream",
     "text": [
      "خدا چو صورتِ ابرویِ دلگشای تو بست\n",
      "گشادِ کارِ من اندر کرشمه‌هایِ تو بست\n"
     ]
    },
    {
     "name": "stderr",
     "output_type": "stream",
     "text": [
      "Crawling Ghazals:   7%|▋         | 33/495 [03:23<52:31,  6.82s/it]"
     ]
    },
    {
     "name": "stdout",
     "output_type": "stream",
     "text": [
      "خلوت گُزیده را به تماشا چه حاجت است\n",
      "چون کوی دوست هست به صحرا چه حاجت است\n"
     ]
    },
    {
     "name": "stderr",
     "output_type": "stream",
     "text": [
      "Crawling Ghazals:   7%|▋         | 34/495 [03:27<47:07,  6.13s/it]"
     ]
    },
    {
     "name": "stdout",
     "output_type": "stream",
     "text": [
      "رَواقِ منظرِ چشمِ من آشیانهٔ توست\n",
      "کَرَم نما و فرود آ که خانه، خانهٔ توست\n"
     ]
    },
    {
     "name": "stderr",
     "output_type": "stream",
     "text": [
      "Crawling Ghazals:   7%|▋         | 35/495 [03:35<49:55,  6.51s/it]"
     ]
    },
    {
     "name": "stdout",
     "output_type": "stream",
     "text": [
      "برو به کارِ خود ای واعظ این چه فریادست\n",
      "مرا فِتاد دل از ره، تو را چه اُفتادست؟\n"
     ]
    },
    {
     "name": "stderr",
     "output_type": "stream",
     "text": [
      "Crawling Ghazals:   7%|▋         | 36/495 [03:41<49:24,  6.46s/it]"
     ]
    },
    {
     "name": "stdout",
     "output_type": "stream",
     "text": [
      "تا سرِ زلفِ تو در دستِ نسیم افتادست\n",
      "دلِ سودازده از غُصه دو نیم افتادست\n"
     ]
    },
    {
     "name": "stderr",
     "output_type": "stream",
     "text": [
      "Crawling Ghazals:   7%|▋         | 37/495 [03:45<44:44,  5.86s/it]"
     ]
    },
    {
     "name": "stdout",
     "output_type": "stream",
     "text": [
      "بیا که قصرِ اَمَل سخت سست‌بنیادست\n",
      "بیار باده که بنیادِ عمر بر بادست\n"
     ]
    },
    {
     "name": "stderr",
     "output_type": "stream",
     "text": [
      "Crawling Ghazals:   8%|▊         | 38/495 [03:50<41:04,  5.39s/it]"
     ]
    },
    {
     "name": "stdout",
     "output_type": "stream",
     "text": [
      "بی مِهرِ رُخَت روزِ مرا نور نماندست\n",
      "وز عمر، مرا جز شبِ دیجور نماندست\n"
     ]
    },
    {
     "name": "stderr",
     "output_type": "stream",
     "text": [
      "Crawling Ghazals:   8%|▊         | 39/495 [03:56<43:11,  5.68s/it]"
     ]
    },
    {
     "name": "stdout",
     "output_type": "stream",
     "text": [
      "باغِ مرا چه حاجتِ سرو و صنوبر است؟\n",
      "شمشادِ خانه‌پرورِ ما از که کمتر است؟\n"
     ]
    },
    {
     "name": "stderr",
     "output_type": "stream",
     "text": [
      "Crawling Ghazals:   8%|▊         | 40/495 [04:00<40:00,  5.28s/it]"
     ]
    },
    {
     "name": "stdout",
     "output_type": "stream",
     "text": [
      "اَلمِنَّةُ لِلَّه که درِ میکده باز است\n",
      "زان رو که مرا بر در او رویِ نیاز است\n"
     ]
    },
    {
     "name": "stderr",
     "output_type": "stream",
     "text": [
      "Crawling Ghazals:   8%|▊         | 41/495 [04:05<37:49,  5.00s/it]"
     ]
    },
    {
     "name": "stdout",
     "output_type": "stream",
     "text": [
      "اگر چه باده فَرَح بخش و باد گُل‌بیز است\n",
      "به بانگِ چَنگ مخور مِی که مُحتَسِب تیز است\n"
     ]
    },
    {
     "name": "stderr",
     "output_type": "stream",
     "text": [
      "Crawling Ghazals:   8%|▊         | 42/495 [04:14<47:29,  6.29s/it]"
     ]
    },
    {
     "name": "stdout",
     "output_type": "stream",
     "text": [
      "حالِ دل با تو گفتنم، هوس است\n",
      "خبرِ دل شِنُفتَنَم، هوس است\n"
     ]
    },
    {
     "name": "stderr",
     "output_type": "stream",
     "text": [
      "Crawling Ghazals:   9%|▊         | 43/495 [04:18<42:56,  5.70s/it]"
     ]
    },
    {
     "name": "stdout",
     "output_type": "stream",
     "text": [
      "صَحنِ بُستان ذوق‌بخش و صحبتِ یاران خوش است\n",
      "وقتِ گل خوش باد کز وی وقتِ می‌خواران خوش است\n"
     ]
    },
    {
     "name": "stderr",
     "output_type": "stream",
     "text": [
      "Crawling Ghazals:   9%|▉         | 44/495 [04:27<48:45,  6.49s/it]"
     ]
    },
    {
     "name": "stdout",
     "output_type": "stream",
     "text": [
      "کُنون که بر کفِ گُل جامِ بادهٔ صاف است\n",
      "به صدهزار زبان بلبلش در اوصاف است\n"
     ]
    },
    {
     "name": "stderr",
     "output_type": "stream",
     "text": [
      "Crawling Ghazals:   9%|▉         | 45/495 [04:33<48:19,  6.44s/it]"
     ]
    },
    {
     "name": "stdout",
     "output_type": "stream",
     "text": [
      "در این زمانه رفیقی که خالی از خِلَل است\n",
      "صُراحیِ میِ ناب و سَفینهٔ غزل است\n"
     ]
    },
    {
     "name": "stderr",
     "output_type": "stream",
     "text": [
      "Crawling Ghazals:   9%|▉         | 46/495 [04:38<44:34,  5.96s/it]"
     ]
    },
    {
     "name": "stdout",
     "output_type": "stream",
     "text": [
      "گل در بَر و می در کف و معشوق به کام است\n",
      "سلطانِ جهانم به چنین روز غلام است\n"
     ]
    },
    {
     "name": "stderr",
     "output_type": "stream",
     "text": [
      "Crawling Ghazals:   9%|▉         | 47/495 [04:42<40:43,  5.45s/it]"
     ]
    },
    {
     "name": "stdout",
     "output_type": "stream",
     "text": [
      "به کویِ میکده هر سالِکی که رَه دانست\n",
      "دری دگر زدن اندیشهٔ تَبَه دانست\n"
     ]
    },
    {
     "name": "stderr",
     "output_type": "stream",
     "text": [
      "Crawling Ghazals:  10%|▉         | 48/495 [04:48<42:30,  5.71s/it]"
     ]
    },
    {
     "name": "stdout",
     "output_type": "stream",
     "text": [
      "صوفی از پرتو مِی رازِ نهانی دانست\n",
      "گوهرِ هر کس از این لعل، توانی دانست\n"
     ]
    },
    {
     "name": "stderr",
     "output_type": "stream",
     "text": [
      "Crawling Ghazals:  10%|▉         | 49/495 [04:56<46:30,  6.26s/it]"
     ]
    },
    {
     "name": "stdout",
     "output_type": "stream",
     "text": [
      "روضهٔ خُلدِ برین خلوتِ درویشان است\n",
      "مایهٔ مُحتشمی، خدمتِ درویشان است\n"
     ]
    },
    {
     "name": "stderr",
     "output_type": "stream",
     "text": [
      "Crawling Ghazals:  10%|█         | 50/495 [05:00<41:53,  5.65s/it]"
     ]
    },
    {
     "name": "stdout",
     "output_type": "stream",
     "text": [
      "به دامِ زلفِ تو دل مبتلایِ خویشتن است\n",
      "بکُش به غمزه که اینَش سزایِ خویشتن است\n"
     ]
    },
    {
     "name": "stderr",
     "output_type": "stream",
     "text": [
      "Crawling Ghazals:  10%|█         | 51/495 [05:07<43:53,  5.93s/it]"
     ]
    },
    {
     "name": "stdout",
     "output_type": "stream",
     "text": [
      "لعلِ سیرابِ به‌خون‌تشنه‌، لب یار من است\n",
      "وز پی دیدنِ او دادنِ جان کار من است\n"
     ]
    },
    {
     "name": "stderr",
     "output_type": "stream",
     "text": [
      "Crawling Ghazals:  11%|█         | 52/495 [05:11<40:35,  5.50s/it]"
     ]
    },
    {
     "name": "stdout",
     "output_type": "stream",
     "text": [
      "روزگاریست که سودایِ بتان دینِ من است\n",
      "غمِ این کار‌، نشاطِ دلِ غمگینِ من است\n"
     ]
    },
    {
     "name": "stderr",
     "output_type": "stream",
     "text": [
      "Crawling Ghazals:  11%|█         | 53/495 [05:16<38:09,  5.18s/it]"
     ]
    },
    {
     "name": "stdout",
     "output_type": "stream",
     "text": [
      "منم که گوشهٔ میخانه خانقاهِ من است\n",
      "دعایِ پیرِ مغان وردِ صبحگاهِ من است\n"
     ]
    },
    {
     "name": "stderr",
     "output_type": "stream",
     "text": [
      "Crawling Ghazals:  11%|█         | 54/495 [05:22<40:49,  5.55s/it]"
     ]
    },
    {
     "name": "stdout",
     "output_type": "stream",
     "text": [
      "ز گریه مَردُمِ چشمم نشسته در خون است\n",
      "ببین که در طلبت حالِ مَردُمان چون است\n"
     ]
    },
    {
     "name": "stderr",
     "output_type": "stream",
     "text": [
      "Crawling Ghazals:  11%|█         | 55/495 [05:30<46:47,  6.38s/it]"
     ]
    },
    {
     "name": "stdout",
     "output_type": "stream",
     "text": [
      "خَمِ زلفِ تو دامِ کفر و دین است\n",
      "ز کارستانِ او یک شمه این است\n"
     ]
    },
    {
     "name": "stderr",
     "output_type": "stream",
     "text": [
      "Crawling Ghazals:  11%|█▏        | 56/495 [05:38<49:27,  6.76s/it]"
     ]
    },
    {
     "name": "stdout",
     "output_type": "stream",
     "text": [
      "دل سراپردهٔ محبتِ اوست\n",
      "دیده آیینه‌دارِ طلعت اوست\n"
     ]
    },
    {
     "name": "stderr",
     "output_type": "stream",
     "text": [
      "Crawling Ghazals:  12%|█▏        | 57/495 [05:45<48:52,  6.70s/it]"
     ]
    },
    {
     "name": "stdout",
     "output_type": "stream",
     "text": [
      "آن سیه‌چرده که شیرینیِ عالم با اوست\n",
      "چشمِ میگون، لبِ خندان، دلِ خُرّم با اوست\n"
     ]
    },
    {
     "name": "stderr",
     "output_type": "stream",
     "text": [
      "Crawling Ghazals:  12%|█▏        | 58/495 [05:50<44:55,  6.17s/it]"
     ]
    },
    {
     "name": "stdout",
     "output_type": "stream",
     "text": [
      "سرِ ارادتِ ما و آستانِ حضرت دوست\n",
      "که هر چه بر سرِ ما می‌رود ارادتِ اوست\n"
     ]
    },
    {
     "name": "stderr",
     "output_type": "stream",
     "text": [
      "Crawling Ghazals:  12%|█▏        | 59/495 [05:54<41:22,  5.69s/it]"
     ]
    },
    {
     "name": "stdout",
     "output_type": "stream",
     "text": [
      "دارم امید عاطفتی از جناب دوست\n",
      "کردم جنایتی و امیدم به عفو اوست\n"
     ]
    },
    {
     "name": "stderr",
     "output_type": "stream",
     "text": [
      "Crawling Ghazals:  12%|█▏        | 60/495 [06:01<43:02,  5.94s/it]"
     ]
    },
    {
     "name": "stdout",
     "output_type": "stream",
     "text": [
      "آن پیکِ ناموَر که رسید از دیارِ دوست\n",
      "آورد حِرزِ جان ز خطِ مُشکبارِ دوست\n"
     ]
    },
    {
     "name": "stderr",
     "output_type": "stream",
     "text": [
      "Crawling Ghazals:  12%|█▏        | 61/495 [06:05<39:33,  5.47s/it]"
     ]
    },
    {
     "name": "stdout",
     "output_type": "stream",
     "text": [
      "صبا اگر گذری اُفتَدَت به کشور دوست\n",
      "بیار نَفحِه‌ای از گیسوی مُعَنبَر دوست\n"
     ]
    },
    {
     "name": "stderr",
     "output_type": "stream",
     "text": [
      "Crawling Ghazals:  13%|█▎        | 62/495 [06:09<37:03,  5.13s/it]"
     ]
    },
    {
     "name": "stdout",
     "output_type": "stream",
     "text": [
      "مرحبا ای پیکِ مشتاقان بده پیغامِ دوست\n",
      "تا کُنم جان از سرِ رغبت فدای نامِ دوست\n"
     ]
    },
    {
     "name": "stderr",
     "output_type": "stream",
     "text": [
      "Crawling Ghazals:  13%|█▎        | 63/495 [06:19<46:24,  6.45s/it]"
     ]
    },
    {
     "name": "stdout",
     "output_type": "stream",
     "text": [
      "رویِ تو کس ندید و هزارت رقیب هست\n",
      "در غنچه‌ای هنوز و صدت عندلیب هست\n"
     ]
    },
    {
     "name": "stderr",
     "output_type": "stream",
     "text": [
      "Crawling Ghazals:  13%|█▎        | 64/495 [06:24<43:39,  6.08s/it]"
     ]
    },
    {
     "name": "stdout",
     "output_type": "stream",
     "text": [
      "اگر چه عرض هنر پیشِ یار بی‌ادبیست\n",
      "زبان خموش، ولیکن دهان پُر از عربیست\n"
     ]
    },
    {
     "name": "stderr",
     "output_type": "stream",
     "text": [
      "Crawling Ghazals:  13%|█▎        | 65/495 [06:29<40:49,  5.70s/it]"
     ]
    },
    {
     "name": "stdout",
     "output_type": "stream",
     "text": [
      "خوشتر ز عیش و صحبت و باغ و بهار چیست؟\n",
      "ساقی کجاست، گو سببِ انتظار چیست؟\n"
     ]
    },
    {
     "name": "stderr",
     "output_type": "stream",
     "text": [
      "Crawling Ghazals:  13%|█▎        | 66/495 [06:40<52:23,  7.33s/it]"
     ]
    },
    {
     "name": "stdout",
     "output_type": "stream",
     "text": [
      "بنال بلبل اگر با مَنَت سرِ یاریست\n",
      "که ما دو عاشق زاریم و کارِ ما زاریست\n"
     ]
    },
    {
     "name": "stderr",
     "output_type": "stream",
     "text": [
      "Crawling Ghazals:  14%|█▎        | 67/495 [06:44<45:55,  6.44s/it]"
     ]
    },
    {
     "name": "stdout",
     "output_type": "stream",
     "text": [
      "یا رب این شمع دل‌افروز ز کاشانهٔ کیست؟\n",
      "جانِ ما سوخت، بپرسید که جانانهٔ کیست؟\n"
     ]
    },
    {
     "name": "stderr",
     "output_type": "stream",
     "text": [
      "Crawling Ghazals:  14%|█▎        | 68/495 [06:49<42:32,  5.98s/it]"
     ]
    },
    {
     "name": "stdout",
     "output_type": "stream",
     "text": [
      "ماهم این هفته برون رفت و به چشمم سالی‌ست\n",
      "حالِ هجران تو چه دانی که چه مشکل حالی‌ست؟\n"
     ]
    },
    {
     "name": "stderr",
     "output_type": "stream",
     "text": [
      "Crawling Ghazals:  14%|█▍        | 69/495 [06:56<43:38,  6.15s/it]"
     ]
    },
    {
     "name": "stdout",
     "output_type": "stream",
     "text": [
      "کس نیست که افتادهٔ آن زلفِ دوتا نیست\n",
      "در رهگذرِ کیست که دامی ز بلا نیست\n"
     ]
    },
    {
     "name": "stderr",
     "output_type": "stream",
     "text": [
      "Crawling Ghazals:  14%|█▍        | 70/495 [07:03<46:13,  6.52s/it]"
     ]
    },
    {
     "name": "stdout",
     "output_type": "stream",
     "text": [
      "مردم دیدهٔ ما جز به رُخَت ناظر نیست\n",
      "دل سرگشتهٔ ما غیرِ تو را ذاکر نیست\n"
     ]
    },
    {
     "name": "stderr",
     "output_type": "stream",
     "text": [
      "Crawling Ghazals:  14%|█▍        | 71/495 [07:08<41:54,  5.93s/it]"
     ]
    },
    {
     "name": "stdout",
     "output_type": "stream",
     "text": [
      "زاهدِ ظاهرپرست از حالِ ما آگاه نیست\n",
      "در حقِ ما هر چه گوید جایِ هیچ اکراه نیست\n"
     ]
    },
    {
     "name": "stderr",
     "output_type": "stream",
     "text": [
      "Crawling Ghazals:  15%|█▍        | 72/495 [07:14<42:40,  6.05s/it]"
     ]
    },
    {
     "name": "stdout",
     "output_type": "stream",
     "text": [
      "راهی‌ست راهِ عشق که هیچش کناره نیست\n",
      "آن‌جا جز آن‌که جان بسپارند، چاره نیست\n"
     ]
    },
    {
     "name": "stderr",
     "output_type": "stream",
     "text": [
      "Crawling Ghazals:  15%|█▍        | 73/495 [07:20<41:11,  5.86s/it]"
     ]
    },
    {
     "name": "stdout",
     "output_type": "stream",
     "text": [
      "روشن از پرتوِ رویت نظری نیست که نیست\n",
      "مِنَّت خاکِ درت بر بصری نیست که نیست\n"
     ]
    },
    {
     "name": "stderr",
     "output_type": "stream",
     "text": [
      "Crawling Ghazals:  15%|█▍        | 74/495 [07:24<38:09,  5.44s/it]"
     ]
    },
    {
     "name": "stdout",
     "output_type": "stream",
     "text": [
      "حاصلِ کارگه کون و مکان این همه نیست\n",
      "باده پیش آر که اسبابِ جهان این همه نیست\n"
     ]
    },
    {
     "name": "stderr",
     "output_type": "stream",
     "text": [
      "Crawling Ghazals:  15%|█▌        | 75/495 [07:30<39:45,  5.68s/it]"
     ]
    },
    {
     "name": "stdout",
     "output_type": "stream",
     "text": [
      "خوابِ آن نرگسِ فَتّانِ تو، بی چیزی نیست\n",
      "تابِ آن زلفِ پریشانِ تو، بی چیزی نیست\n"
     ]
    },
    {
     "name": "stderr",
     "output_type": "stream",
     "text": [
      "Crawling Ghazals:  15%|█▌        | 76/495 [07:35<37:08,  5.32s/it]"
     ]
    },
    {
     "name": "stdout",
     "output_type": "stream",
     "text": [
      "جز آستان توام در جهان پناهی نیست\n",
      "سرِ مرا به جز این در، حواله گاهی نیست\n"
     ]
    },
    {
     "name": "stderr",
     "output_type": "stream",
     "text": [
      "Crawling Ghazals:  16%|█▌        | 77/495 [07:47<51:13,  7.35s/it]"
     ]
    },
    {
     "name": "stdout",
     "output_type": "stream",
     "text": [
      "بلبلی برگِ گُلی خوش رنگ در منقار داشت\n",
      "و اندر آن برگ و نوا خوش ناله‌هایِ زار داشت\n"
     ]
    },
    {
     "name": "stderr",
     "output_type": "stream",
     "text": [
      "Crawling Ghazals:  16%|█▌        | 78/495 [07:53<48:48,  7.02s/it]"
     ]
    },
    {
     "name": "stdout",
     "output_type": "stream",
     "text": [
      "دیدی که یار، جز سَرِ جور و ستم نداشت\n",
      "بشکست عهد، وز غمِ ما هیچ غم نداشت\n"
     ]
    },
    {
     "name": "stderr",
     "output_type": "stream",
     "text": [
      "Crawling Ghazals:  16%|█▌        | 79/495 [07:58<43:15,  6.24s/it]"
     ]
    },
    {
     "name": "stdout",
     "output_type": "stream",
     "text": [
      "کنون که می‌دمد از بوستان نسیمِ بهشت\n",
      "من و شرابِ فرح‌بخش و یارِ حورسرشت\n"
     ]
    },
    {
     "name": "stderr",
     "output_type": "stream",
     "text": [
      "Crawling Ghazals:  16%|█▌        | 80/495 [08:02<40:23,  5.84s/it]"
     ]
    },
    {
     "name": "stdout",
     "output_type": "stream",
     "text": [
      "عیبِ رندان مَکُن ای زاهدِ پاکیزه‌سرشت\n",
      "که گناهِ دگران بر تو نخواهند نوشت\n"
     ]
    },
    {
     "name": "stderr",
     "output_type": "stream",
     "text": [
      "Crawling Ghazals:  16%|█▋        | 81/495 [08:09<42:19,  6.13s/it]"
     ]
    },
    {
     "name": "stdout",
     "output_type": "stream",
     "text": [
      "صبحدم مرغِ چمن با گلِ نوخاسته گفت\n",
      "ناز کم کن که در این باغ، بسی چون تو شکفت\n"
     ]
    },
    {
     "name": "stderr",
     "output_type": "stream",
     "text": [
      "Crawling Ghazals:  17%|█▋        | 82/495 [08:14<39:24,  5.73s/it]"
     ]
    },
    {
     "name": "stdout",
     "output_type": "stream",
     "text": [
      "آن تُرک پری چهره که دوش از بَرِ ما رفت\n",
      "آیا چه خطا دید که از راهِ خطا رفت؟\n"
     ]
    },
    {
     "name": "stderr",
     "output_type": "stream",
     "text": [
      "Crawling Ghazals:  17%|█▋        | 83/495 [08:18<36:17,  5.29s/it]"
     ]
    },
    {
     "name": "stdout",
     "output_type": "stream",
     "text": [
      "گر ز دستِ زلفِ مُشکینت خطایی رفت رفت\n",
      "ور ز هندویِ شما بر ما جفایی رفت رفت\n"
     ]
    },
    {
     "name": "stderr",
     "output_type": "stream",
     "text": [
      "Crawling Ghazals:  17%|█▋        | 84/495 [08:28<44:49,  6.54s/it]"
     ]
    },
    {
     "name": "stdout",
     "output_type": "stream",
     "text": [
      "ساقی بیار باده که ماهِ صیام رفت\n",
      "دَردِه قدح که موسمِ ناموس و نام رفت\n"
     ]
    },
    {
     "name": "stderr",
     "output_type": "stream",
     "text": [
      "Crawling Ghazals:  17%|█▋        | 85/495 [08:32<39:53,  5.84s/it]"
     ]
    },
    {
     "name": "stdout",
     "output_type": "stream",
     "text": [
      "شربتی از لبِ لعلش نچشیدیم و بِرَفت\n",
      "رویِ مَه پیکرِ او سیر ندیدیم و برفت\n"
     ]
    },
    {
     "name": "stderr",
     "output_type": "stream",
     "text": [
      "Crawling Ghazals:  17%|█▋        | 86/495 [08:36<36:54,  5.41s/it]"
     ]
    },
    {
     "name": "stdout",
     "output_type": "stream",
     "text": [
      "ساقی بیا که یار ز رخ پرده برگرفت\n",
      "کارِ چراغ خلوتیان باز درگرفت\n"
     ]
    },
    {
     "name": "stderr",
     "output_type": "stream",
     "text": [
      "Crawling Ghazals:  18%|█▊        | 87/495 [08:43<40:12,  5.91s/it]"
     ]
    },
    {
     "name": "stdout",
     "output_type": "stream",
     "text": [
      "حُسنت به اتفاقِ ملاحت جهان گرفت\n",
      "آری، به اتفاق، جهان می‌توان گرفت\n"
     ]
    },
    {
     "name": "stderr",
     "output_type": "stream",
     "text": [
      "Crawling Ghazals:  18%|█▊        | 88/495 [08:52<45:08,  6.65s/it]"
     ]
    },
    {
     "name": "stdout",
     "output_type": "stream",
     "text": [
      "شنیده‌ام سخنی خوش که پیرِ کنعان گفت\n",
      "«فِراق یار، نه آن می‌کند که بتوان گفت»\n"
     ]
    },
    {
     "name": "stderr",
     "output_type": "stream",
     "text": [
      "Crawling Ghazals:  18%|█▊        | 89/495 [08:56<40:10,  5.94s/it]"
     ]
    },
    {
     "name": "stdout",
     "output_type": "stream",
     "text": [
      "یا رب سببی ساز که یارم به سلامت\n",
      "بازآید و بِرهانَدَم از بندِ مَلامت\n"
     ]
    },
    {
     "name": "stderr",
     "output_type": "stream",
     "text": [
      "Crawling Ghazals:  18%|█▊        | 90/495 [09:02<40:41,  6.03s/it]"
     ]
    },
    {
     "name": "stdout",
     "output_type": "stream",
     "text": [
      "ای هدهد صبا به سبا می‌فرستمت\n",
      "بنگر که از کجا به کجا می‌فرستمت\n"
     ]
    },
    {
     "name": "stderr",
     "output_type": "stream",
     "text": [
      "Crawling Ghazals:  18%|█▊        | 91/495 [09:10<43:14,  6.42s/it]"
     ]
    },
    {
     "name": "stdout",
     "output_type": "stream",
     "text": [
      "ای غایب از نظر به خدا می‌سپارمت\n",
      "جانم بسوختی و به دل دوست دارمت\n"
     ]
    },
    {
     "name": "stderr",
     "output_type": "stream",
     "text": [
      "Crawling Ghazals:  19%|█▊        | 92/495 [09:14<39:04,  5.82s/it]"
     ]
    },
    {
     "name": "stdout",
     "output_type": "stream",
     "text": [
      "میرِ من خوش می‌روی کاندر سر و پا میرمت\n",
      "خوش خرامان شو که پیشِ قدِ رعنا میرمت\n"
     ]
    },
    {
     "name": "stderr",
     "output_type": "stream",
     "text": [
      "Crawling Ghazals:  19%|█▉        | 93/495 [09:20<40:11,  6.00s/it]"
     ]
    },
    {
     "name": "stdout",
     "output_type": "stream",
     "text": [
      "چه لطف بود که ناگاه رَشحِهٔ قَلَمَت\n",
      "حقوقِ خدمتِ ما عرضه کرد بر کرمت\n"
     ]
    },
    {
     "name": "stderr",
     "output_type": "stream",
     "text": [
      "Crawling Ghazals:  19%|█▉        | 94/495 [09:26<38:13,  5.72s/it]"
     ]
    },
    {
     "name": "stdout",
     "output_type": "stream",
     "text": [
      "زان یارِ دل‌نوازم، شُکری است با شکایت\n",
      "گر نکته‌دانِ عشقی، بشنو تو این حکایت\n"
     ]
    },
    {
     "name": "stderr",
     "output_type": "stream",
     "text": [
      "Crawling Ghazals:  19%|█▉        | 95/495 [09:30<35:30,  5.33s/it]"
     ]
    },
    {
     "name": "stdout",
     "output_type": "stream",
     "text": [
      "مدامم مست می‌دارد نسیمِ جَعدِ گیسویت\n",
      "خرابم می‌کند هر دَم، فریبِ چشمِ جادویت\n"
     ]
    },
    {
     "name": "stderr",
     "output_type": "stream",
     "text": [
      "Crawling Ghazals:  19%|█▉        | 96/495 [09:36<37:33,  5.65s/it]"
     ]
    },
    {
     "name": "stdout",
     "output_type": "stream",
     "text": [
      "دردِ ما را نیست درمان الغیاث\n",
      "هجرِ ما را نیست پایان الغیاث\n"
     ]
    },
    {
     "name": "stderr",
     "output_type": "stream",
     "text": [
      "Crawling Ghazals:  20%|█▉        | 97/495 [09:41<34:42,  5.23s/it]"
     ]
    },
    {
     "name": "stdout",
     "output_type": "stream",
     "text": [
      "تویی که بر سرِ خوبانِ کشوری چون تاج\n",
      "سِزَد اگر همهٔ دلبران دَهَندَت باج\n"
     ]
    },
    {
     "name": "stderr",
     "output_type": "stream",
     "text": [
      "Crawling Ghazals:  20%|█▉        | 98/495 [09:48<38:37,  5.84s/it]"
     ]
    },
    {
     "name": "stdout",
     "output_type": "stream",
     "text": [
      "اگر به مذهبِ تو خونِ عاشق است مُباح\n",
      "صلاحِ ما همه آن است کان تو راست صلاح\n"
     ]
    },
    {
     "name": "stderr",
     "output_type": "stream",
     "text": [
      "Crawling Ghazals:  20%|██        | 99/495 [09:58<47:10,  7.15s/it]"
     ]
    },
    {
     "name": "stdout",
     "output_type": "stream",
     "text": [
      "دلِ من در هوایِ روی فَرُّخ\n",
      "بُوَد آشفته همچون مویِ فَرُّخ\n"
     ]
    },
    {
     "name": "stderr",
     "output_type": "stream",
     "text": [
      "Crawling Ghazals:  20%|██        | 100/495 [10:02<41:29,  6.30s/it]"
     ]
    },
    {
     "name": "stdout",
     "output_type": "stream",
     "text": [
      "دی پیر می‌فروش که ذکرش به خیر باد\n",
      "گفتا شراب نوش و غمِ دل بِبَر ز یاد\n"
     ]
    },
    {
     "name": "stderr",
     "output_type": "stream",
     "text": [
      "Crawling Ghazals:  20%|██        | 101/495 [10:07<37:34,  5.72s/it]"
     ]
    },
    {
     "name": "stdout",
     "output_type": "stream",
     "text": [
      "شراب و عیش نهان چیست؟ کارِ بی‌بنیاد\n",
      "زدیم بر صفِ رندان و هر چه بادا باد\n"
     ]
    },
    {
     "name": "stderr",
     "output_type": "stream",
     "text": [
      "Crawling Ghazals:  21%|██        | 102/495 [10:13<38:38,  5.90s/it]"
     ]
    },
    {
     "name": "stdout",
     "output_type": "stream",
     "text": [
      "دوش آگهی ز یارِ سفر کرده داد باد\n",
      "من نیز دل به باد دهم، هر چه باد باد\n"
     ]
    },
    {
     "name": "stderr",
     "output_type": "stream",
     "text": [
      "Crawling Ghazals:  21%|██        | 103/495 [10:17<35:29,  5.43s/it]"
     ]
    },
    {
     "name": "stdout",
     "output_type": "stream",
     "text": [
      "روز وصلِ دوستداران یاد باد\n",
      "یاد باد آن روزگاران، یاد باد\n"
     ]
    },
    {
     "name": "stderr",
     "output_type": "stream",
     "text": [
      "Crawling Ghazals:  21%|██        | 104/495 [10:22<33:29,  5.14s/it]"
     ]
    },
    {
     "name": "stdout",
     "output_type": "stream",
     "text": [
      "جمالت آفتابِ هر نظر باد\n",
      "ز خوبی رویِ خوبت خوب‌تر باد\n"
     ]
    },
    {
     "name": "stderr",
     "output_type": "stream",
     "text": [
      "Crawling Ghazals:  21%|██        | 105/495 [10:31<42:02,  6.47s/it]"
     ]
    },
    {
     "name": "stdout",
     "output_type": "stream",
     "text": [
      "صوفی ار باده به اندازه خورَد نوشش باد\n",
      "ور نه اندیشهٔ این کار فراموشش باد\n"
     ]
    },
    {
     "name": "stderr",
     "output_type": "stream",
     "text": [
      "Crawling Ghazals:  21%|██▏       | 106/495 [10:36<37:50,  5.84s/it]"
     ]
    },
    {
     "name": "stdout",
     "output_type": "stream",
     "text": [
      "تَنَت به نازِ طبیبان نیازمند مباد\n",
      "وجود نازکت آزردهٔ گزند مباد\n"
     ]
    },
    {
     "name": "stderr",
     "output_type": "stream",
     "text": [
      "Crawling Ghazals:  22%|██▏       | 107/495 [10:40<34:37,  5.35s/it]"
     ]
    },
    {
     "name": "stdout",
     "output_type": "stream",
     "text": [
      "حُسن تو همیشه در فزون باد\n",
      "رویت همه ساله لاله‌گون باد\n"
     ]
    },
    {
     "name": "stderr",
     "output_type": "stream",
     "text": [
      "Crawling Ghazals:  22%|██▏       | 108/495 [10:46<36:25,  5.65s/it]"
     ]
    },
    {
     "name": "stdout",
     "output_type": "stream",
     "text": [
      "خسروا گویِ فلک در خَمِ چوگان تو باد\n",
      "ساحتِ کون و مکان عرصهٔ میدانِ تو باد\n"
     ]
    },
    {
     "name": "stderr",
     "output_type": "stream",
     "text": [
      "Crawling Ghazals:  22%|██▏       | 109/495 [10:51<33:52,  5.26s/it]"
     ]
    },
    {
     "name": "stdout",
     "output_type": "stream",
     "text": [
      "دیر است که دل‌دار پیامی نفرستاد\n",
      "ننوشت سلامی و کلامی نفرستاد\n"
     ]
    },
    {
     "name": "stderr",
     "output_type": "stream",
     "text": [
      "Crawling Ghazals:  22%|██▏       | 110/495 [11:00<40:54,  6.38s/it]"
     ]
    },
    {
     "name": "stdout",
     "output_type": "stream",
     "text": [
      "پیرانه سَرَم عشقِ جوانی به سر افتاد\n",
      "وان راز که در دل بِنَهفتم به درافتاد\n"
     ]
    },
    {
     "name": "stderr",
     "output_type": "stream",
     "text": [
      "Crawling Ghazals:  22%|██▏       | 111/495 [11:06<41:05,  6.42s/it]"
     ]
    },
    {
     "name": "stdout",
     "output_type": "stream",
     "text": [
      "عکسِ رویِ تو چو در آینهٔ جام افتاد\n",
      "عارف از خندهٔ مِی در طمعِ خام افتاد\n"
     ]
    },
    {
     "name": "stderr",
     "output_type": "stream",
     "text": [
      "Crawling Ghazals:  23%|██▎       | 112/495 [11:14<42:38,  6.68s/it]"
     ]
    },
    {
     "name": "stdout",
     "output_type": "stream",
     "text": [
      "آن که رخسارِ تو را رنگِ گل و نسرین داد\n",
      "صبر و آرام توانَد به منِ مسکین داد\n"
     ]
    },
    {
     "name": "stderr",
     "output_type": "stream",
     "text": [
      "Crawling Ghazals:  23%|██▎       | 113/495 [11:18<37:52,  5.95s/it]"
     ]
    },
    {
     "name": "stdout",
     "output_type": "stream",
     "text": [
      "بنفشه دوش به گل گفت و خوش نشانی داد\n",
      "که تابِ من به جهان، طُرِّهٔ فلانی داد\n"
     ]
    },
    {
     "name": "stderr",
     "output_type": "stream",
     "text": [
      "Crawling Ghazals:  23%|██▎       | 114/495 [11:24<38:56,  6.13s/it]"
     ]
    },
    {
     "name": "stdout",
     "output_type": "stream",
     "text": [
      "همایِ اوجِ سعادت به دامِ ما افتد\n",
      "اگر تو را گذری بر مقام ما افتد\n"
     ]
    },
    {
     "name": "stderr",
     "output_type": "stream",
     "text": [
      "Crawling Ghazals:  23%|██▎       | 115/495 [11:29<35:38,  5.63s/it]"
     ]
    },
    {
     "name": "stdout",
     "output_type": "stream",
     "text": [
      "درختِ دوستی بنشان که کامِ دل به بار آرد\n",
      "نهالِ دشمنی بَرکَن که رنج بی‌شمار آرد\n"
     ]
    },
    {
     "name": "stderr",
     "output_type": "stream",
     "text": [
      "Crawling Ghazals:  23%|██▎       | 116/495 [11:33<32:50,  5.20s/it]"
     ]
    },
    {
     "name": "stdout",
     "output_type": "stream",
     "text": [
      "کسی که حُسن و خَطِ دوست در نظر دارد\n",
      "محقَق است که او حاصل بصر دارد\n"
     ]
    },
    {
     "name": "stderr",
     "output_type": "stream",
     "text": [
      "Crawling Ghazals:  24%|██▎       | 117/495 [11:40<35:39,  5.66s/it]"
     ]
    },
    {
     "name": "stdout",
     "output_type": "stream",
     "text": [
      "دل ما به دور رویت ز چمن فَراغ دارد\n",
      "که چو سرو پایبند است و چو لاله داغ دارد\n"
     ]
    },
    {
     "name": "stderr",
     "output_type": "stream",
     "text": [
      "Crawling Ghazals:  24%|██▍       | 118/495 [11:45<34:02,  5.42s/it]"
     ]
    },
    {
     "name": "stdout",
     "output_type": "stream",
     "text": [
      "آن کس که به دست، جام دارد\n",
      "سلطانیِ جَم، مُدام دارد\n"
     ]
    },
    {
     "name": "stderr",
     "output_type": "stream",
     "text": [
      "Crawling Ghazals:  24%|██▍       | 119/495 [11:52<37:42,  6.02s/it]"
     ]
    },
    {
     "name": "stdout",
     "output_type": "stream",
     "text": [
      "دلی که غیب نمای است و جامِ جم دارد\n",
      "ز خاتمی که دمی گم شود، چه غم دارد؟\n"
     ]
    },
    {
     "name": "stderr",
     "output_type": "stream",
     "text": [
      "Crawling Ghazals:  24%|██▍       | 120/495 [11:59<39:11,  6.27s/it]"
     ]
    },
    {
     "name": "stdout",
     "output_type": "stream",
     "text": [
      "بتی دارم که گِرد گل ز سُنبل سایه‌بان دارد\n",
      "بهارِ عارضش خطّی به خونِ ارغوان دارد\n"
     ]
    },
    {
     "name": "stderr",
     "output_type": "stream",
     "text": [
      "Crawling Ghazals:  24%|██▍       | 121/495 [12:14<55:36,  8.92s/it]"
     ]
    },
    {
     "name": "stdout",
     "output_type": "stream",
     "text": [
      "هر آن کو خاطرِ مجموع و یارِ نازنین دارد\n",
      "سعادت همدم او گشت و دولتْ همنشین دارد\n"
     ]
    },
    {
     "name": "stderr",
     "output_type": "stream",
     "text": [
      "Crawling Ghazals:  25%|██▍       | 122/495 [12:19<47:44,  7.68s/it]"
     ]
    },
    {
     "name": "stdout",
     "output_type": "stream",
     "text": [
      "هر آن که جانبِ اهلِ خدا نگه دارد\n",
      "خُداش در همه حال از بلا نگه دارد\n"
     ]
    },
    {
     "name": "stderr",
     "output_type": "stream",
     "text": [
      "Crawling Ghazals:  25%|██▍       | 123/495 [12:25<45:03,  7.27s/it]"
     ]
    },
    {
     "name": "stdout",
     "output_type": "stream",
     "text": [
      "مطربِ عشق عجب ساز و نوایی دارد\n",
      "نقشِ هر نغمه که زد راه به جایی دارد\n"
     ]
    },
    {
     "name": "stderr",
     "output_type": "stream",
     "text": [
      "Crawling Ghazals:  25%|██▌       | 124/495 [12:30<40:40,  6.58s/it]"
     ]
    },
    {
     "name": "stdout",
     "output_type": "stream",
     "text": [
      "آن که از سُنبُلِ او، غالیه تابی دارد\n",
      "باز با دلشدگان ناز و عِتابی دارد\n"
     ]
    },
    {
     "name": "stderr",
     "output_type": "stream",
     "text": [
      "Crawling Ghazals:  25%|██▌       | 125/495 [12:34<36:37,  5.94s/it]"
     ]
    },
    {
     "name": "stdout",
     "output_type": "stream",
     "text": [
      "شاهد آن نیست که موییّ و میانی دارد\n",
      "بندهٔ طلعتِ آن باش که آنی دارد\n"
     ]
    },
    {
     "name": "stderr",
     "output_type": "stream",
     "text": [
      "Crawling Ghazals:  25%|██▌       | 126/495 [12:44<43:03,  7.00s/it]"
     ]
    },
    {
     "name": "stdout",
     "output_type": "stream",
     "text": [
      "جان، بی‌جمالِ جانان میلِ جهان ندارد\n",
      "هر کس که این ندارد حقّا که آن ندارد\n"
     ]
    },
    {
     "name": "stderr",
     "output_type": "stream",
     "text": [
      "Crawling Ghazals:  26%|██▌       | 127/495 [12:50<41:18,  6.73s/it]"
     ]
    },
    {
     "name": "stdout",
     "output_type": "stream",
     "text": [
      "روشنیِ طلعتِ تو ماه ندارد\n",
      "پیشِ تو گُل، رونقِ گیاه ندارد\n"
     ]
    },
    {
     "name": "stderr",
     "output_type": "stream",
     "text": [
      "Crawling Ghazals:  26%|██▌       | 128/495 [12:55<37:16,  6.09s/it]"
     ]
    },
    {
     "name": "stdout",
     "output_type": "stream",
     "text": [
      "نیست در شهر نگاری که دلِ ما بِبَرَد\n",
      "بختم ار یار شود رختم از این جا ببرد\n"
     ]
    },
    {
     "name": "stderr",
     "output_type": "stream",
     "text": [
      "Crawling Ghazals:  26%|██▌       | 129/495 [13:01<37:43,  6.18s/it]"
     ]
    },
    {
     "name": "stdout",
     "output_type": "stream",
     "text": [
      "اگر نه باده غمِ دل ز یادِ ما بِبَرَد\n",
      "نهیبِ حادثه بنیادِ ما ز جا بِبَرَد\n"
     ]
    },
    {
     "name": "stderr",
     "output_type": "stream",
     "text": [
      "Crawling Ghazals:  26%|██▋       | 130/495 [13:05<34:03,  5.60s/it]"
     ]
    },
    {
     "name": "stdout",
     "output_type": "stream",
     "text": [
      "سحر بلبل حکایت با صبا کرد\n",
      "که عشقِ رویِ گل با ما چه‌ها کرد\n"
     ]
    },
    {
     "name": "stderr",
     "output_type": "stream",
     "text": [
      "Crawling Ghazals:  26%|██▋       | 131/495 [13:10<32:26,  5.35s/it]"
     ]
    },
    {
     "name": "stdout",
     "output_type": "stream",
     "text": [
      "بیا که تُرکِ فلک خوانِ روزه غارت کرد\n",
      "هلالِ عید به دورِ قدح اشارت کرد\n"
     ]
    },
    {
     "name": "stderr",
     "output_type": "stream",
     "text": [
      "Crawling Ghazals:  27%|██▋       | 132/495 [13:20<41:02,  6.78s/it]"
     ]
    },
    {
     "name": "stdout",
     "output_type": "stream",
     "text": [
      "به آبِ روشنِ می عارفی طهارت کرد\n",
      "عَلَی الصَّباح، که میخانه را زیارت کرد\n"
     ]
    },
    {
     "name": "stderr",
     "output_type": "stream",
     "text": [
      "Crawling Ghazals:  27%|██▋       | 133/495 [13:28<42:31,  7.05s/it]"
     ]
    },
    {
     "name": "stdout",
     "output_type": "stream",
     "text": [
      "صوفی نهاد دام و سَرِ حُقِّه، باز کرد\n",
      "بنیادِ مکر با فلکِ حُقِّه‌باز کرد\n"
     ]
    },
    {
     "name": "stderr",
     "output_type": "stream",
     "text": [
      "Crawling Ghazals:  27%|██▋       | 134/495 [13:33<38:17,  6.36s/it]"
     ]
    },
    {
     "name": "stdout",
     "output_type": "stream",
     "text": [
      "بلبلی خونِ دلی خورد و گلی حاصل کرد\n",
      "بادِ غیرت به صدش خار، پریشان‌دل کرد\n"
     ]
    },
    {
     "name": "stderr",
     "output_type": "stream",
     "text": [
      "Crawling Ghazals:  27%|██▋       | 135/495 [13:39<38:09,  6.36s/it]"
     ]
    },
    {
     "name": "stdout",
     "output_type": "stream",
     "text": [
      "چو باد، عزمِ سرِ کویِ یار خواهم کرد\n",
      "نفس به بویِ خوشش مُشکبار خواهم کرد\n"
     ]
    },
    {
     "name": "stderr",
     "output_type": "stream",
     "text": [
      "Crawling Ghazals:  27%|██▋       | 136/495 [13:44<35:23,  5.91s/it]"
     ]
    },
    {
     "name": "stdout",
     "output_type": "stream",
     "text": [
      "دست در حلقهٔ آن زلفِ دوتا نتوان کرد\n",
      "تکیه بر عهدِ تو و بادِ صبا نتوان کرد\n"
     ]
    },
    {
     "name": "stderr",
     "output_type": "stream",
     "text": [
      "Crawling Ghazals:  28%|██▊       | 137/495 [13:48<32:26,  5.44s/it]"
     ]
    },
    {
     "name": "stdout",
     "output_type": "stream",
     "text": [
      "دل از من بُرد و روی از من نهان کرد\n",
      "خدا را با که این بازی توان کرد\n"
     ]
    },
    {
     "name": "stderr",
     "output_type": "stream",
     "text": [
      "Crawling Ghazals:  28%|██▊       | 138/495 [13:55<34:26,  5.79s/it]"
     ]
    },
    {
     "name": "stdout",
     "output_type": "stream",
     "text": [
      "یاد باد آن که ز ما وقتِ سفر یاد نکرد\n",
      "به وداعی دلِ غمدیدهٔ ما شاد نکرد\n"
     ]
    },
    {
     "name": "stderr",
     "output_type": "stream",
     "text": [
      "Crawling Ghazals:  28%|██▊       | 139/495 [13:59<32:17,  5.44s/it]"
     ]
    },
    {
     "name": "stdout",
     "output_type": "stream",
     "text": [
      "رو بر رَهَش نهادم و بر من گذر نکرد\n",
      "صد لطف چشم داشتم و یک نظر نکرد\n"
     ]
    },
    {
     "name": "stderr",
     "output_type": "stream",
     "text": [
      "Crawling Ghazals:  28%|██▊       | 140/495 [14:07<35:53,  6.07s/it]"
     ]
    },
    {
     "name": "stdout",
     "output_type": "stream",
     "text": [
      "دلبر بِرَفت و دلشدگان را خبر نکرد\n",
      "یادِ حریفِ شهر و رفیقِ سفر نکرد\n"
     ]
    },
    {
     "name": "stderr",
     "output_type": "stream",
     "text": [
      "Crawling Ghazals:  28%|██▊       | 141/495 [14:13<35:57,  6.10s/it]"
     ]
    },
    {
     "name": "stdout",
     "output_type": "stream",
     "text": [
      "دیدی ای دل که غمِ عشق دگربار چه کرد؟\n",
      "چون بشد دلبر و با یارِ وفادار چه کرد\n"
     ]
    },
    {
     "name": "stderr",
     "output_type": "stream",
     "text": [
      "Crawling Ghazals:  29%|██▊       | 142/495 [14:17<32:38,  5.55s/it]"
     ]
    },
    {
     "name": "stdout",
     "output_type": "stream",
     "text": [
      "دوستان دخترِ رَز توبه ز مستوری کرد\n",
      "شد سویِ محتسب و کار به دستوری کرد\n"
     ]
    },
    {
     "name": "stderr",
     "output_type": "stream",
     "text": [
      "Crawling Ghazals:  29%|██▉       | 143/495 [14:26<38:51,  6.62s/it]"
     ]
    },
    {
     "name": "stdout",
     "output_type": "stream",
     "text": [
      "سال‌ها دل طلبِ جامِ جم از ما می‌کرد\n",
      "وآنچه خود داشت ز بیگانه تمنّا می‌کرد\n"
     ]
    },
    {
     "name": "stderr",
     "output_type": "stream",
     "text": [
      "Crawling Ghazals:  29%|██▉       | 144/495 [14:33<39:12,  6.70s/it]"
     ]
    },
    {
     "name": "stdout",
     "output_type": "stream",
     "text": [
      "به سِرِّ جامِ جم آنگه نظر توانی کرد\n",
      "که خاکِ میکده کُحلِ بَصَر توانی کرد\n"
     ]
    },
    {
     "name": "stderr",
     "output_type": "stream",
     "text": [
      "Crawling Ghazals:  29%|██▉       | 145/495 [14:38<36:17,  6.22s/it]"
     ]
    },
    {
     "name": "stdout",
     "output_type": "stream",
     "text": [
      "چه مستی است؟ ندانم که رو به ما آورد\n",
      "که بود ساقی و این باده از کجا آورد؟\n"
     ]
    },
    {
     "name": "stderr",
     "output_type": "stream",
     "text": [
      "Crawling Ghazals:  29%|██▉       | 146/495 [14:43<32:50,  5.65s/it]"
     ]
    },
    {
     "name": "stdout",
     "output_type": "stream",
     "text": [
      "صبا وقتِ سحر بویی ز زلفِ یار می‌آورد\n",
      "دل شوریدهٔ ما را به بو، در کار می‌آورد\n"
     ]
    },
    {
     "name": "stderr",
     "output_type": "stream",
     "text": [
      "Crawling Ghazals:  30%|██▉       | 147/495 [14:52<39:13,  6.76s/it]"
     ]
    },
    {
     "name": "stdout",
     "output_type": "stream",
     "text": [
      "نسیمِ بادِ صبا دوشم آگهی آورد\n",
      "که روزِ محنت و غم رو به کوتهی آورد\n"
     ]
    },
    {
     "name": "stderr",
     "output_type": "stream",
     "text": [
      "Crawling Ghazals:  30%|██▉       | 148/495 [14:57<35:16,  6.10s/it]"
     ]
    },
    {
     "name": "stdout",
     "output_type": "stream",
     "text": [
      "یارم چو قدحْ به دست گیرد\n",
      "بازارِ بُتانْ شکست گیرد\n"
     ]
    },
    {
     "name": "stderr",
     "output_type": "stream",
     "text": [
      "Crawling Ghazals:  30%|███       | 149/495 [15:01<32:53,  5.70s/it]"
     ]
    },
    {
     "name": "stdout",
     "output_type": "stream",
     "text": [
      "دلم جز مِهرِ مَه‌رویان، طریقی بر نمی‌گیرد\n",
      "ز هر در می‌دهم پندش، ولیکن در نمی‌گیرد\n"
     ]
    },
    {
     "name": "stderr",
     "output_type": "stream",
     "text": [
      "Crawling Ghazals:  30%|███       | 150/495 [15:08<34:14,  5.96s/it]"
     ]
    },
    {
     "name": "stdout",
     "output_type": "stream",
     "text": [
      "ساقی ار باده از این دست به جام اندازد\n",
      "عارفان را همه در شُربِ مُدام اندازد\n"
     ]
    },
    {
     "name": "stderr",
     "output_type": "stream",
     "text": [
      "Crawling Ghazals:  31%|███       | 151/495 [15:13<32:24,  5.65s/it]"
     ]
    },
    {
     "name": "stdout",
     "output_type": "stream",
     "text": [
      "دَمی با غم به سر بردن، جهان یک سر نمی‌ارزد\n",
      "به می بفروش دلقِ ما، کز این بهتر نمی‌ارزد\n"
     ]
    },
    {
     "name": "stderr",
     "output_type": "stream",
     "text": [
      "Crawling Ghazals:  31%|███       | 152/495 [15:18<31:52,  5.58s/it]"
     ]
    },
    {
     "name": "stdout",
     "output_type": "stream",
     "text": [
      "در ازل پرتوِ حُسنت ز تجلی دَم زد\n",
      "عشق پیدا شد و آتش به همه عالم زد\n"
     ]
    },
    {
     "name": "stderr",
     "output_type": "stream",
     "text": [
      "Crawling Ghazals:  31%|███       | 153/495 [15:25<33:57,  5.96s/it]"
     ]
    },
    {
     "name": "stdout",
     "output_type": "stream",
     "text": [
      "سحر چون خسرو خاور، عَلَم بر کوهساران زد\n",
      "به دستِ مرحمت، یارم، درِ امیدواران زد\n"
     ]
    },
    {
     "name": "stderr",
     "output_type": "stream",
     "text": [
      "Crawling Ghazals:  31%|███       | 154/495 [15:37<43:40,  7.69s/it]"
     ]
    },
    {
     "name": "stdout",
     "output_type": "stream",
     "text": [
      "راهی بزن که آهی بر سازِ آن توان زد\n",
      "شعری بخوان که با او رَطلِ گران توان زد\n"
     ]
    },
    {
     "name": "stderr",
     "output_type": "stream",
     "text": [
      "Crawling Ghazals:  31%|███▏      | 155/495 [15:41<38:00,  6.71s/it]"
     ]
    },
    {
     "name": "stdout",
     "output_type": "stream",
     "text": [
      "اگر روم ز پِی‌اش فتنه‌ها برانگیزد\n",
      "ور از طلب بنشینم به کینه برخیزد\n"
     ]
    },
    {
     "name": "stderr",
     "output_type": "stream",
     "text": [
      "Crawling Ghazals:  32%|███▏      | 156/495 [15:48<37:29,  6.64s/it]"
     ]
    },
    {
     "name": "stdout",
     "output_type": "stream",
     "text": [
      "به حسن و خُلق و وفا کس به یارِ ما نرسد\n",
      "تو را در این سخن، انکارِ کارِ ما نرسد\n"
     ]
    },
    {
     "name": "stderr",
     "output_type": "stream",
     "text": [
      "Crawling Ghazals:  32%|███▏      | 157/495 [15:53<34:27,  6.12s/it]"
     ]
    },
    {
     "name": "stdout",
     "output_type": "stream",
     "text": [
      "هر که را با خطِ سبزت سرِ سودا باشد\n",
      "پای از این دایره بیرون نَنِهَد تا باشد\n"
     ]
    },
    {
     "name": "stderr",
     "output_type": "stream",
     "text": [
      "Crawling Ghazals:  32%|███▏      | 158/495 [15:57<31:30,  5.61s/it]"
     ]
    },
    {
     "name": "stdout",
     "output_type": "stream",
     "text": [
      "من و انکارِ شراب! این چه حکایت باشد؟\n",
      "غالباً این قَدَرَم عقل و کِفایت باشد\n"
     ]
    },
    {
     "name": "stderr",
     "output_type": "stream",
     "text": [
      "Crawling Ghazals:  32%|███▏      | 159/495 [16:04<32:50,  5.86s/it]"
     ]
    },
    {
     "name": "stdout",
     "output_type": "stream",
     "text": [
      "نقدِ صوفی نه همه صافیِ بی‌غَش باشد\n",
      "ای بسا خرقه که مُستوجبِ آتش باشد\n"
     ]
    },
    {
     "name": "stderr",
     "output_type": "stream",
     "text": [
      "Crawling Ghazals:  32%|███▏      | 160/495 [16:08<30:12,  5.41s/it]"
     ]
    },
    {
     "name": "stdout",
     "output_type": "stream",
     "text": [
      "خوش است خلوت اگر یار یارِ من باشد\n",
      "نه من بسوزم و او شمعِ انجمن باشد\n"
     ]
    },
    {
     "name": "stderr",
     "output_type": "stream",
     "text": [
      "Crawling Ghazals:  33%|███▎      | 161/495 [16:16<34:06,  6.13s/it]"
     ]
    },
    {
     "name": "stdout",
     "output_type": "stream",
     "text": [
      "کِی شعر تر انگیزد خاطر که حزین باشد\n",
      "یک نکته از این معنی گفتیم و همین باشد\n"
     ]
    },
    {
     "name": "stderr",
     "output_type": "stream",
     "text": [
      "Crawling Ghazals:  33%|███▎      | 162/495 [16:23<35:01,  6.31s/it]"
     ]
    },
    {
     "name": "stdout",
     "output_type": "stream",
     "text": [
      "خوش آمد گُل وز آن خوش‌تر نباشد\n",
      "که در دستت به جز ساغر نباشد\n"
     ]
    },
    {
     "name": "stderr",
     "output_type": "stream",
     "text": [
      "Crawling Ghazals:  33%|███▎      | 163/495 [16:27<31:31,  5.70s/it]"
     ]
    },
    {
     "name": "stdout",
     "output_type": "stream",
     "text": [
      "گل بی‌رخِ یار خوش نباشد\n",
      "بی‌باده بهار خوش نباشد\n"
     ]
    },
    {
     "name": "stderr",
     "output_type": "stream",
     "text": [
      "Crawling Ghazals:  33%|███▎      | 164/495 [16:31<29:23,  5.33s/it]"
     ]
    },
    {
     "name": "stdout",
     "output_type": "stream",
     "text": [
      "نفسِ بادِ صبا مُشک‌فشان خواهد شد\n",
      "عالَمِ پیر دگرباره جوان خواهد شد\n"
     ]
    },
    {
     "name": "stderr",
     "output_type": "stream",
     "text": [
      "Crawling Ghazals:  33%|███▎      | 165/495 [16:42<37:41,  6.85s/it]"
     ]
    },
    {
     "name": "stdout",
     "output_type": "stream",
     "text": [
      "مرا مِهر سیَه چشمان ز سر بیرون نخواهد شد\n",
      "قضای آسمان است این و دیگرگون نخواهد شد\n"
     ]
    },
    {
     "name": "stderr",
     "output_type": "stream",
     "text": [
      "Crawling Ghazals:  34%|███▎      | 166/495 [16:46<33:33,  6.12s/it]"
     ]
    },
    {
     "name": "stdout",
     "output_type": "stream",
     "text": [
      "روزِ هجران و شبِ فُرقَتِ یار آخر شد\n",
      "زدم این فال و گذشت اختر و کار آخر شد\n"
     ]
    },
    {
     "name": "stderr",
     "output_type": "stream",
     "text": [
      "Crawling Ghazals:  34%|███▎      | 167/495 [16:51<31:33,  5.77s/it]"
     ]
    },
    {
     "name": "stdout",
     "output_type": "stream",
     "text": [
      "ستاره‌ای بدرخشید و ماهِ مجلس شد\n",
      "دل رمیدهٔ ما را رفیق و مونس شد\n"
     ]
    },
    {
     "name": "stderr",
     "output_type": "stream",
     "text": [
      "Crawling Ghazals:  34%|███▍      | 168/495 [17:00<37:26,  6.87s/it]"
     ]
    },
    {
     "name": "stdout",
     "output_type": "stream",
     "text": [
      "گداخت جان که شود کارِ دل تمام و نشد\n",
      "بسوختیم در این آرزویِ خام و نشد\n"
     ]
    },
    {
     "name": "stderr",
     "output_type": "stream",
     "text": [
      "Crawling Ghazals:  34%|███▍      | 169/495 [17:05<33:31,  6.17s/it]"
     ]
    },
    {
     "name": "stdout",
     "output_type": "stream",
     "text": [
      "یاری اندر کس نمی‌بینیم، یاران را چه شد؟\n",
      "دوستی کِی آخر آمد؟ دوست‌دار‌ان را چه شد؟\n"
     ]
    },
    {
     "name": "stderr",
     "output_type": "stream",
     "text": [
      "Crawling Ghazals:  34%|███▍      | 170/495 [17:10<31:28,  5.81s/it]"
     ]
    },
    {
     "name": "stdout",
     "output_type": "stream",
     "text": [
      "زاهدِ خلوت‌نشین، دوش به مِیخانه شد\n",
      "از سرِ پیمان بِرَفت، با سرِ پیمانه شد\n"
     ]
    },
    {
     "name": "stderr",
     "output_type": "stream",
     "text": [
      "Crawling Ghazals:  35%|███▍      | 171/495 [17:16<32:26,  6.01s/it]"
     ]
    },
    {
     "name": "stdout",
     "output_type": "stream",
     "text": [
      "دوش از جنابِ آصف، پیکِ بشارت آمد\n",
      "کز حضرتِ سلیمان، عشرت اشارت آمد\n"
     ]
    },
    {
     "name": "stderr",
     "output_type": "stream",
     "text": [
      "Crawling Ghazals:  35%|███▍      | 172/495 [17:23<33:40,  6.25s/it]"
     ]
    },
    {
     "name": "stdout",
     "output_type": "stream",
     "text": [
      "عشقِ تو نهالِ حیرت آمد\n",
      "وصلِ تو کمالِ حیرت آمد\n"
     ]
    },
    {
     "name": "stderr",
     "output_type": "stream",
     "text": [
      "Crawling Ghazals:  35%|███▍      | 173/495 [17:28<31:51,  5.94s/it]"
     ]
    },
    {
     "name": "stdout",
     "output_type": "stream",
     "text": [
      "در نمازم خَمِ ابرویِ تو با یاد آمد\n",
      "حالتی رفت که محراب به فریاد آمد\n"
     ]
    },
    {
     "name": "stderr",
     "output_type": "stream",
     "text": [
      "Crawling Ghazals:  35%|███▌      | 174/495 [17:35<32:15,  6.03s/it]"
     ]
    },
    {
     "name": "stdout",
     "output_type": "stream",
     "text": [
      "مژده ای دل که دگر بادِ صبا بازآمد\n",
      "هدهد خوش‌خبر از طَرْفِ سبا بازآمد\n"
     ]
    },
    {
     "name": "stderr",
     "output_type": "stream",
     "text": [
      "Crawling Ghazals:  35%|███▌      | 175/495 [17:42<34:11,  6.41s/it]"
     ]
    },
    {
     "name": "stdout",
     "output_type": "stream",
     "text": [
      "صبا به تهنیتِ پیرِ مِی‌فروش آمد\n",
      "که موسمِ طرب و عیش و ناز و نوش آمد\n"
     ]
    },
    {
     "name": "stderr",
     "output_type": "stream",
     "text": [
      "Crawling Ghazals:  36%|███▌      | 176/495 [17:50<37:19,  7.02s/it]"
     ]
    },
    {
     "name": "stdout",
     "output_type": "stream",
     "text": [
      "سَحَرم دولتِ بیدار به بالین آمد\n",
      "گفت برخیز که آن خسرو شیرین آمد\n"
     ]
    },
    {
     "name": "stderr",
     "output_type": "stream",
     "text": [
      "Crawling Ghazals:  36%|███▌      | 177/495 [17:57<36:46,  6.94s/it]"
     ]
    },
    {
     "name": "stdout",
     "output_type": "stream",
     "text": [
      "نه هر که چهره برافروخت دلبری داند\n",
      "نه هر که آینه سازد سِکندری داند\n"
     ]
    },
    {
     "name": "stderr",
     "output_type": "stream",
     "text": [
      "Crawling Ghazals:  36%|███▌      | 178/495 [18:02<32:52,  6.22s/it]"
     ]
    },
    {
     "name": "stdout",
     "output_type": "stream",
     "text": [
      "هر که شد مَحرمِ دل در حرمِ یار بِمانْد\n",
      "وان که این کار ندانست در انکار بِمانْد\n"
     ]
    },
    {
     "name": "stderr",
     "output_type": "stream",
     "text": [
      "Crawling Ghazals:  36%|███▌      | 179/495 [18:06<30:18,  5.75s/it]"
     ]
    },
    {
     "name": "stdout",
     "output_type": "stream",
     "text": [
      "رسید مژده که ایّامِ غم نخواهد ماند\n",
      "چنان نماند چنین نیز هم نخواهد ماند\n"
     ]
    },
    {
     "name": "stderr",
     "output_type": "stream",
     "text": [
      "Crawling Ghazals:  36%|███▋      | 180/495 [18:13<31:24,  5.98s/it]"
     ]
    },
    {
     "name": "stdout",
     "output_type": "stream",
     "text": [
      "ای پستهٔ تو خنده زده بر حدیثِ قند\n",
      "مشتاقم از برای خدا یک شِکَر بخند\n"
     ]
    },
    {
     "name": "stderr",
     "output_type": "stream",
     "text": [
      "Crawling Ghazals:  37%|███▋      | 181/495 [18:17<28:46,  5.50s/it]"
     ]
    },
    {
     "name": "stdout",
     "output_type": "stream",
     "text": [
      "بعد از این دستِ من و دامنِ آن سروِ بلند\n",
      "که به بالای چَمان از بُن و بیخَم بَرکَنْد\n"
     ]
    },
    {
     "name": "stderr",
     "output_type": "stream",
     "text": [
      "Crawling Ghazals:  37%|███▋      | 182/495 [18:25<31:43,  6.08s/it]"
     ]
    },
    {
     "name": "stdout",
     "output_type": "stream",
     "text": [
      "حَسْبِ حالی نَنِوِشتی و شد ایّامی چند\n",
      "مَحرمی کو که فرستم به تو پیغامی چند؟\n"
     ]
    },
    {
     "name": "stderr",
     "output_type": "stream",
     "text": [
      "Crawling Ghazals:  37%|███▋      | 183/495 [18:31<31:57,  6.15s/it]"
     ]
    },
    {
     "name": "stdout",
     "output_type": "stream",
     "text": [
      "دوش وقتِ سَحَر از غُصّه نجاتم دادند\n",
      "واندر آن ظلمتِ شب آبِ حیاتم دادند\n"
     ]
    },
    {
     "name": "stderr",
     "output_type": "stream",
     "text": [
      "Crawling Ghazals:  37%|███▋      | 184/495 [18:35<29:07,  5.62s/it]"
     ]
    },
    {
     "name": "stdout",
     "output_type": "stream",
     "text": [
      "دوش دیدم که ملائک درِ میخانه زدند\n",
      "گِلِ آدم بسرشتَند و به پیمانه زدند\n"
     ]
    },
    {
     "name": "stderr",
     "output_type": "stream",
     "text": [
      "Crawling Ghazals:  37%|███▋      | 185/495 [18:40<26:56,  5.22s/it]"
     ]
    },
    {
     "name": "stdout",
     "output_type": "stream",
     "text": [
      "نقدها را بُوَد آیا که عَیاری گیرند؟\n",
      "تا همه صومعه‌داران پیِ کاری گیرند\n"
     ]
    },
    {
     "name": "stderr",
     "output_type": "stream",
     "text": [
      "Crawling Ghazals:  38%|███▊      | 186/495 [18:46<28:42,  5.58s/it]"
     ]
    },
    {
     "name": "stdout",
     "output_type": "stream",
     "text": [
      "گر مِی‌فروش حاجتِ رندان روا کند\n",
      "ایزد گنه ببخشد و دفعِ بلا کند\n"
     ]
    },
    {
     "name": "stderr",
     "output_type": "stream",
     "text": [
      "Crawling Ghazals:  38%|███▊      | 187/495 [18:54<32:54,  6.41s/it]"
     ]
    },
    {
     "name": "stdout",
     "output_type": "stream",
     "text": [
      "دلا بسوز که سوزِ تو کارها بِکُنَد\n",
      "نیازِ نیمْ‌شبی دفعِ صد بلا بِکُنَد\n"
     ]
    },
    {
     "name": "stderr",
     "output_type": "stream",
     "text": [
      "Crawling Ghazals:  38%|███▊      | 188/495 [18:59<29:30,  5.77s/it]"
     ]
    },
    {
     "name": "stdout",
     "output_type": "stream",
     "text": [
      "مرا به رندی و عشق، آن فضول عیب کُنَد\n",
      "که اعتراض بر اسرارِ علمِ غیب کُنَد\n"
     ]
    },
    {
     "name": "stderr",
     "output_type": "stream",
     "text": [
      "Crawling Ghazals:  38%|███▊      | 189/495 [19:09<35:44,  7.01s/it]"
     ]
    },
    {
     "name": "stdout",
     "output_type": "stream",
     "text": [
      "طایرِ دولت اگر باز گذاری بِکُنَد\n",
      "یار بازآید و با وصل قراری بِکُنَد\n"
     ]
    },
    {
     "name": "stderr",
     "output_type": "stream",
     "text": [
      "Crawling Ghazals:  38%|███▊      | 190/495 [19:13<31:33,  6.21s/it]"
     ]
    },
    {
     "name": "stdout",
     "output_type": "stream",
     "text": [
      "کِلکِ مشکین تو روزی که ز ما یاد کند\n",
      "بِبَرَد اجرِ دو صد بنده که آزاد کند\n"
     ]
    },
    {
     "name": "stderr",
     "output_type": "stream",
     "text": [
      "Crawling Ghazals:  39%|███▊      | 191/495 [19:18<29:08,  5.75s/it]"
     ]
    },
    {
     "name": "stdout",
     "output_type": "stream",
     "text": [
      "آن کیست کز رویِ کرم، با ما وفاداری کند\n",
      "بر جایِ بدکاری چو من، یک دَم نکوکاری کند\n"
     ]
    },
    {
     "name": "stderr",
     "output_type": "stream",
     "text": [
      "Crawling Ghazals:  39%|███▉      | 192/495 [19:25<30:46,  6.10s/it]"
     ]
    },
    {
     "name": "stdout",
     "output_type": "stream",
     "text": [
      "سروِ چَمانِ من چرا میلِ چمن نمی‌کند؟\n",
      "همدمِ گل نمی‌شود، یادِ سَمَن نمی‌کند\n"
     ]
    },
    {
     "name": "stderr",
     "output_type": "stream",
     "text": [
      "Crawling Ghazals:  39%|███▉      | 193/495 [19:29<28:51,  5.73s/it]"
     ]
    },
    {
     "name": "stdout",
     "output_type": "stream",
     "text": [
      "در نظربازیِ ما بی‌خبران حیرانند\n",
      "من چُنینم که نمودم دگر ایشان دانند\n"
     ]
    },
    {
     "name": "stderr",
     "output_type": "stream",
     "text": [
      "Crawling Ghazals:  39%|███▉      | 194/495 [19:34<27:25,  5.47s/it]"
     ]
    },
    {
     "name": "stdout",
     "output_type": "stream",
     "text": [
      "سَمَن‌بویان غبارِ غم چو بنشینند، بنشانند\n",
      "پری‌رویان قرار از دل چو بستیزند، بستانند\n"
     ]
    },
    {
     "name": "stderr",
     "output_type": "stream",
     "text": [
      "Crawling Ghazals:  39%|███▉      | 195/495 [19:41<28:50,  5.77s/it]"
     ]
    },
    {
     "name": "stdout",
     "output_type": "stream",
     "text": [
      "غلامِ نرگسِ مستِ تو تاجدارانند\n",
      "خرابِ بادهٔ لعلِ تو هوشیارانند\n"
     ]
    },
    {
     "name": "stderr",
     "output_type": "stream",
     "text": [
      "Crawling Ghazals:  40%|███▉      | 196/495 [19:49<32:18,  6.48s/it]"
     ]
    },
    {
     "name": "stdout",
     "output_type": "stream",
     "text": [
      "آنان که خاک را به نظر کیمیا کنند\n",
      "آیا بُوَد که گوشهٔ چشمی به ما کنند\n"
     ]
    },
    {
     "name": "stderr",
     "output_type": "stream",
     "text": [
      "Crawling Ghazals:  40%|███▉      | 197/495 [19:53<29:19,  5.90s/it]"
     ]
    },
    {
     "name": "stdout",
     "output_type": "stream",
     "text": [
      "شاهدان گر دلبری زین سان کنند\n",
      "زاهدان را رخنه در ایمان کنند\n"
     ]
    },
    {
     "name": "stderr",
     "output_type": "stream",
     "text": [
      "Crawling Ghazals:  40%|████      | 198/495 [20:04<35:44,  7.22s/it]"
     ]
    },
    {
     "name": "stdout",
     "output_type": "stream",
     "text": [
      "گفتم کِی ام دهان و لبت کامران کنند؟\n",
      "گفتا به چشم هر چه تو گویی چُنان کنند\n"
     ]
    },
    {
     "name": "stderr",
     "output_type": "stream",
     "text": [
      "Crawling Ghazals:  40%|████      | 199/495 [20:08<31:42,  6.43s/it]"
     ]
    },
    {
     "name": "stdout",
     "output_type": "stream",
     "text": [
      "واعظان کاین جلوه در محراب و منبر می‌کنند\n",
      "چون به خلوت می‌روند آن کارِ دیگر می‌کنند!\n"
     ]
    },
    {
     "name": "stderr",
     "output_type": "stream",
     "text": [
      "Crawling Ghazals:  40%|████      | 200/495 [20:13<28:44,  5.85s/it]"
     ]
    },
    {
     "name": "stdout",
     "output_type": "stream",
     "text": [
      "دانی که چنگ و عود چه تَقریر می‌کنند؟\n",
      "پنهان خورید باده که تَعزیر می‌کنند\n"
     ]
    },
    {
     "name": "stderr",
     "output_type": "stream",
     "text": [
      "Crawling Ghazals:  41%|████      | 201/495 [20:19<29:27,  6.01s/it]"
     ]
    },
    {
     "name": "stdout",
     "output_type": "stream",
     "text": [
      "شرابِ بی‌غَش و ساقیِّ خوش دو دامِ رهند\n",
      "که زیرکانِ جهان از کمندشان نَرَهَند\n"
     ]
    },
    {
     "name": "stderr",
     "output_type": "stream",
     "text": [
      "Crawling Ghazals:  41%|████      | 202/495 [20:24<27:06,  5.55s/it]"
     ]
    },
    {
     "name": "stdout",
     "output_type": "stream",
     "text": [
      "بُوَد آیا که درِ میکده‌ها بگشایند؟\n",
      "گره از کارِ فروبستهٔ ما بگشایند؟\n"
     ]
    },
    {
     "name": "stderr",
     "output_type": "stream",
     "text": [
      "Crawling Ghazals:  41%|████      | 203/495 [20:32<30:45,  6.32s/it]"
     ]
    },
    {
     "name": "stdout",
     "output_type": "stream",
     "text": [
      "سال‌ها دفترِ ما در گرو صَهبا بود\n",
      "رونقِ میکده از درس و دعایِ ما بود\n"
     ]
    },
    {
     "name": "stderr",
     "output_type": "stream",
     "text": [
      "Crawling Ghazals:  41%|████      | 204/495 [20:41<34:40,  7.15s/it]"
     ]
    },
    {
     "name": "stdout",
     "output_type": "stream",
     "text": [
      "یاد باد آن که نَهانَت نظری با ما بود\n",
      "رَقَمِ مِهرِ تو بر چهرهٔ ما پیدا بود\n"
     ]
    },
    {
     "name": "stderr",
     "output_type": "stream",
     "text": [
      "Crawling Ghazals:  41%|████▏     | 205/495 [20:51<38:42,  8.01s/it]"
     ]
    },
    {
     "name": "stdout",
     "output_type": "stream",
     "text": [
      "Error fetching ghazal 205: HTTPSConnectionPool(host='ganjoor.net', port=443): Read timed out. (read timeout=10)\n"
     ]
    },
    {
     "name": "stderr",
     "output_type": "stream",
     "text": [
      "Crawling Ghazals:  42%|████▏     | 206/495 [20:57<35:46,  7.43s/it]"
     ]
    },
    {
     "name": "stdout",
     "output_type": "stream",
     "text": [
      "پیش از اینَت بیش از این اندیشهٔ عُشّاق بود\n",
      "مِهرورزیِ تو با ما شُهرهٔ آفاق بود\n"
     ]
    },
    {
     "name": "stderr",
     "output_type": "stream",
     "text": [
      "Crawling Ghazals:  42%|████▏     | 207/495 [21:04<34:59,  7.29s/it]"
     ]
    },
    {
     "name": "stdout",
     "output_type": "stream",
     "text": [
      "یاد باد آن که سرِ کویِ توام منزل بود\n",
      "دیده را روشنی از خاکِ درت حاصل بود\n"
     ]
    },
    {
     "name": "stderr",
     "output_type": "stream",
     "text": [
      "Crawling Ghazals:  42%|████▏     | 208/495 [21:14<38:46,  8.11s/it]"
     ]
    },
    {
     "name": "stdout",
     "output_type": "stream",
     "text": [
      "Error fetching ghazal 208: HTTPSConnectionPool(host='ganjoor.net', port=443): Read timed out. (read timeout=10)\n"
     ]
    },
    {
     "name": "stderr",
     "output_type": "stream",
     "text": [
      "Crawling Ghazals:  42%|████▏     | 209/495 [21:28<47:06,  9.88s/it]"
     ]
    },
    {
     "name": "stdout",
     "output_type": "stream",
     "text": [
      "Error fetching ghazal 209: HTTPSConnectionPool(host='ganjoor.net', port=443): Read timed out. (read timeout=10)\n"
     ]
    },
    {
     "name": "stderr",
     "output_type": "stream",
     "text": [
      "Crawling Ghazals:  42%|████▏     | 210/495 [21:43<54:16, 11.43s/it]"
     ]
    },
    {
     "name": "stdout",
     "output_type": "stream",
     "text": [
      "Error fetching ghazal 210: HTTPSConnectionPool(host='ganjoor.net', port=443): Read timed out. (read timeout=10)\n"
     ]
    },
    {
     "name": "stderr",
     "output_type": "stream",
     "text": [
      "Crawling Ghazals:  43%|████▎     | 211/495 [21:47<44:08,  9.32s/it]"
     ]
    },
    {
     "name": "stdout",
     "output_type": "stream",
     "text": [
      "دوش می‌آمد و رخساره برافروخته بود\n",
      "تا کجا باز دلِ غمزده‌ای سوخته بود\n"
     ]
    },
    {
     "name": "stderr",
     "output_type": "stream",
     "text": [
      "Crawling Ghazals:  43%|████▎     | 212/495 [21:52<36:55,  7.83s/it]"
     ]
    },
    {
     "name": "stdout",
     "output_type": "stream",
     "text": [
      "یک دو جامم دی سحرگه اتفاق افتاده بود\n",
      "وز لبِ ساقی شرابم در مَذاق افتاده بود\n"
     ]
    },
    {
     "name": "stderr",
     "output_type": "stream",
     "text": [
      "Crawling Ghazals:  43%|████▎     | 213/495 [21:58<34:36,  7.36s/it]"
     ]
    },
    {
     "name": "stdout",
     "output_type": "stream",
     "text": [
      "گوهرِ مخزنِ اسرار همان است که بود\n",
      "حُقِّهٔ مِهر بدان مُهر و نشان است که بود\n"
     ]
    },
    {
     "name": "stderr",
     "output_type": "stream",
     "text": [
      "Crawling Ghazals:  43%|████▎     | 214/495 [22:02<30:14,  6.46s/it]"
     ]
    },
    {
     "name": "stdout",
     "output_type": "stream",
     "text": [
      "دیدم به خوابِ خوش که به دستم پیاله بود\n",
      "تعبیر رفت و کار به دولت حواله بود\n"
     ]
    },
    {
     "name": "stderr",
     "output_type": "stream",
     "text": [
      "Crawling Ghazals:  43%|████▎     | 215/495 [22:07<27:14,  5.84s/it]"
     ]
    },
    {
     "name": "stdout",
     "output_type": "stream",
     "text": [
      "به کویِ میکده یا رب سحر چه مشغله بود؟\n",
      "که جوشِ شاهد و ساقی و شمع و مشعله بود\n"
     ]
    },
    {
     "name": "stderr",
     "output_type": "stream",
     "text": [
      "Crawling Ghazals:  44%|████▎     | 216/495 [22:13<27:49,  5.98s/it]"
     ]
    },
    {
     "name": "stdout",
     "output_type": "stream",
     "text": [
      "آن یار کز او خانهٔ ما جایِ پَری بود\n",
      "سر تا قدمش چون پَری از عیب بَری بود\n"
     ]
    },
    {
     "name": "stderr",
     "output_type": "stream",
     "text": [
      "Crawling Ghazals:  44%|████▍     | 217/495 [22:20<29:24,  6.35s/it]"
     ]
    },
    {
     "name": "stdout",
     "output_type": "stream",
     "text": [
      "مسلمانان مرا وقتی دلی بود\n",
      "که با وی گفتمی گر مشکلی بود\n"
     ]
    },
    {
     "name": "stderr",
     "output_type": "stream",
     "text": [
      "Crawling Ghazals:  44%|████▍     | 218/495 [22:25<26:24,  5.72s/it]"
     ]
    },
    {
     "name": "stdout",
     "output_type": "stream",
     "text": [
      "در ازل هر کو به فیضِ دولت ارزانی بُوَد\n",
      "تا ابد جامِ مرادش همدمِ جانی بُوَد\n"
     ]
    },
    {
     "name": "stderr",
     "output_type": "stream",
     "text": [
      "Crawling Ghazals:  44%|████▍     | 219/495 [22:31<27:12,  5.91s/it]"
     ]
    },
    {
     "name": "stdout",
     "output_type": "stream",
     "text": [
      "کنون که در چمن آمد گُل از عَدَم به وجود\n",
      "بنفشه در قدمِ او نهاد سر به سجود\n"
     ]
    },
    {
     "name": "stderr",
     "output_type": "stream",
     "text": [
      "Crawling Ghazals:  44%|████▍     | 220/495 [22:45<38:15,  8.35s/it]"
     ]
    },
    {
     "name": "stdout",
     "output_type": "stream",
     "text": [
      "Error fetching ghazal 220: HTTPSConnectionPool(host='ganjoor.net', port=443): Read timed out. (read timeout=10)\n"
     ]
    },
    {
     "name": "stderr",
     "output_type": "stream",
     "text": [
      "Crawling Ghazals:  45%|████▍     | 221/495 [22:55<40:24,  8.85s/it]"
     ]
    },
    {
     "name": "stdout",
     "output_type": "stream",
     "text": [
      "Error fetching ghazal 221: HTTPSConnectionPool(host='ganjoor.net', port=443): Read timed out. (read timeout=10)\n"
     ]
    },
    {
     "name": "stderr",
     "output_type": "stream",
     "text": [
      "Crawling Ghazals:  45%|████▍     | 222/495 [23:01<36:58,  8.13s/it]"
     ]
    },
    {
     "name": "stdout",
     "output_type": "stream",
     "text": [
      "از سرِ کویِ تو هر کو به ملالت برود\n",
      "نرود کارش و آخِر به خجالت برود\n"
     ]
    },
    {
     "name": "stderr",
     "output_type": "stream",
     "text": [
      "Crawling Ghazals:  45%|████▌     | 223/495 [23:06<31:48,  7.02s/it]"
     ]
    },
    {
     "name": "stdout",
     "output_type": "stream",
     "text": [
      "هرگزم نقشِ تو از لوحِ دل و جان نَرَوَد\n",
      "هرگز از یادِ من آن سروِ خرامان نَرَوَد\n"
     ]
    },
    {
     "name": "stderr",
     "output_type": "stream",
     "text": [
      "Crawling Ghazals:  45%|████▌     | 224/495 [23:13<32:18,  7.15s/it]"
     ]
    },
    {
     "name": "stdout",
     "output_type": "stream",
     "text": [
      "خوشا دلی که مدام از پِی نظر نرود\n",
      "به هر دَرَش که بخوانند بی‌خبر نرود\n"
     ]
    },
    {
     "name": "stderr",
     "output_type": "stream",
     "text": [
      "Crawling Ghazals:  45%|████▌     | 225/495 [23:20<31:22,  6.97s/it]"
     ]
    },
    {
     "name": "stdout",
     "output_type": "stream",
     "text": [
      "ساقی حدیثِ سرو و گل و لاله می‌رود\n",
      "وین بحث با ثَلاثهٔ غَسّاله می‌رود\n"
     ]
    },
    {
     "name": "stderr",
     "output_type": "stream",
     "text": [
      "Crawling Ghazals:  46%|████▌     | 226/495 [23:25<28:13,  6.29s/it]"
     ]
    },
    {
     "name": "stdout",
     "output_type": "stream",
     "text": [
      "ترسم که اشک در غمِ ما پرده‌در شود\n",
      "وین رازِ سر به مُهر به عالَم سَمَر شود\n"
     ]
    },
    {
     "name": "stderr",
     "output_type": "stream",
     "text": [
      "Crawling Ghazals:  46%|████▌     | 227/495 [23:36<35:31,  7.95s/it]"
     ]
    },
    {
     "name": "stdout",
     "output_type": "stream",
     "text": [
      "Error fetching ghazal 227: HTTPSConnectionPool(host='ganjoor.net', port=443): Read timed out.\n"
     ]
    },
    {
     "name": "stderr",
     "output_type": "stream",
     "text": [
      "Crawling Ghazals:  46%|████▌     | 228/495 [23:41<31:19,  7.04s/it]"
     ]
    },
    {
     "name": "stdout",
     "output_type": "stream",
     "text": [
      "گر من از باغِ تو یک میوه بچینم چه شود؟\n",
      "پیش پایی به چراغِ تو ببینم چه شود؟\n"
     ]
    },
    {
     "name": "stderr",
     "output_type": "stream",
     "text": [
      "Crawling Ghazals:  46%|████▋     | 229/495 [23:44<25:42,  5.80s/it]"
     ]
    },
    {
     "name": "stdout",
     "output_type": "stream",
     "text": [
      "بخت از دهانِ دوست نشانم نمی‌دهد\n",
      "دولت خبر ز رازِ نهانم نمی‌دهد\n"
     ]
    },
    {
     "name": "stderr",
     "output_type": "stream",
     "text": [
      "Crawling Ghazals:  46%|████▋     | 230/495 [23:47<21:52,  4.95s/it]"
     ]
    },
    {
     "name": "stdout",
     "output_type": "stream",
     "text": [
      "اگر به بادهٔ مُشکین دلم کشد، شاید\n",
      "که بویِ خیر ز زهدِ ریا نمی‌آید\n"
     ]
    },
    {
     "name": "stderr",
     "output_type": "stream",
     "text": [
      "Crawling Ghazals:  47%|████▋     | 231/495 [24:00<31:31,  7.17s/it]"
     ]
    },
    {
     "name": "stdout",
     "output_type": "stream",
     "text": [
      "گفتم غمِ تو دارم گفتا غمَت سرآید\n",
      "گفتم که ماهِ من شو گفتا اگر برآید\n"
     ]
    },
    {
     "name": "stderr",
     "output_type": "stream",
     "text": [
      "Crawling Ghazals:  47%|████▋     | 232/495 [24:03<26:03,  5.94s/it]"
     ]
    },
    {
     "name": "stdout",
     "output_type": "stream",
     "text": [
      "بر سرِ آنم که گر ز دست برآید\n",
      "دست به‌کاری زنم که غصّه سرآید\n"
     ]
    },
    {
     "name": "stderr",
     "output_type": "stream",
     "text": [
      "Crawling Ghazals:  47%|████▋     | 233/495 [24:06<22:01,  5.04s/it]"
     ]
    },
    {
     "name": "stdout",
     "output_type": "stream",
     "text": [
      "دست از طلب ندارم تا کامِ من برآید\n",
      "یا تن رسد به جانان یا جان ز تن برآید\n"
     ]
    },
    {
     "name": "stderr",
     "output_type": "stream",
     "text": [
      "Crawling Ghazals:  47%|████▋     | 234/495 [24:10<21:43,  4.99s/it]"
     ]
    },
    {
     "name": "stdout",
     "output_type": "stream",
     "text": [
      "چو آفتاب مِی از مشرقِ پیاله برآید\n",
      "ز باغِ عارِضِ ساقی هزار لاله برآید\n"
     ]
    },
    {
     "name": "stderr",
     "output_type": "stream",
     "text": [
      "Crawling Ghazals:  47%|████▋     | 235/495 [24:13<18:49,  4.34s/it]"
     ]
    },
    {
     "name": "stdout",
     "output_type": "stream",
     "text": [
      "زهی خجسته زمانی که یار بازآید\n",
      "به کامِ غمزدگان غمگُسار بازآید\n"
     ]
    },
    {
     "name": "stderr",
     "output_type": "stream",
     "text": [
      "Crawling Ghazals:  48%|████▊     | 236/495 [24:16<16:47,  3.89s/it]"
     ]
    },
    {
     "name": "stdout",
     "output_type": "stream",
     "text": [
      "اگر آن طایرِ قدسی ز دَرَم بازآید\n",
      "عمرِ بگذشته به پیرانه سرم بازآید\n"
     ]
    },
    {
     "name": "stderr",
     "output_type": "stream",
     "text": [
      "Crawling Ghazals:  48%|████▊     | 237/495 [24:21<17:54,  4.16s/it]"
     ]
    },
    {
     "name": "stdout",
     "output_type": "stream",
     "text": [
      "نفس برآمد و کام از تو بر نمی‌آید\n",
      "فغان که بختِ من از خواب در نمی‌آید\n"
     ]
    },
    {
     "name": "stderr",
     "output_type": "stream",
     "text": [
      "Crawling Ghazals:  48%|████▊     | 238/495 [24:28<21:05,  4.92s/it]"
     ]
    },
    {
     "name": "stdout",
     "output_type": "stream",
     "text": [
      "جهان بر ابرویِ عید از هِلال وَسمه کشید\n",
      "هِلال عید در ابرویِ یار باید دید\n"
     ]
    },
    {
     "name": "stderr",
     "output_type": "stream",
     "text": [
      "Crawling Ghazals:  48%|████▊     | 239/495 [24:30<18:20,  4.30s/it]"
     ]
    },
    {
     "name": "stdout",
     "output_type": "stream",
     "text": [
      "رسید مژده که آمد بهار و سبزه دمید\n",
      "وظیفه گر برسد، مصرفش گُل است و نَبید\n"
     ]
    },
    {
     "name": "stderr",
     "output_type": "stream",
     "text": [
      "Crawling Ghazals:  48%|████▊     | 240/495 [24:35<18:57,  4.46s/it]"
     ]
    },
    {
     "name": "stdout",
     "output_type": "stream",
     "text": [
      "ابرِ آذاری برآمد بادِ نوروزی وزید\n",
      "وَجهِ مِی می‌خواهم و مُطرب، که می‌گوید رسید؟\n"
     ]
    },
    {
     "name": "stderr",
     "output_type": "stream",
     "text": [
      "Crawling Ghazals:  49%|████▊     | 241/495 [24:39<17:52,  4.22s/it]"
     ]
    },
    {
     "name": "stdout",
     "output_type": "stream",
     "text": [
      "معاشران ز حریفِ شبانه یاد آرید\n",
      "حقوقِ بندگیِ مخلصانه یاد آرید\n"
     ]
    },
    {
     "name": "stderr",
     "output_type": "stream",
     "text": [
      "Crawling Ghazals:  49%|████▉     | 242/495 [24:46<21:11,  5.03s/it]"
     ]
    },
    {
     "name": "stdout",
     "output_type": "stream",
     "text": [
      "بیا که رایتِ منصورِ پادشاه رسید\n",
      "نویدِ فتح و بشارت به مِهر و ماه رسید\n"
     ]
    },
    {
     "name": "stderr",
     "output_type": "stream",
     "text": [
      "Crawling Ghazals:  49%|████▉     | 243/495 [24:51<21:30,  5.12s/it]"
     ]
    },
    {
     "name": "stdout",
     "output_type": "stream",
     "text": [
      "بویِ خوشِ تو هر که ز بادِ صبا شنید\n",
      "از یارِ آشنا سخنِ آشنا شنید\n"
     ]
    },
    {
     "name": "stderr",
     "output_type": "stream",
     "text": [
      "Crawling Ghazals:  49%|████▉     | 244/495 [24:55<19:33,  4.68s/it]"
     ]
    },
    {
     "name": "stdout",
     "output_type": "stream",
     "text": [
      "معاشران! گره از زلفِ یار باز کنید\n",
      "شبی خوش‌ است بدین قصه‌اش دراز کنید\n"
     ]
    },
    {
     "name": "stderr",
     "output_type": "stream",
     "text": [
      "Crawling Ghazals:  49%|████▉     | 245/495 [25:01<21:03,  5.05s/it]"
     ]
    },
    {
     "name": "stdout",
     "output_type": "stream",
     "text": [
      "الا ای طوطیِ گویا‌یِ اسرار!\n",
      "مبادا خالی‌ات شِکَّر ز مِنقار\n"
     ]
    },
    {
     "name": "stderr",
     "output_type": "stream",
     "text": [
      "Crawling Ghazals:  50%|████▉     | 246/495 [25:06<20:44,  5.00s/it]"
     ]
    },
    {
     "name": "stdout",
     "output_type": "stream",
     "text": [
      "عید است و آخِرِ گُل و یاران در انتظار\n",
      "ساقی به رویِ شاه ببین ماه و مِی بیار\n"
     ]
    },
    {
     "name": "stderr",
     "output_type": "stream",
     "text": [
      "Crawling Ghazals:  50%|████▉     | 247/495 [25:11<20:51,  5.05s/it]"
     ]
    },
    {
     "name": "stdout",
     "output_type": "stream",
     "text": [
      "صبا ز منزلِ جانان گذر دریغ مدار\n",
      "وز او به عاشقِ بی‌دل خبر دریغ مدار\n"
     ]
    },
    {
     "name": "stderr",
     "output_type": "stream",
     "text": [
      "Crawling Ghazals:  50%|█████     | 248/495 [25:14<18:36,  4.52s/it]"
     ]
    },
    {
     "name": "stdout",
     "output_type": "stream",
     "text": [
      "ای صبا نَکهَتی از کویِ فُلانی به من آر\n",
      "زار و بیمارِ غَمَم راحتِ جانی به من آر\n"
     ]
    },
    {
     "name": "stderr",
     "output_type": "stream",
     "text": [
      "Crawling Ghazals:  50%|█████     | 249/495 [25:19<19:27,  4.74s/it]"
     ]
    },
    {
     "name": "stdout",
     "output_type": "stream",
     "text": [
      "ای صبا نَکهَتی از خاکِ رَهِ یار بیار\n",
      "بِبَر اندوهِ دل و مژدهٔ دل‌دار بیار\n"
     ]
    },
    {
     "name": "stderr",
     "output_type": "stream",
     "text": [
      "Crawling Ghazals:  51%|█████     | 250/495 [25:22<17:05,  4.19s/it]"
     ]
    },
    {
     "name": "stdout",
     "output_type": "stream",
     "text": [
      "روی بِنْمای و وجودِ خودم از یاد بِبَر\n",
      "خَرمنِ سوختگان را همه گو باد بِبَر\n"
     ]
    },
    {
     "name": "stderr",
     "output_type": "stream",
     "text": [
      "Crawling Ghazals:  51%|█████     | 251/495 [25:25<15:21,  3.77s/it]"
     ]
    },
    {
     "name": "stdout",
     "output_type": "stream",
     "text": [
      "شبِ وصل است و طی شد نامهٔ هَجر\n",
      "«سلامٌ فیهِ حَتّی مَطْلَعِ الفَجْر»\n"
     ]
    },
    {
     "name": "stderr",
     "output_type": "stream",
     "text": [
      "Crawling Ghazals:  51%|█████     | 252/495 [25:33<20:11,  4.98s/it]"
     ]
    },
    {
     "name": "stdout",
     "output_type": "stream",
     "text": [
      "گر بُوَد عمر، به میخانه رَسَم بارِ دِگَر\n",
      "بجز از خدمتِ رندان نکنم کارِ دِگَر\n"
     ]
    },
    {
     "name": "stderr",
     "output_type": "stream",
     "text": [
      "Crawling Ghazals:  51%|█████     | 253/495 [25:40<22:25,  5.56s/it]"
     ]
    },
    {
     "name": "stdout",
     "output_type": "stream",
     "text": [
      "ای خُرَّم از فروغِ رُخَت لاله زارِ عمر\n",
      "بازآ که ریخت بی گُلِ رویت بهارِ عمر\n"
     ]
    },
    {
     "name": "stderr",
     "output_type": "stream",
     "text": [
      "Crawling Ghazals:  51%|█████▏    | 254/495 [25:43<19:10,  4.77s/it]"
     ]
    },
    {
     "name": "stdout",
     "output_type": "stream",
     "text": [
      "دیگر ز شاخِ سروِ سَهی بلبلِ صبور\n",
      "گلبانگ زد که چشمِ بد از رویِ گُل به دور\n"
     ]
    },
    {
     "name": "stderr",
     "output_type": "stream",
     "text": [
      "Crawling Ghazals:  52%|█████▏    | 255/495 [25:48<19:10,  4.79s/it]"
     ]
    },
    {
     "name": "stdout",
     "output_type": "stream",
     "text": [
      "یوسفِ گم گشته بازآید به کنعان، غم مخور\n",
      "کلبهٔ احزان شَوَد روزی گلستان، غم مخور\n"
     ]
    },
    {
     "name": "stderr",
     "output_type": "stream",
     "text": [
      "Crawling Ghazals:  52%|█████▏    | 256/495 [25:50<16:48,  4.22s/it]"
     ]
    },
    {
     "name": "stdout",
     "output_type": "stream",
     "text": [
      "نصیحتی کُنَمَت بشنو و بهانه مَگیر\n",
      "هر آنچه ناصِحِ مُشْفِق بگویَدَت بپذیر\n"
     ]
    },
    {
     "name": "stderr",
     "output_type": "stream",
     "text": [
      "Crawling Ghazals:  52%|█████▏    | 257/495 [25:53<15:06,  3.81s/it]"
     ]
    },
    {
     "name": "stdout",
     "output_type": "stream",
     "text": [
      "روی بِنْما و مرا گو که ز جان دل برگیر\n",
      "پیشِ شمع آتشِ پروانه به جان گو درگیر\n"
     ]
    },
    {
     "name": "stderr",
     "output_type": "stream",
     "text": [
      "Crawling Ghazals:  52%|█████▏    | 258/495 [25:58<16:19,  4.13s/it]"
     ]
    },
    {
     "name": "stdout",
     "output_type": "stream",
     "text": [
      "هزار شُکر که دیدم به کامِ خویشت باز\n",
      "ز رویِ صدق و صفا گشته با دلم دَمساز\n"
     ]
    },
    {
     "name": "stderr",
     "output_type": "stream",
     "text": [
      "Crawling Ghazals:  52%|█████▏    | 259/495 [26:04<18:15,  4.64s/it]"
     ]
    },
    {
     "name": "stdout",
     "output_type": "stream",
     "text": [
      "منم که دیده به دیدارِ دوست کردم باز\n",
      "چه شُکر گویَمَت ای کارسازِ بنده نواز\n"
     ]
    },
    {
     "name": "stderr",
     "output_type": "stream",
     "text": [
      "Crawling Ghazals:  53%|█████▎    | 260/495 [26:07<16:04,  4.10s/it]"
     ]
    },
    {
     "name": "stdout",
     "output_type": "stream",
     "text": [
      "ای سروِ نازِ حُسن که خوش می‌روی به ناز\n",
      "عُشّاق را به نازِ تو هر لحظه صد نیاز\n"
     ]
    },
    {
     "name": "stderr",
     "output_type": "stream",
     "text": [
      "Crawling Ghazals:  53%|█████▎    | 261/495 [26:12<17:06,  4.39s/it]"
     ]
    },
    {
     "name": "stdout",
     "output_type": "stream",
     "text": [
      "درآ که در دلِ خسته توان درآید باز\n",
      "بیا که در تنِ مُرده رَوان درآید باز\n"
     ]
    },
    {
     "name": "stderr",
     "output_type": "stream",
     "text": [
      "Crawling Ghazals:  53%|█████▎    | 262/495 [26:15<15:11,  3.91s/it]"
     ]
    },
    {
     "name": "stdout",
     "output_type": "stream",
     "text": [
      "حالِ خونین دلان که گوید باز؟\n",
      "وز فلک خونِ خُم که جوید باز؟\n"
     ]
    },
    {
     "name": "stderr",
     "output_type": "stream",
     "text": [
      "Crawling Ghazals:  53%|█████▎    | 263/495 [26:18<13:57,  3.61s/it]"
     ]
    },
    {
     "name": "stdout",
     "output_type": "stream",
     "text": [
      "بیا و کَشتیِ ما در شَطِ شراب انداز\n",
      "خروش و وِلوِله در جانِ شیخ و شاب انداز\n"
     ]
    },
    {
     "name": "stderr",
     "output_type": "stream",
     "text": [
      "Crawling Ghazals:  53%|█████▎    | 264/495 [26:26<19:54,  5.17s/it]"
     ]
    },
    {
     "name": "stdout",
     "output_type": "stream",
     "text": [
      "خیز و در کاسهٔ زر آبِ طَرَبناک انداز\n",
      "پیشتر زان که شَوَد کاسهٔ سَر خاک‌ انداز\n"
     ]
    },
    {
     "name": "stderr",
     "output_type": "stream",
     "text": [
      "Crawling Ghazals:  54%|█████▎    | 265/495 [26:29<17:10,  4.48s/it]"
     ]
    },
    {
     "name": "stdout",
     "output_type": "stream",
     "text": [
      "برنیامد از تمنّایِ لَبَت کامم هنوز\n",
      "بر امید جامِ لعلت دُردی آشامم هنوز\n"
     ]
    },
    {
     "name": "stderr",
     "output_type": "stream",
     "text": [
      "Crawling Ghazals:  54%|█████▎    | 266/495 [26:35<18:51,  4.94s/it]"
     ]
    },
    {
     "name": "stdout",
     "output_type": "stream",
     "text": [
      "دلم رمیدهٔ لولی‌وَشیست شورانگیز\n",
      "دروغ‌وَعده و قَتّال‌وَضع و رنگ‌آمیز\n"
     ]
    },
    {
     "name": "stderr",
     "output_type": "stream",
     "text": [
      "Crawling Ghazals:  54%|█████▍    | 267/495 [26:41<19:48,  5.21s/it]"
     ]
    },
    {
     "name": "stdout",
     "output_type": "stream",
     "text": [
      "ای صبا گر بُگذری بر ساحلِ رودِ اَرَس\n",
      "بوسه زن بر خاکِ آن وادی و مُشکین کُن نَفَس\n"
     ]
    },
    {
     "name": "stderr",
     "output_type": "stream",
     "text": [
      "Crawling Ghazals:  54%|█████▍    | 268/495 [26:44<17:06,  4.52s/it]"
     ]
    },
    {
     "name": "stdout",
     "output_type": "stream",
     "text": [
      "گُلعِذاری ز گلستانِ جهان ما را بس\n",
      "زین چمن سایهٔ آن سروِ روان ما را بس\n"
     ]
    },
    {
     "name": "stderr",
     "output_type": "stream",
     "text": [
      "Crawling Ghazals:  54%|█████▍    | 269/495 [26:47<15:09,  4.02s/it]"
     ]
    },
    {
     "name": "stdout",
     "output_type": "stream",
     "text": [
      "دلا، رَفیقِ سفر بختِ نیکخواهت بس\n",
      "نسیمِ روضهٔ شیراز، پیکِ راهت بس\n"
     ]
    },
    {
     "name": "stderr",
     "output_type": "stream",
     "text": [
      "Crawling Ghazals:  55%|█████▍    | 270/495 [26:52<16:07,  4.30s/it]"
     ]
    },
    {
     "name": "stdout",
     "output_type": "stream",
     "text": [
      "دردِ عشقی کشیده‌ام که مَپُرس\n",
      "زهرِ هجری چشیده‌ام که مَپُرس\n"
     ]
    },
    {
     "name": "stderr",
     "output_type": "stream",
     "text": [
      "Crawling Ghazals:  55%|█████▍    | 271/495 [26:55<14:28,  3.88s/it]"
     ]
    },
    {
     "name": "stdout",
     "output_type": "stream",
     "text": [
      "دارم از زلفِ سیاهش گِلِه چندان که مَپُرس\n",
      "که چُنان ز او شده‌ام بی سر و سامان که مَپُرس\n"
     ]
    },
    {
     "name": "stderr",
     "output_type": "stream",
     "text": [
      "Crawling Ghazals:  55%|█████▍    | 272/495 [26:58<13:16,  3.57s/it]"
     ]
    },
    {
     "name": "stdout",
     "output_type": "stream",
     "text": [
      "باز آی و دلِ تنگِ مرا مونس جان باش\n",
      "وین سوخته را مَحرَمِ اسرارِ نهان باش\n"
     ]
    },
    {
     "name": "stderr",
     "output_type": "stream",
     "text": [
      "Crawling Ghazals:  55%|█████▌    | 273/495 [27:06<19:01,  5.14s/it]"
     ]
    },
    {
     "name": "stdout",
     "output_type": "stream",
     "text": [
      "اگر رفیقِ شفیقی، درست پیمان باش\n",
      "حریفِ خانه و گرمابه و گلستان باش\n"
     ]
    },
    {
     "name": "stderr",
     "output_type": "stream",
     "text": [
      "Crawling Ghazals:  55%|█████▌    | 274/495 [27:09<16:32,  4.49s/it]"
     ]
    },
    {
     "name": "stdout",
     "output_type": "stream",
     "text": [
      "به دورِ لاله قدح گیر و بی‌ریا می‌باش\n",
      "به بویِ گُل نفسی همدمِ صبا می‌باش\n"
     ]
    },
    {
     "name": "stderr",
     "output_type": "stream",
     "text": [
      "Crawling Ghazals:  56%|█████▌    | 275/495 [27:16<19:06,  5.21s/it]"
     ]
    },
    {
     "name": "stdout",
     "output_type": "stream",
     "text": [
      "صوفی گُلی بچین و مُرَقَّع به خار بخش\n",
      "وین زهدِ خشک را به مِی خوشگوار بخش\n"
     ]
    },
    {
     "name": "stderr",
     "output_type": "stream",
     "text": [
      "Crawling Ghazals:  56%|█████▌    | 276/495 [27:21<18:38,  5.11s/it]"
     ]
    },
    {
     "name": "stdout",
     "output_type": "stream",
     "text": [
      "باغبان گر پنج‌روزی صحبتِ گل بایدش\n",
      "بر جفایِ خارِ هجران صبرِ بلبل بایدش\n"
     ]
    },
    {
     "name": "stderr",
     "output_type": "stream",
     "text": [
      "Crawling Ghazals:  56%|█████▌    | 277/495 [27:24<16:08,  4.44s/it]"
     ]
    },
    {
     "name": "stdout",
     "output_type": "stream",
     "text": [
      "فکرِ بلبل همه آن است که گُل شد یارش\n",
      "گُل در اندیشه که چُون عشوه کُنَد در کارش\n"
     ]
    },
    {
     "name": "stderr",
     "output_type": "stream",
     "text": [
      "Crawling Ghazals:  56%|█████▌    | 278/495 [27:27<14:46,  4.09s/it]"
     ]
    },
    {
     "name": "stdout",
     "output_type": "stream",
     "text": [
      "شرابِ تلخ می‌خواهم که مردافکن بُوَد زورش\n",
      "که تا یک دَم بیاسایم ز دنیا و شر و شورش\n"
     ]
    },
    {
     "name": "stderr",
     "output_type": "stream",
     "text": [
      "Crawling Ghazals:  56%|█████▋    | 279/495 [27:32<15:44,  4.37s/it]"
     ]
    },
    {
     "name": "stdout",
     "output_type": "stream",
     "text": [
      "خوشا شیراز و وضعِ بی‌مثالش\n",
      "خداوندا نگه دار از زَوالش\n"
     ]
    },
    {
     "name": "stderr",
     "output_type": "stream",
     "text": [
      "Crawling Ghazals:  57%|█████▋    | 280/495 [27:39<17:58,  5.02s/it]"
     ]
    },
    {
     "name": "stdout",
     "output_type": "stream",
     "text": [
      "چو برشکست صبا زلفِ عنبرافشانش\n",
      "به هر شکسته که پیوست تازه شد جانش\n"
     ]
    },
    {
     "name": "stderr",
     "output_type": "stream",
     "text": [
      "Crawling Ghazals:  57%|█████▋    | 281/495 [27:43<17:10,  4.81s/it]"
     ]
    },
    {
     "name": "stdout",
     "output_type": "stream",
     "text": [
      "یا رب این نوگُلِ خندان که سپردی به مَنَش\n",
      "می‌سپارم به تو از چشمِ حسودِ چَمَنَش\n"
     ]
    },
    {
     "name": "stderr",
     "output_type": "stream",
     "text": [
      "Crawling Ghazals:  57%|█████▋    | 282/495 [27:48<17:11,  4.84s/it]"
     ]
    },
    {
     "name": "stdout",
     "output_type": "stream",
     "text": [
      "بِبُرد از من قرار و طاقت و هوش\n",
      "بتِ سنگین دلِ سیمین بناگوش\n"
     ]
    },
    {
     "name": "stderr",
     "output_type": "stream",
     "text": [
      "Crawling Ghazals:  57%|█████▋    | 283/495 [27:51<15:02,  4.26s/it]"
     ]
    },
    {
     "name": "stdout",
     "output_type": "stream",
     "text": [
      "سحر ز هاتفِ غیبم رسید مژده به گوش\n",
      "که دورِ شاه شجاع است، مِی دلیر بنوش\n"
     ]
    },
    {
     "name": "stderr",
     "output_type": "stream",
     "text": [
      "Crawling Ghazals:  57%|█████▋    | 284/495 [27:54<13:34,  3.86s/it]"
     ]
    },
    {
     "name": "stdout",
     "output_type": "stream",
     "text": [
      "هاتفی از گوشهٔ میخانه دوش\n",
      "گفت ببخشند گنه، مِی بنوش\n"
     ]
    },
    {
     "name": "stderr",
     "output_type": "stream",
     "text": [
      "Crawling Ghazals:  58%|█████▊    | 285/495 [27:59<14:40,  4.19s/it]"
     ]
    },
    {
     "name": "stdout",
     "output_type": "stream",
     "text": [
      "در عهدِ پادشاهِ خطابخشِ جُرم پوش\n",
      "حافظ قَرابه کَش شد و مفتی پیاله نوش\n"
     ]
    },
    {
     "name": "stderr",
     "output_type": "stream",
     "text": [
      "Crawling Ghazals:  58%|█████▊    | 286/495 [28:06<17:23,  4.99s/it]"
     ]
    },
    {
     "name": "stdout",
     "output_type": "stream",
     "text": [
      "دوش با من گفت پنهان کاردانی تیزهوش\n",
      "وز شما پنهان نشاید کرد سِرِّ مِی‌فروش\n"
     ]
    },
    {
     "name": "stderr",
     "output_type": "stream",
     "text": [
      "Crawling Ghazals:  58%|█████▊    | 287/495 [28:13<19:12,  5.54s/it]"
     ]
    },
    {
     "name": "stdout",
     "output_type": "stream",
     "text": [
      "ای همه شکلِ تو مَطبوع و همه جایِ تو خوش\n",
      "دلم از عشوهٔ شیرینِ شِکرخایِ تو خوش\n"
     ]
    },
    {
     "name": "stderr",
     "output_type": "stream",
     "text": [
      "Crawling Ghazals:  58%|█████▊    | 288/495 [28:18<18:32,  5.37s/it]"
     ]
    },
    {
     "name": "stdout",
     "output_type": "stream",
     "text": [
      "کنارِ آب و پایِ بید و طبعِ شعر و یاری خوش\n",
      "معاشر دلبری شیرین و ساقی گُلعِذاری خوش\n"
     ]
    },
    {
     "name": "stderr",
     "output_type": "stream",
     "text": [
      "Crawling Ghazals:  58%|█████▊    | 289/495 [28:20<15:54,  4.63s/it]"
     ]
    },
    {
     "name": "stdout",
     "output_type": "stream",
     "text": [
      "مَجمَعِ خوبی و لطف است عِذار چو مَهَش\n",
      "لیکَنَش مِهر و وفا نیست خدایا بِدَهَش\n"
     ]
    },
    {
     "name": "stderr",
     "output_type": "stream",
     "text": [
      "Crawling Ghazals:  59%|█████▊    | 290/495 [28:23<13:56,  4.08s/it]"
     ]
    },
    {
     "name": "stdout",
     "output_type": "stream",
     "text": [
      "دلم رمیده شد و غافلم منِ درویش\n",
      "که آن شِکاریِ سرگشته را چه آمد پیش\n"
     ]
    },
    {
     "name": "stderr",
     "output_type": "stream",
     "text": [
      "Crawling Ghazals:  59%|█████▉    | 291/495 [28:28<14:40,  4.31s/it]"
     ]
    },
    {
     "name": "stdout",
     "output_type": "stream",
     "text": [
      "ما آزموده‌ایم در این شهر بختِ خویش\n",
      "بیرون کشید باید از این وَرطه رَختِ خویش\n"
     ]
    },
    {
     "name": "stderr",
     "output_type": "stream",
     "text": [
      "Crawling Ghazals:  59%|█████▉    | 292/495 [28:31<13:02,  3.85s/it]"
     ]
    },
    {
     "name": "stdout",
     "output_type": "stream",
     "text": [
      "قسم به حشمت و جاه و جلالِ شاه شجاع\n",
      "که نیست با کَسَم از بهرِ مال و جاه نزاع\n"
     ]
    },
    {
     "name": "stderr",
     "output_type": "stream",
     "text": [
      "Crawling Ghazals:  59%|█████▉    | 293/495 [28:34<12:00,  3.57s/it]"
     ]
    },
    {
     "name": "stdout",
     "output_type": "stream",
     "text": [
      "بامدادان که ز خلوتگَهِ کاخِ اِبداع\n",
      "شمعِ خاور فِکَنَد بر همه اطراف شُعاع\n"
     ]
    },
    {
     "name": "stderr",
     "output_type": "stream",
     "text": [
      "Crawling Ghazals:  59%|█████▉    | 294/495 [28:43<17:11,  5.13s/it]"
     ]
    },
    {
     "name": "stdout",
     "output_type": "stream",
     "text": [
      "در وفایِ عشقِ تو، مشهورِ خوبانم چو شمع\n",
      "شب‌نشینِ کویِ سربازان و رندانم چو شمع\n"
     ]
    },
    {
     "name": "stderr",
     "output_type": "stream",
     "text": [
      "Crawling Ghazals:  60%|█████▉    | 295/495 [28:45<14:46,  4.43s/it]"
     ]
    },
    {
     "name": "stdout",
     "output_type": "stream",
     "text": [
      "سَحَر به بویِ گلستان دَمی شدم در باغ\n",
      "که تا چو بلبلِ بیدل کُنَم عِلاجِ دِماغ\n"
     ]
    },
    {
     "name": "stderr",
     "output_type": "stream",
     "text": [
      "Crawling Ghazals:  60%|█████▉    | 296/495 [28:48<13:10,  3.97s/it]"
     ]
    },
    {
     "name": "stdout",
     "output_type": "stream",
     "text": [
      "طالع اگر مدد دهد، دامَنَش آوَرَم به کف\n",
      "گر بِکَشَم زهی طَرَب، ور بِکُشَد زهی شرف\n"
     ]
    },
    {
     "name": "stderr",
     "output_type": "stream",
     "text": [
      "Crawling Ghazals:  60%|██████    | 297/495 [28:57<18:05,  5.48s/it]"
     ]
    },
    {
     "name": "stdout",
     "output_type": "stream",
     "text": [
      "زبانِ خامه ندارد سرِ بیان فِراق\n",
      "وگرنه شرح دهم با تو داستانِ فِراق\n"
     ]
    },
    {
     "name": "stderr",
     "output_type": "stream",
     "text": [
      "Crawling Ghazals:  60%|██████    | 298/495 [29:00<15:42,  4.79s/it]"
     ]
    },
    {
     "name": "stdout",
     "output_type": "stream",
     "text": [
      "مقامِ امن و مِیِ بی‌غَش و رَفیقِ شَفیق\n",
      "گَرَت مُدام مُیَسَّر شود زِهی توفیق\n"
     ]
    },
    {
     "name": "stderr",
     "output_type": "stream",
     "text": [
      "Crawling Ghazals:  60%|██████    | 299/495 [29:03<13:43,  4.20s/it]"
     ]
    },
    {
     "name": "stdout",
     "output_type": "stream",
     "text": [
      "اگر شراب خوری جُرعه‌ای فَشان بر خاک\n",
      "از آن گناه که نَفعی رسد به غیر چه باک؟\n"
     ]
    },
    {
     "name": "stderr",
     "output_type": "stream",
     "text": [
      "Crawling Ghazals:  61%|██████    | 300/495 [29:08<14:18,  4.40s/it]"
     ]
    },
    {
     "name": "stdout",
     "output_type": "stream",
     "text": [
      "هزار دشمنم اَر می‌کنند قصدِ هلاک\n",
      "گَرَم تو دوستی از دشمنان ندارم باک\n"
     ]
    },
    {
     "name": "stderr",
     "output_type": "stream",
     "text": [
      "Crawling Ghazals:  61%|██████    | 301/495 [29:14<15:38,  4.84s/it]"
     ]
    },
    {
     "name": "stdout",
     "output_type": "stream",
     "text": [
      "ای دلِ ریشِ مرا با لبِ تو حقِّ نمک\n",
      "حق نگه دار که من می‌روم، الله مَعَک\n"
     ]
    },
    {
     "name": "stderr",
     "output_type": "stream",
     "text": [
      "Crawling Ghazals:  61%|██████    | 302/495 [29:17<13:33,  4.21s/it]"
     ]
    },
    {
     "name": "stdout",
     "output_type": "stream",
     "text": [
      "خوش خبر باشی ای نسیمِ شِمال\n",
      "که به ما می‌رسد زمانِ وصال\n"
     ]
    },
    {
     "name": "stderr",
     "output_type": "stream",
     "text": [
      "Crawling Ghazals:  61%|██████    | 303/495 [29:22<14:10,  4.43s/it]"
     ]
    },
    {
     "name": "stdout",
     "output_type": "stream",
     "text": [
      "شَمَمتُ روحَ وِدادٍ و شِمتُ برقَ وِصال\n",
      "بیا که بویِ تو را میرم ای نسیمِ شِمال\n"
     ]
    },
    {
     "name": "stderr",
     "output_type": "stream",
     "text": [
      "Crawling Ghazals:  61%|██████▏   | 304/495 [29:25<13:16,  4.17s/it]"
     ]
    },
    {
     "name": "stdout",
     "output_type": "stream",
     "text": [
      "دارایِ جهان نصرتِ دین خسروِ کامل\n",
      "یَحیَی بنِ مُظَفَّر مَلِکِ عالمِ عادل\n"
     ]
    },
    {
     "name": "stderr",
     "output_type": "stream",
     "text": [
      "Crawling Ghazals:  62%|██████▏   | 305/495 [29:29<12:25,  3.92s/it]"
     ]
    },
    {
     "name": "stdout",
     "output_type": "stream",
     "text": [
      "به وقت گُل شدم از توبهٔ شراب خَجِل\n",
      "که کَس مباد ز کِردارِ ناصَواب خَجِل\n"
     ]
    },
    {
     "name": "stderr",
     "output_type": "stream",
     "text": [
      "Crawling Ghazals:  62%|██████▏   | 306/495 [29:34<13:26,  4.27s/it]"
     ]
    },
    {
     "name": "stdout",
     "output_type": "stream",
     "text": [
      "اگر به کویِ تو باشد مرا مَجالِ وصول\n",
      "رَسَد به دولتِ وصلِ تو کارِ من به اصول\n"
     ]
    },
    {
     "name": "stderr",
     "output_type": "stream",
     "text": [
      "Crawling Ghazals:  62%|██████▏   | 307/495 [29:37<12:04,  3.85s/it]"
     ]
    },
    {
     "name": "stdout",
     "output_type": "stream",
     "text": [
      "هر نکته‌ای که گفتم در وصفِ آن شَمایل\n",
      "هر کو شنید گفتا «لِلّهِ دَرُّ قائل»\n"
     ]
    },
    {
     "name": "stderr",
     "output_type": "stream",
     "text": [
      "Crawling Ghazals:  62%|██████▏   | 308/495 [29:47<17:45,  5.70s/it]"
     ]
    },
    {
     "name": "stdout",
     "output_type": "stream",
     "text": [
      "ای رُخَت چون خُلد و لَعلَت سَلسَبیل\n",
      "سَلسَبیلت کرده جان و دل سَبیل\n"
     ]
    },
    {
     "name": "stderr",
     "output_type": "stream",
     "text": [
      "Crawling Ghazals:  62%|██████▏   | 309/495 [29:52<17:11,  5.55s/it]"
     ]
    },
    {
     "name": "stdout",
     "output_type": "stream",
     "text": [
      "عشقبازیّ و جوانیّ و شرابِ لَعلْ‌فام\n",
      "مجلسِ اُنس و حریفِ همدم و شُربِ مدام\n"
     ]
    },
    {
     "name": "stderr",
     "output_type": "stream",
     "text": [
      "Crawling Ghazals:  63%|██████▎   | 310/495 [29:55<15:00,  4.87s/it]"
     ]
    },
    {
     "name": "stdout",
     "output_type": "stream",
     "text": [
      "مرحبا طایرِ فَرُّخ پِیِ فرخنده پیام\n",
      "خیرِ مقدم چه خبر؟ دوست کجا؟ راه کدام؟\n"
     ]
    },
    {
     "name": "stderr",
     "output_type": "stream",
     "text": [
      "Crawling Ghazals:  63%|██████▎   | 311/495 [29:58<13:01,  4.25s/it]"
     ]
    },
    {
     "name": "stdout",
     "output_type": "stream",
     "text": [
      "عاشقِ رویِ جوانی خوشِ نوخاسته‌ام\n",
      "وز خدا دولتِ این غم به دعا خواسته‌ام\n"
     ]
    },
    {
     "name": "stderr",
     "output_type": "stream",
     "text": [
      "Crawling Ghazals:  63%|██████▎   | 312/495 [30:03<13:27,  4.41s/it]"
     ]
    },
    {
     "name": "stdout",
     "output_type": "stream",
     "text": [
      "بُشری اِذِ السَّلامةُ حَلَّت بِذی سَلَم\n",
      "لِلّهِ حمدُ مُعتَرِفٍ غایةَ النِّعَم\n"
     ]
    },
    {
     "name": "stderr",
     "output_type": "stream",
     "text": [
      "Crawling Ghazals:  63%|██████▎   | 313/495 [30:06<12:08,  4.00s/it]"
     ]
    },
    {
     "name": "stdout",
     "output_type": "stream",
     "text": [
      "بازآی ساقیا که هواخواهِ خدمتم\n",
      "مشتاقِ بندگیّ و دعاگویِ دولتم\n"
     ]
    },
    {
     "name": "stderr",
     "output_type": "stream",
     "text": [
      "Crawling Ghazals:  63%|██████▎   | 314/495 [30:08<10:58,  3.64s/it]"
     ]
    },
    {
     "name": "stdout",
     "output_type": "stream",
     "text": [
      "دوش بیماری چشم تو بِبُرد از دستم\n",
      "لیکن از لطفِ لبت صورتِ جان می‌بستم\n"
     ]
    },
    {
     "name": "stderr",
     "output_type": "stream",
     "text": [
      "Crawling Ghazals:  64%|██████▎   | 315/495 [30:16<14:45,  4.92s/it]"
     ]
    },
    {
     "name": "stdout",
     "output_type": "stream",
     "text": [
      "به غیر از آن که بِشُد دین و دانش از دستم\n",
      "بیا بگو که ز عشقت چه طَرْف بَربَستَم\n"
     ]
    },
    {
     "name": "stderr",
     "output_type": "stream",
     "text": [
      "Crawling Ghazals:  64%|██████▍   | 316/495 [30:19<12:52,  4.31s/it]"
     ]
    },
    {
     "name": "stdout",
     "output_type": "stream",
     "text": [
      "زلف بر باد مده تا ندهی بر بادم\n",
      "ناز بنیاد مکن تا نکَنی بنیادم\n"
     ]
    },
    {
     "name": "stderr",
     "output_type": "stream",
     "text": [
      "Crawling Ghazals:  64%|██████▍   | 317/495 [30:22<11:46,  3.97s/it]"
     ]
    },
    {
     "name": "stdout",
     "output_type": "stream",
     "text": [
      "فاش می‌گویم و از گفتهٔ خود دلشادم\n",
      "بندهٔ عشقم و از هر دو جهان آزادم\n"
     ]
    },
    {
     "name": "stderr",
     "output_type": "stream",
     "text": [
      "Crawling Ghazals:  64%|██████▍   | 318/495 [30:27<12:35,  4.27s/it]"
     ]
    },
    {
     "name": "stdout",
     "output_type": "stream",
     "text": [
      "مرا می‌بینی و هر دَم زیادَت می‌کنی دَردَم\n",
      "تو را می‌بینم و میلم زیادَت می‌شود هر دَم\n"
     ]
    },
    {
     "name": "stderr",
     "output_type": "stream",
     "text": [
      "Crawling Ghazals:  64%|██████▍   | 319/495 [30:34<14:50,  5.06s/it]"
     ]
    },
    {
     "name": "stdout",
     "output_type": "stream",
     "text": [
      "سال‌ها پیرُویِ مذهبِ رندان کردم\n",
      "تا به فتویّ خِرَد حرص به زندان کردم\n"
     ]
    },
    {
     "name": "stderr",
     "output_type": "stream",
     "text": [
      "Crawling Ghazals:  65%|██████▍   | 320/495 [30:37<12:54,  4.42s/it]"
     ]
    },
    {
     "name": "stdout",
     "output_type": "stream",
     "text": [
      "دیشب به سیلِ اشک رَهِ خواب می‌زدم\n",
      "نقشی به یادِ خَطِّ تو بر آب می‌زدم\n"
     ]
    },
    {
     "name": "stderr",
     "output_type": "stream",
     "text": [
      "Crawling Ghazals:  65%|██████▍   | 321/495 [30:43<13:38,  4.70s/it]"
     ]
    },
    {
     "name": "stdout",
     "output_type": "stream",
     "text": [
      "هر چند پیر و خسته‌دل و ناتوان شدم\n",
      "هر گَه که یادِ رویِ تو کردم جوان شدم\n"
     ]
    },
    {
     "name": "stderr",
     "output_type": "stream",
     "text": [
      "Crawling Ghazals:  65%|██████▌   | 322/495 [30:49<14:51,  5.15s/it]"
     ]
    },
    {
     "name": "stdout",
     "output_type": "stream",
     "text": [
      "خیالِ نقشِ تو در کارگاهِ دیده کشیدم\n",
      "به صورتِ تو نگاری ندیدم و نشنیدم\n"
     ]
    },
    {
     "name": "stderr",
     "output_type": "stream",
     "text": [
      "Crawling Ghazals:  65%|██████▌   | 323/495 [30:52<12:51,  4.48s/it]"
     ]
    },
    {
     "name": "stdout",
     "output_type": "stream",
     "text": [
      "ز دستِ کوتهِ خود زیرِ بارم\n",
      "که از بالابلندان شرمسارم\n"
     ]
    },
    {
     "name": "stderr",
     "output_type": "stream",
     "text": [
      "Crawling Ghazals:  65%|██████▌   | 324/495 [30:57<13:07,  4.60s/it]"
     ]
    },
    {
     "name": "stdout",
     "output_type": "stream",
     "text": [
      "گرچه افتاد ز زلفش گرهی در کارم\n",
      "همچُنان چشمِ گشاد از کَرَمَش می‌دارم\n"
     ]
    },
    {
     "name": "stderr",
     "output_type": "stream",
     "text": [
      "Crawling Ghazals:  66%|██████▌   | 325/495 [30:59<11:35,  4.09s/it]"
     ]
    },
    {
     "name": "stdout",
     "output_type": "stream",
     "text": [
      "گر دست دهد خاکِ کفِ پایِ نگارم\n",
      "بر لوحِ بَصَر خطِّ غباری بنگارم\n"
     ]
    },
    {
     "name": "stderr",
     "output_type": "stream",
     "text": [
      "Crawling Ghazals:  66%|██████▌   | 326/495 [31:02<10:28,  3.72s/it]"
     ]
    },
    {
     "name": "stdout",
     "output_type": "stream",
     "text": [
      "در نهانخانهٔ عِشرت صَنَمی خوش دارم\n",
      "کز سرِ زلف و رُخَش، نعل در آتش دارم\n"
     ]
    },
    {
     "name": "stderr",
     "output_type": "stream",
     "text": [
      "Crawling Ghazals:  66%|██████▌   | 327/495 [31:08<11:46,  4.21s/it]"
     ]
    },
    {
     "name": "stdout",
     "output_type": "stream",
     "text": [
      "مرا عهدی‌ست با جانان که تا جان در بدن دارم\n",
      "هوادارانِ کویش را چو جانِ خویشتن دارم\n"
     ]
    },
    {
     "name": "stderr",
     "output_type": "stream",
     "text": [
      "Crawling Ghazals:  66%|██████▋   | 328/495 [31:11<10:35,  3.80s/it]"
     ]
    },
    {
     "name": "stdout",
     "output_type": "stream",
     "text": [
      "من که باشم که بر آن خاطرِ عاطِر گذرم؟\n",
      "لطف‌ها می‌کنی ای خاکِ دَرَت، تاجِ سرم\n"
     ]
    },
    {
     "name": "stderr",
     "output_type": "stream",
     "text": [
      "Crawling Ghazals:  66%|██████▋   | 329/495 [31:17<12:22,  4.47s/it]"
     ]
    },
    {
     "name": "stdout",
     "output_type": "stream",
     "text": [
      "جوزا سَحَر نهادْ حمایل برابرم\n",
      "یعنی غلامِ شاهم و سوگند می‌خورم\n"
     ]
    },
    {
     "name": "stderr",
     "output_type": "stream",
     "text": [
      "Crawling Ghazals:  67%|██████▋   | 330/495 [31:26<16:04,  5.85s/it]"
     ]
    },
    {
     "name": "stdout",
     "output_type": "stream",
     "text": [
      "تو همچو صبحی و من شمعِ خلوتِ سَحَرم\n",
      "تبسمی کن و جان بین که چون همی‌سِپرَم\n"
     ]
    },
    {
     "name": "stderr",
     "output_type": "stream",
     "text": [
      "Crawling Ghazals:  67%|██████▋   | 331/495 [31:28<13:28,  4.93s/it]"
     ]
    },
    {
     "name": "stdout",
     "output_type": "stream",
     "text": [
      "به تیغم گَر کشد دستش نگیرم\n",
      "وگر تیرم زَنَد منّت پذیرم\n"
     ]
    },
    {
     "name": "stderr",
     "output_type": "stream",
     "text": [
      "Crawling Ghazals:  67%|██████▋   | 332/495 [31:31<11:51,  4.36s/it]"
     ]
    },
    {
     "name": "stdout",
     "output_type": "stream",
     "text": [
      "مزن بر دل ز نوکِ غمزه تیرم\n",
      "که پیشِ چشمِ بیمارت بمیرم\n"
     ]
    },
    {
     "name": "stderr",
     "output_type": "stream",
     "text": [
      "Crawling Ghazals:  67%|██████▋   | 333/495 [31:36<12:16,  4.54s/it]"
     ]
    },
    {
     "name": "stdout",
     "output_type": "stream",
     "text": [
      "نمازِ شامِ غریبان چو گریه آغازم\n",
      "به مویه‌هایِ غریبانه، قِصه پردازم\n"
     ]
    },
    {
     "name": "stderr",
     "output_type": "stream",
     "text": [
      "Crawling Ghazals:  67%|██████▋   | 334/495 [31:40<11:02,  4.12s/it]"
     ]
    },
    {
     "name": "stdout",
     "output_type": "stream",
     "text": [
      "گر دست رَسَد در سرِ زُلفینِ تو بازم\n",
      "چون گوی چه سرها که به چوگانِ تو بازم\n"
     ]
    },
    {
     "name": "stderr",
     "output_type": "stream",
     "text": [
      "Crawling Ghazals:  68%|██████▊   | 335/495 [31:42<09:58,  3.74s/it]"
     ]
    },
    {
     "name": "stdout",
     "output_type": "stream",
     "text": [
      "در خراباتِ مُغان گر گذر افتد بازم\n",
      "حاصلِ خرقه و سجاده، روان دربازم\n"
     ]
    },
    {
     "name": "stderr",
     "output_type": "stream",
     "text": [
      "Crawling Ghazals:  68%|██████▊   | 336/495 [31:50<13:12,  4.99s/it]"
     ]
    },
    {
     "name": "stdout",
     "output_type": "stream",
     "text": [
      "مژدهٔ وصلِ تو کو کز سرِ جان برخیزم\n",
      "طایرِ قُدسم و از دامِ جهان برخیزم\n"
     ]
    },
    {
     "name": "stderr",
     "output_type": "stream",
     "text": [
      "Crawling Ghazals:  68%|██████▊   | 337/495 [31:53<11:22,  4.32s/it]"
     ]
    },
    {
     "name": "stdout",
     "output_type": "stream",
     "text": [
      "چرا نه در پِیِ عزمِ دیارِ خود باشم\n",
      "چرا نه خاکِ سرِ کویِ یارِ خود باشم\n"
     ]
    },
    {
     "name": "stderr",
     "output_type": "stream",
     "text": [
      "Crawling Ghazals:  68%|██████▊   | 338/495 [31:56<10:23,  3.97s/it]"
     ]
    },
    {
     "name": "stdout",
     "output_type": "stream",
     "text": [
      "من دوستدارِ رویِ خوش و مویِ دلکَشَم\n",
      "مَدهوشِ چَشمِ مست و مِیِ صافِ بی‌غَشَم\n"
     ]
    },
    {
     "name": "stderr",
     "output_type": "stream",
     "text": [
      "Crawling Ghazals:  68%|██████▊   | 339/495 [32:01<11:00,  4.24s/it]"
     ]
    },
    {
     "name": "stdout",
     "output_type": "stream",
     "text": [
      "خیالِ رویِ تو چون بُگذَرَد به گلشنِ چَشم\n",
      "دل از پِیِ نظر آید به سویِ روزنِ چَشم\n"
     ]
    },
    {
     "name": "stderr",
     "output_type": "stream",
     "text": [
      "Crawling Ghazals:  69%|██████▊   | 340/495 [32:04<09:57,  3.85s/it]"
     ]
    },
    {
     "name": "stdout",
     "output_type": "stream",
     "text": [
      "من که از آتشِ دل چون خُمِ مِی در جوشم\n",
      "مُهر بر لب زده، خون می‌خورم و خاموشم\n"
     ]
    },
    {
     "name": "stderr",
     "output_type": "stream",
     "text": [
      "Crawling Ghazals:  69%|██████▉   | 341/495 [32:11<12:09,  4.74s/it]"
     ]
    },
    {
     "name": "stdout",
     "output_type": "stream",
     "text": [
      "گر من از سرزنشِ مدَّعیان اندیشم\n",
      "شیوهٔ مستی و رندی نَرَوَد از پیشم\n"
     ]
    },
    {
     "name": "stderr",
     "output_type": "stream",
     "text": [
      "Crawling Ghazals:  69%|██████▉   | 342/495 [32:16<12:14,  4.80s/it]"
     ]
    },
    {
     "name": "stdout",
     "output_type": "stream",
     "text": [
      "حجابِ چهرهٔ جان می‌شود غبارِ تنم\n",
      "خوشا دَمی که از آن چهره پرده برفکنم\n"
     ]
    },
    {
     "name": "stderr",
     "output_type": "stream",
     "text": [
      "Crawling Ghazals:  69%|██████▉   | 343/495 [32:22<12:56,  5.11s/it]"
     ]
    },
    {
     "name": "stdout",
     "output_type": "stream",
     "text": [
      "چِل سال بیش رفت که من لاف می‌زنم\n",
      "کز چاکرانِ پیرِ مُغان کمترین منم\n"
     ]
    },
    {
     "name": "stderr",
     "output_type": "stream",
     "text": [
      "Crawling Ghazals:  69%|██████▉   | 344/495 [32:25<11:15,  4.47s/it]"
     ]
    },
    {
     "name": "stdout",
     "output_type": "stream",
     "text": [
      "عمریست تا من در طلب، هر روز گامی می‌زنم\n",
      "دستِ شفاعت هر زمان در نیک نامی می‌زنم\n"
     ]
    },
    {
     "name": "stderr",
     "output_type": "stream",
     "text": [
      "Crawling Ghazals:  70%|██████▉   | 345/495 [32:29<11:28,  4.59s/it]"
     ]
    },
    {
     "name": "stdout",
     "output_type": "stream",
     "text": [
      "بی تو ای سروِ روان، با گل و گلشن چه کنم؟\n",
      "زلفِ سنبل چه کشَم عارضِ سوسن چه کنم؟\n"
     ]
    },
    {
     "name": "stderr",
     "output_type": "stream",
     "text": [
      "Crawling Ghazals:  70%|██████▉   | 346/495 [32:33<10:39,  4.29s/it]"
     ]
    },
    {
     "name": "stdout",
     "output_type": "stream",
     "text": [
      "من نه آن رندم که تَرکِ شاهد و ساغر کنم\n",
      "محتسب داند که من این کارها کمتر کنم\n"
     ]
    },
    {
     "name": "stderr",
     "output_type": "stream",
     "text": [
      "Crawling Ghazals:  70%|███████   | 347/495 [32:36<09:28,  3.84s/it]"
     ]
    },
    {
     "name": "stdout",
     "output_type": "stream",
     "text": [
      "صَنَما با غمِ عشقِ تو چه تدبیر کنم؟\n",
      "تا به کِی در غمِ تو نالهٔ شبگیر کنم؟\n"
     ]
    },
    {
     "name": "stderr",
     "output_type": "stream",
     "text": [
      "Crawling Ghazals:  70%|███████   | 348/495 [32:41<10:13,  4.18s/it]"
     ]
    },
    {
     "name": "stdout",
     "output_type": "stream",
     "text": [
      "دیده دریا کُنَم و صبر به صحرا فِکَنَم\n",
      "وَاندر این کار دلِ خویش به دریا فِکَنَم\n"
     ]
    },
    {
     "name": "stderr",
     "output_type": "stream",
     "text": [
      "Crawling Ghazals:  71%|███████   | 349/495 [32:44<09:08,  3.76s/it]"
     ]
    },
    {
     "name": "stdout",
     "output_type": "stream",
     "text": [
      "دوش سودایِ رُخَش گفتم ز سر بیرون کُنَم\n",
      "گفت کو زنجیر؟ تا تدبیرِ این مجنون کُنَم\n"
     ]
    },
    {
     "name": "stderr",
     "output_type": "stream",
     "text": [
      "Crawling Ghazals:  71%|███████   | 350/495 [32:49<10:33,  4.37s/it]"
     ]
    },
    {
     "name": "stdout",
     "output_type": "stream",
     "text": [
      "به عزمِ توبه سحر گفتم استخاره کُنم\n",
      "بهارِ توبه‌شکن می‌رسد چه چاره کُنم؟\n"
     ]
    },
    {
     "name": "stderr",
     "output_type": "stream",
     "text": [
      "Crawling Ghazals:  71%|███████   | 351/495 [32:55<11:21,  4.73s/it]"
     ]
    },
    {
     "name": "stdout",
     "output_type": "stream",
     "text": [
      "حاشا که من به موسمِ گُل تَرکِ مِی کُنم\n",
      "من لافِ عقل می‌زنم، این کار کِی کنم\n"
     ]
    },
    {
     "name": "stderr",
     "output_type": "stream",
     "text": [
      "Crawling Ghazals:  71%|███████   | 352/495 [33:02<12:48,  5.37s/it]"
     ]
    },
    {
     "name": "stdout",
     "output_type": "stream",
     "text": [
      "روزگاری شد که در میخانه خدمت می‌کنم\n",
      "در لباسِ فقر کارِ اهلِ دولت می‌کنم\n"
     ]
    },
    {
     "name": "stderr",
     "output_type": "stream",
     "text": [
      "Crawling Ghazals:  71%|███████▏  | 353/495 [33:05<11:02,  4.66s/it]"
     ]
    },
    {
     "name": "stdout",
     "output_type": "stream",
     "text": [
      "من ترکِ عشقِ شاهد و ساغر نمی‌کنم\n",
      "صد بار توبه کردم و دیگر نمی‌کنم\n"
     ]
    },
    {
     "name": "stderr",
     "output_type": "stream",
     "text": [
      "Crawling Ghazals:  72%|███████▏  | 354/495 [33:10<11:09,  4.74s/it]"
     ]
    },
    {
     "name": "stdout",
     "output_type": "stream",
     "text": [
      "به مژگان سیَه کردی هزاران رِخنه در دینم\n",
      "بیا کز چَشمِ بیمارت هزاران دَرد برچینم\n"
     ]
    },
    {
     "name": "stderr",
     "output_type": "stream",
     "text": [
      "Crawling Ghazals:  72%|███████▏  | 355/495 [33:13<09:43,  4.17s/it]"
     ]
    },
    {
     "name": "stdout",
     "output_type": "stream",
     "text": [
      "حالیا مصلحتِ وقت در آن می‌بینم\n",
      "که کشم رَخت به میخانه و خوش بنشینم\n"
     ]
    },
    {
     "name": "stderr",
     "output_type": "stream",
     "text": [
      "Crawling Ghazals:  72%|███████▏  | 356/495 [33:15<08:44,  3.78s/it]"
     ]
    },
    {
     "name": "stdout",
     "output_type": "stream",
     "text": [
      "گَرَم از دست برخیزد که با دلدار بنشینم\n",
      "ز جامِ وصل مِی‌ نوشم، ز باغِ عیش گل چینم\n"
     ]
    },
    {
     "name": "stderr",
     "output_type": "stream",
     "text": [
      "Crawling Ghazals:  72%|███████▏  | 357/495 [33:23<11:28,  4.99s/it]"
     ]
    },
    {
     "name": "stdout",
     "output_type": "stream",
     "text": [
      "در خراباتِ مُغان نورِ خدا می‌بینم\n",
      "این عجب بین که چه نوری ز کجا می‌بینم\n"
     ]
    },
    {
     "name": "stderr",
     "output_type": "stream",
     "text": [
      "Crawling Ghazals:  72%|███████▏  | 358/495 [33:26<09:56,  4.36s/it]"
     ]
    },
    {
     "name": "stdout",
     "output_type": "stream",
     "text": [
      "غمِ زمانه که هیچش کَران نمی‌بینم\n",
      "دَواش جز مِیِ چون ارغوان نمی‌بینم\n"
     ]
    },
    {
     "name": "stderr",
     "output_type": "stream",
     "text": [
      "Crawling Ghazals:  73%|███████▎  | 359/495 [33:29<08:51,  3.91s/it]"
     ]
    },
    {
     "name": "stdout",
     "output_type": "stream",
     "text": [
      "خُرَّم آن روز کز این منزلِ ویران بروم\n",
      "راحتِ جان طلبم و از پِیِ جانان بروم\n"
     ]
    },
    {
     "name": "stderr",
     "output_type": "stream",
     "text": [
      "Crawling Ghazals:  73%|███████▎  | 360/495 [33:34<09:27,  4.21s/it]"
     ]
    },
    {
     "name": "stdout",
     "output_type": "stream",
     "text": [
      "گر از این منزلِ ویران به سویِ خانه رَوَم\n",
      "دگر آن جا که رَوَم عاقل و فرزانه رَوَم\n"
     ]
    },
    {
     "name": "stderr",
     "output_type": "stream",
     "text": [
      "Crawling Ghazals:  73%|███████▎  | 361/495 [33:37<08:28,  3.79s/it]"
     ]
    },
    {
     "name": "stdout",
     "output_type": "stream",
     "text": [
      "آن که پامالِ جفا کرد چو خاکِ راهم\n",
      "خاک می‌بوسم و عُذرِ قَدَمَش می‌خواهم\n"
     ]
    },
    {
     "name": "stderr",
     "output_type": "stream",
     "text": [
      "Crawling Ghazals:  73%|███████▎  | 362/495 [33:42<09:07,  4.12s/it]"
     ]
    },
    {
     "name": "stdout",
     "output_type": "stream",
     "text": [
      "دیدار شد مُیَسَّر و بوس و کنار هم\n",
      "از بَخت شُکر دارم و از روزگار هم\n"
     ]
    },
    {
     "name": "stderr",
     "output_type": "stream",
     "text": [
      "Crawling Ghazals:  73%|███████▎  | 363/495 [33:51<12:16,  5.58s/it]"
     ]
    },
    {
     "name": "stdout",
     "output_type": "stream",
     "text": [
      "دَردَم از یار است و درمان نیز هم\n",
      "دل فدایِ او شد و جان نیز هم\n"
     ]
    },
    {
     "name": "stderr",
     "output_type": "stream",
     "text": [
      "Crawling Ghazals:  74%|███████▎  | 364/495 [33:57<12:31,  5.73s/it]"
     ]
    },
    {
     "name": "stdout",
     "output_type": "stream",
     "text": [
      "ما بی‌غمانِ مست دل از دست داده‌ایم\n",
      "هم‌رازِ عشق و هم‌نفسِ جامِ باده‌ایم\n"
     ]
    },
    {
     "name": "stderr",
     "output_type": "stream",
     "text": [
      "Crawling Ghazals:  74%|███████▎  | 365/495 [34:00<10:39,  4.92s/it]"
     ]
    },
    {
     "name": "stdout",
     "output_type": "stream",
     "text": [
      "عمریست تا به راهِ غَمَت رو نهاده‌ایم\n",
      "روی و ریایِ خَلق به یک سو نهاده‌ایم\n"
     ]
    },
    {
     "name": "stderr",
     "output_type": "stream",
     "text": [
      "Crawling Ghazals:  74%|███████▍  | 366/495 [34:05<10:36,  4.94s/it]"
     ]
    },
    {
     "name": "stdout",
     "output_type": "stream",
     "text": [
      "ما بدین در نه پِیِ حشمت و جاه آمده‌ایم\n",
      "از بد حادثه این جا به پناه آمده‌ایم\n"
     ]
    },
    {
     "name": "stderr",
     "output_type": "stream",
     "text": [
      "Crawling Ghazals:  74%|███████▍  | 367/495 [34:08<09:30,  4.45s/it]"
     ]
    },
    {
     "name": "stdout",
     "output_type": "stream",
     "text": [
      "فتوی پیرِ مُغان دارم و قولیست قدیم\n",
      "که حرام است مِی آنجا که نه یار است ندیم\n"
     ]
    },
    {
     "name": "stderr",
     "output_type": "stream",
     "text": [
      "Crawling Ghazals:  74%|███████▍  | 368/495 [34:12<09:05,  4.30s/it]"
     ]
    },
    {
     "name": "stdout",
     "output_type": "stream",
     "text": [
      "خیز تا از درِ میخانه گُشادی طلبیم\n",
      "به رَهِ دوست نشینیم و مُرادی طلبیم\n"
     ]
    },
    {
     "name": "stderr",
     "output_type": "stream",
     "text": [
      "Crawling Ghazals:  75%|███████▍  | 369/495 [34:18<10:09,  4.84s/it]"
     ]
    },
    {
     "name": "stdout",
     "output_type": "stream",
     "text": [
      "ما زِ یاران چَشمِ یاری داشتیم\n",
      "خود غلط بود آنچه ما پنداشتیم\n"
     ]
    },
    {
     "name": "stderr",
     "output_type": "stream",
     "text": [
      "Crawling Ghazals:  75%|███████▍  | 370/495 [34:21<08:52,  4.26s/it]"
     ]
    },
    {
     "name": "stdout",
     "output_type": "stream",
     "text": [
      "صَلاح از ما چه می‌جویی؟ که مستان را صَلا گفتیم\n",
      "به دورِ نرگسِ مستت سلامت را دعا گفتیم\n"
     ]
    },
    {
     "name": "stderr",
     "output_type": "stream",
     "text": [
      "Crawling Ghazals:  75%|███████▍  | 371/495 [34:28<10:11,  4.93s/it]"
     ]
    },
    {
     "name": "stdout",
     "output_type": "stream",
     "text": [
      "ما درس سحر در ره میخانه نهادیم\n",
      "محصول دعا در ره جانانه نهادیم\n"
     ]
    },
    {
     "name": "stderr",
     "output_type": "stream",
     "text": [
      "Crawling Ghazals:  75%|███████▌  | 372/495 [34:32<10:04,  4.91s/it]"
     ]
    },
    {
     "name": "stdout",
     "output_type": "stream",
     "text": [
      "بگذار تا ز شارع میخانه بگذریم\n",
      "کز بهر جرعه‌ای همه محتاج این دریم\n"
     ]
    },
    {
     "name": "stderr",
     "output_type": "stream",
     "text": [
      "Crawling Ghazals:  75%|███████▌  | 373/495 [34:35<08:46,  4.32s/it]"
     ]
    },
    {
     "name": "stdout",
     "output_type": "stream",
     "text": [
      "خیز تا خرقه صوفی به خرابات بریم\n",
      "شطح و طامات به بازار خرافات بریم\n"
     ]
    },
    {
     "name": "stderr",
     "output_type": "stream",
     "text": [
      "Crawling Ghazals:  76%|███████▌  | 374/495 [34:42<10:22,  5.14s/it]"
     ]
    },
    {
     "name": "stdout",
     "output_type": "stream",
     "text": [
      "بیا تا گل برافشانیم و می در ساغر اندازیم\n",
      "فلک را سقف بشکافیم و طرحی نو دراندازیم\n"
     ]
    },
    {
     "name": "stderr",
     "output_type": "stream",
     "text": [
      "Crawling Ghazals:  76%|███████▌  | 375/495 [34:47<10:09,  5.08s/it]"
     ]
    },
    {
     "name": "stdout",
     "output_type": "stream",
     "text": [
      "صوفی بیا که خرقه سالوس برکشیم\n",
      "وین نقش زرق را خط بطلان به سر کشیم\n"
     ]
    },
    {
     "name": "stderr",
     "output_type": "stream",
     "text": [
      "Crawling Ghazals:  76%|███████▌  | 376/495 [34:51<09:30,  4.79s/it]"
     ]
    },
    {
     "name": "stdout",
     "output_type": "stream",
     "text": [
      "دوستان وقت گل آن به که به عشرت کوشیم\n",
      "سخن اهل دل است این و به جان بنیوشیم\n"
     ]
    },
    {
     "name": "stderr",
     "output_type": "stream",
     "text": [
      "Crawling Ghazals:  76%|███████▌  | 377/495 [34:54<08:18,  4.23s/it]"
     ]
    },
    {
     "name": "stdout",
     "output_type": "stream",
     "text": [
      "ما شبی دست برآریم و دعایی بکنیم\n",
      "غم هجران تو را چاره ز جایی بکنیم\n"
     ]
    },
    {
     "name": "stderr",
     "output_type": "stream",
     "text": [
      "Crawling Ghazals:  76%|███████▋  | 378/495 [35:02<10:22,  5.32s/it]"
     ]
    },
    {
     "name": "stdout",
     "output_type": "stream",
     "text": [
      "ما نگوییم بد و میل به ناحق نکنیم\n",
      "جامه کس سیه و دلق خود ازرق نکنیم\n"
     ]
    },
    {
     "name": "stderr",
     "output_type": "stream",
     "text": [
      "Crawling Ghazals:  77%|███████▋  | 379/495 [35:05<08:56,  4.63s/it]"
     ]
    },
    {
     "name": "stdout",
     "output_type": "stream",
     "text": [
      "سرم خوش است و به بانگ بلند می‌گویم\n",
      "که من نسیم حیات از پیاله می‌جویم\n"
     ]
    },
    {
     "name": "stderr",
     "output_type": "stream",
     "text": [
      "Crawling Ghazals:  77%|███████▋  | 380/495 [35:08<07:51,  4.10s/it]"
     ]
    },
    {
     "name": "stdout",
     "output_type": "stream",
     "text": [
      "بارها گفته‌ام و بار دگر می‌گویم\n",
      "که من دلشده این ره نه به خود می‌پویم\n"
     ]
    },
    {
     "name": "stderr",
     "output_type": "stream",
     "text": [
      "Crawling Ghazals:  77%|███████▋  | 381/495 [35:13<08:13,  4.33s/it]"
     ]
    },
    {
     "name": "stdout",
     "output_type": "stream",
     "text": [
      "گرچه ما بندگان پادشهیم\n",
      "پادشاهان ملک صبحگهیم\n"
     ]
    },
    {
     "name": "stderr",
     "output_type": "stream",
     "text": [
      "Crawling Ghazals:  77%|███████▋  | 382/495 [35:16<07:18,  3.88s/it]"
     ]
    },
    {
     "name": "stdout",
     "output_type": "stream",
     "text": [
      "فاتحه‌ای چو آمدی بر سر خسته‌ای بخوان\n",
      "لب بگشا که می‌دهد لعل لبت به مرده جان\n"
     ]
    },
    {
     "name": "stderr",
     "output_type": "stream",
     "text": [
      "Crawling Ghazals:  77%|███████▋  | 383/495 [35:19<06:39,  3.56s/it]"
     ]
    },
    {
     "name": "stdout",
     "output_type": "stream",
     "text": [
      "چندان که گفتم غم با طبیبان\n",
      "درمان نکردند مسکین غریبان\n"
     ]
    },
    {
     "name": "stderr",
     "output_type": "stream",
     "text": [
      "Crawling Ghazals:  78%|███████▊  | 384/495 [35:24<07:21,  3.98s/it]"
     ]
    },
    {
     "name": "stdout",
     "output_type": "stream",
     "text": [
      "می‌سوزم از فِراقت روی از جَفا بگردان\n",
      "هجران بلایِ ما شد، یا رب بلا بگردان\n"
     ]
    },
    {
     "name": "stderr",
     "output_type": "stream",
     "text": [
      "Crawling Ghazals:  78%|███████▊  | 385/495 [35:33<10:29,  5.72s/it]"
     ]
    },
    {
     "name": "stdout",
     "output_type": "stream",
     "text": [
      "یا رب آن آهوی مشکین به خُتَن باز رسان\n",
      "وان سهی سروِ خرامان به چمن باز رسان\n"
     ]
    },
    {
     "name": "stderr",
     "output_type": "stream",
     "text": [
      "Crawling Ghazals:  78%|███████▊  | 386/495 [35:36<08:53,  4.89s/it]"
     ]
    },
    {
     "name": "stdout",
     "output_type": "stream",
     "text": [
      "خدا را کم نشین با خرقه پوشان\n",
      "رخ از رندان بی‌سامان مپوشان\n"
     ]
    },
    {
     "name": "stderr",
     "output_type": "stream",
     "text": [
      "Crawling Ghazals:  78%|███████▊  | 387/495 [35:42<09:20,  5.19s/it]"
     ]
    },
    {
     "name": "stdout",
     "output_type": "stream",
     "text": [
      "شاه شمشادقدان خسرو شیرین‌دهنان\n",
      "که به مژگان شکند قلب همه صف‌شکنان\n"
     ]
    },
    {
     "name": "stderr",
     "output_type": "stream",
     "text": [
      "Crawling Ghazals:  78%|███████▊  | 388/495 [35:45<08:04,  4.53s/it]"
     ]
    },
    {
     "name": "stdout",
     "output_type": "stream",
     "text": [
      "بهار و گل طرب‌انگیز گشت و توبه‌شکن\n",
      "به شادی رخِ گل بیخ غم ز دل بر کن\n"
     ]
    },
    {
     "name": "stderr",
     "output_type": "stream",
     "text": [
      "Crawling Ghazals:  79%|███████▊  | 389/495 [35:48<07:14,  4.10s/it]"
     ]
    },
    {
     "name": "stdout",
     "output_type": "stream",
     "text": [
      "چو گل هر دم به بویت جامه در تن\n",
      "کنم چاک از گریبان تا به دامن\n"
     ]
    },
    {
     "name": "stderr",
     "output_type": "stream",
     "text": [
      "Crawling Ghazals:  79%|███████▉  | 390/495 [35:54<07:48,  4.46s/it]"
     ]
    },
    {
     "name": "stdout",
     "output_type": "stream",
     "text": [
      "افسر سلطان گل پیدا شد از طرف چمن\n",
      "مقدمش یا رب مبارک باد بر سرو و سمن\n"
     ]
    },
    {
     "name": "stderr",
     "output_type": "stream",
     "text": [
      "Crawling Ghazals:  79%|███████▉  | 391/495 [35:57<06:56,  4.01s/it]"
     ]
    },
    {
     "name": "stdout",
     "output_type": "stream",
     "text": [
      "خوش‌تر از فکر می و جام چه خواهد بودن؟\n",
      "تا ببینم که سرانجام چه خواهد بودن\n"
     ]
    },
    {
     "name": "stderr",
     "output_type": "stream",
     "text": [
      "Crawling Ghazals:  79%|███████▉  | 392/495 [36:03<08:04,  4.70s/it]"
     ]
    },
    {
     "name": "stdout",
     "output_type": "stream",
     "text": [
      "دانی که چیست دولت؟ دیدار یار دیدن\n",
      "در کوی او گدایی، بر خسروی گزیدن\n"
     ]
    },
    {
     "name": "stderr",
     "output_type": "stream",
     "text": [
      "Crawling Ghazals:  79%|███████▉  | 393/495 [36:08<08:02,  4.73s/it]"
     ]
    },
    {
     "name": "stdout",
     "output_type": "stream",
     "text": [
      "منم که شهره شهرم به عشق ورزیدن\n",
      "منم که دیده نیالوده‌ام به بد دیدن\n"
     ]
    },
    {
     "name": "stderr",
     "output_type": "stream",
     "text": [
      "Crawling Ghazals:  80%|███████▉  | 394/495 [36:10<06:59,  4.15s/it]"
     ]
    },
    {
     "name": "stdout",
     "output_type": "stream",
     "text": [
      "ای روی ماه‌منظر تو نوبهار حُسن\n",
      "خال و خط تو مرکز حُسن و مدار حُسن\n"
     ]
    },
    {
     "name": "stderr",
     "output_type": "stream",
     "text": [
      "Crawling Ghazals:  80%|███████▉  | 395/495 [36:13<06:14,  3.74s/it]"
     ]
    },
    {
     "name": "stdout",
     "output_type": "stream",
     "text": [
      "گُلبرگ را ز سُنْبُلِ مُشکین، نِقاب کُن\n",
      "یعنی که رُخ بپوش و جهانی، خراب کُن\n"
     ]
    },
    {
     "name": "stderr",
     "output_type": "stream",
     "text": [
      "Crawling Ghazals:  80%|████████  | 396/495 [36:22<08:41,  5.27s/it]"
     ]
    },
    {
     "name": "stdout",
     "output_type": "stream",
     "text": [
      "صبح است ساقیا قدحی پرشراب کن\n",
      "دور فلک درنگ ندارد شتاب کن\n"
     ]
    },
    {
     "name": "stderr",
     "output_type": "stream",
     "text": [
      "Crawling Ghazals:  80%|████████  | 397/495 [36:25<07:28,  4.58s/it]"
     ]
    },
    {
     "name": "stdout",
     "output_type": "stream",
     "text": [
      "ز در در آ و شبستان ما منور کن\n",
      "هوای مجلس روحانیان معطر کن\n"
     ]
    },
    {
     "name": "stderr",
     "output_type": "stream",
     "text": [
      "Crawling Ghazals:  80%|████████  | 398/495 [36:28<06:35,  4.08s/it]"
     ]
    },
    {
     "name": "stdout",
     "output_type": "stream",
     "text": [
      "ای نور چشم من سخنی هست گوش کن\n",
      "چون ساغرت پُر است بنوشان و نوش کن\n"
     ]
    },
    {
     "name": "stderr",
     "output_type": "stream",
     "text": [
      "Crawling Ghazals:  81%|████████  | 399/495 [36:36<08:20,  5.21s/it]"
     ]
    },
    {
     "name": "stdout",
     "output_type": "stream",
     "text": [
      "کرشمه‌ای کن و بازار ساحری بشکن\n",
      "به غمزه رونق و ناموس سامری بشکن\n"
     ]
    },
    {
     "name": "stderr",
     "output_type": "stream",
     "text": [
      "Crawling Ghazals:  81%|████████  | 400/495 [36:39<07:08,  4.51s/it]"
     ]
    },
    {
     "name": "stdout",
     "output_type": "stream",
     "text": [
      "بالابلندِ عِشْوِه‌گرِ نقش‌بازِ من\n",
      "کوتاه کرد قصّهٔ زُهْدِ درازِ من\n"
     ]
    },
    {
     "name": "stderr",
     "output_type": "stream",
     "text": [
      "Crawling Ghazals:  81%|████████  | 401/495 [36:42<06:18,  4.02s/it]"
     ]
    },
    {
     "name": "stdout",
     "output_type": "stream",
     "text": [
      "چون شوم خاک رهش دامن بیفشاند ز من\n",
      "ور بگویم دل بگردان رو بگرداند ز من\n"
     ]
    },
    {
     "name": "stderr",
     "output_type": "stream",
     "text": [
      "Crawling Ghazals:  81%|████████  | 402/495 [36:47<06:42,  4.33s/it]"
     ]
    },
    {
     "name": "stdout",
     "output_type": "stream",
     "text": [
      "نکته‌ای دلکَش بگویم خالِ آن مَه‌رو ببین\n",
      "عقل و جان را بستهٔ زنجیرِ آن گیسو ببین\n"
     ]
    },
    {
     "name": "stderr",
     "output_type": "stream",
     "text": [
      "Crawling Ghazals:  81%|████████▏ | 403/495 [36:50<06:01,  3.93s/it]"
     ]
    },
    {
     "name": "stdout",
     "output_type": "stream",
     "text": [
      "شراب لعل‌کش و روی مه‌جبینان بین\n",
      "خلاف مذهب آنان جمال اینان بین\n"
     ]
    },
    {
     "name": "stderr",
     "output_type": "stream",
     "text": [
      "Crawling Ghazals:  82%|████████▏ | 404/495 [36:53<05:31,  3.64s/it]"
     ]
    },
    {
     "name": "stdout",
     "output_type": "stream",
     "text": [
      "می‌فکن بر صف رندان نظری بهتر از این\n",
      "بر در میکده می‌کن گذری بهتر از این\n"
     ]
    },
    {
     "name": "stderr",
     "output_type": "stream",
     "text": [
      "Crawling Ghazals:  82%|████████▏ | 405/495 [36:57<06:01,  4.01s/it]"
     ]
    },
    {
     "name": "stdout",
     "output_type": "stream",
     "text": [
      "به جان پیر خرابات و حق صحبت او\n",
      "که نیست در سر من جز هوای خدمت او\n"
     ]
    },
    {
     "name": "stderr",
     "output_type": "stream",
     "text": [
      "Crawling Ghazals:  82%|████████▏ | 406/495 [37:03<06:47,  4.58s/it]"
     ]
    },
    {
     "name": "stdout",
     "output_type": "stream",
     "text": [
      "گفتا برون شدی به تماشای ماهِ نو\n",
      "از ماهِ ابروانِ مَنت شرم باد رو\n"
     ]
    },
    {
     "name": "stderr",
     "output_type": "stream",
     "text": [
      "Crawling Ghazals:  82%|████████▏ | 407/495 [37:10<07:44,  5.28s/it]"
     ]
    },
    {
     "name": "stdout",
     "output_type": "stream",
     "text": [
      "مزرعِ سبزِ فلک دیدم و داسِ مه نو\n",
      "یادم از کِشتهٔ خویش آمد و هنگامِ درو\n"
     ]
    },
    {
     "name": "stderr",
     "output_type": "stream",
     "text": [
      "Crawling Ghazals:  82%|████████▏ | 408/495 [37:15<07:28,  5.16s/it]"
     ]
    },
    {
     "name": "stdout",
     "output_type": "stream",
     "text": [
      "ای آفتاب آینه دار جمال تو\n",
      "مشک سیاه مجمره گردان خال تو\n"
     ]
    },
    {
     "name": "stderr",
     "output_type": "stream",
     "text": [
      "Crawling Ghazals:  83%|████████▎ | 409/495 [37:18<06:24,  4.47s/it]"
     ]
    },
    {
     "name": "stdout",
     "output_type": "stream",
     "text": [
      "ای خونبهای نافه چین خاک راه تو\n",
      "خورشید سایه‌پرور طرف کلاه تو\n"
     ]
    },
    {
     "name": "stderr",
     "output_type": "stream",
     "text": [
      "Crawling Ghazals:  83%|████████▎ | 410/495 [37:21<05:43,  4.04s/it]"
     ]
    },
    {
     "name": "stdout",
     "output_type": "stream",
     "text": [
      "ای قبای پادشاهی راست بر بالای تو\n",
      "زینتِ تاج و نگین از گوهرِ والای تو\n"
     ]
    },
    {
     "name": "stderr",
     "output_type": "stream",
     "text": [
      "Crawling Ghazals:  83%|████████▎ | 411/495 [37:26<06:01,  4.30s/it]"
     ]
    },
    {
     "name": "stdout",
     "output_type": "stream",
     "text": [
      "تاب بنفشه می‌دهد طرّهٔ مشک‌سای تو\n",
      "پردهٔ غنچه می‌درد خندهٔ دلگشای تو\n"
     ]
    },
    {
     "name": "stderr",
     "output_type": "stream",
     "text": [
      "Crawling Ghazals:  83%|████████▎ | 412/495 [37:29<05:25,  3.92s/it]"
     ]
    },
    {
     "name": "stdout",
     "output_type": "stream",
     "text": [
      "مرا چشمی‌ست خون‌افشان ز دست آن کمان‌ابرو\n",
      "جهان بس فتنه خواهد دید از آن چشم و از آن ابرو\n"
     ]
    },
    {
     "name": "stderr",
     "output_type": "stream",
     "text": [
      "Crawling Ghazals:  83%|████████▎ | 413/495 [37:35<06:10,  4.52s/it]"
     ]
    },
    {
     "name": "stdout",
     "output_type": "stream",
     "text": [
      "خط عذار یار که بگرفت ماه از او\n",
      "خوش حلقه‌ای‌ست لیک به دَر نیست راه از او\n"
     ]
    },
    {
     "name": "stderr",
     "output_type": "stream",
     "text": [
      "Crawling Ghazals:  84%|████████▎ | 414/495 [37:40<06:13,  4.61s/it]"
     ]
    },
    {
     "name": "stdout",
     "output_type": "stream",
     "text": [
      "گلبن عیش می‌دمد ساقی گل‌عذار کو؟\n",
      "باد بهار می‌وزد بادهٔ خوش‌گوار کو؟\n"
     ]
    },
    {
     "name": "stderr",
     "output_type": "stream",
     "text": [
      "Crawling Ghazals:  84%|████████▍ | 415/495 [37:43<05:30,  4.13s/it]"
     ]
    },
    {
     "name": "stdout",
     "output_type": "stream",
     "text": [
      "ای پیک راستان خبر یار ما بگو\n",
      "احوال گل به بلبل دستان‌سرا بگو\n"
     ]
    },
    {
     "name": "stderr",
     "output_type": "stream",
     "text": [
      "Crawling Ghazals:  84%|████████▍ | 416/495 [37:46<04:56,  3.75s/it]"
     ]
    },
    {
     "name": "stdout",
     "output_type": "stream",
     "text": [
      "خنک نسیم معنبر شمامه‌ای دل‌خواه\n",
      "که در هوای تو برخاست بامداد پگاه\n"
     ]
    },
    {
     "name": "stderr",
     "output_type": "stream",
     "text": [
      "Crawling Ghazals:  84%|████████▍ | 417/495 [37:50<05:18,  4.08s/it]"
     ]
    },
    {
     "name": "stdout",
     "output_type": "stream",
     "text": [
      "عیشم مدام است، از لعل دل‌خواه\n",
      "کارم به کام است، الحمدلله\n"
     ]
    },
    {
     "name": "stderr",
     "output_type": "stream",
     "text": [
      "Crawling Ghazals:  84%|████████▍ | 418/495 [37:57<06:18,  4.91s/it]"
     ]
    },
    {
     "name": "stdout",
     "output_type": "stream",
     "text": [
      "گر تیغ بارد در کوی آن ماه\n",
      "گردن نهادیم الحکمُ لِلّه\n"
     ]
    },
    {
     "name": "stderr",
     "output_type": "stream",
     "text": [
      "Crawling Ghazals:  85%|████████▍ | 419/495 [38:00<05:30,  4.35s/it]"
     ]
    },
    {
     "name": "stdout",
     "output_type": "stream",
     "text": [
      "وصال او ز عمر جاودان به\n",
      "خداوندا مرا آن ده که آن به\n"
     ]
    },
    {
     "name": "stderr",
     "output_type": "stream",
     "text": [
      "Crawling Ghazals:  85%|████████▍ | 420/495 [38:08<06:47,  5.44s/it]"
     ]
    },
    {
     "name": "stdout",
     "output_type": "stream",
     "text": [
      "ناگهان پرده برانداخته‌ای یعنی چه؟\n",
      "مست از خانه برون تاخته‌ای یعنی چه؟\n"
     ]
    },
    {
     "name": "stderr",
     "output_type": "stream",
     "text": [
      "Crawling Ghazals:  85%|████████▌ | 421/495 [38:11<05:46,  4.68s/it]"
     ]
    },
    {
     "name": "stdout",
     "output_type": "stream",
     "text": [
      "درِ سرایِ مغان رُفته بود و آب زده\n",
      "نشسته پیر و صلایی به شیخ و شاب زده\n"
     ]
    },
    {
     "name": "stderr",
     "output_type": "stream",
     "text": [
      "Crawling Ghazals:  85%|████████▌ | 422/495 [38:14<05:03,  4.16s/it]"
     ]
    },
    {
     "name": "stdout",
     "output_type": "stream",
     "text": [
      "ای که با سلسلهٔ زلف دراز آمده‌ای\n",
      "فرصتت باد که دیوانه‌نواز آمده‌ای\n"
     ]
    },
    {
     "name": "stderr",
     "output_type": "stream",
     "text": [
      "Crawling Ghazals:  85%|████████▌ | 423/495 [38:20<05:32,  4.61s/it]"
     ]
    },
    {
     "name": "stdout",
     "output_type": "stream",
     "text": [
      "دوش رفتم به در میکده خواب‌آلوده\n",
      "خرقه تر دامن و سجّاده شراب‌آلوده\n"
     ]
    },
    {
     "name": "stderr",
     "output_type": "stream",
     "text": [
      "Crawling Ghazals:  86%|████████▌ | 424/495 [38:23<04:52,  4.12s/it]"
     ]
    },
    {
     "name": "stdout",
     "output_type": "stream",
     "text": [
      "از من جدا مشو که توام نور دیده‌ای\n",
      "آرام جان و مونس قلب رمیده‌ای\n"
     ]
    },
    {
     "name": "stderr",
     "output_type": "stream",
     "text": [
      "Crawling Ghazals:  86%|████████▌ | 425/495 [38:26<04:24,  3.78s/it]"
     ]
    },
    {
     "name": "stdout",
     "output_type": "stream",
     "text": [
      "دامن‌کشان همی شد در شرب زرکشیده\n",
      "صد ماهرو ز رشکش جَیب قصب دریده\n"
     ]
    },
    {
     "name": "stderr",
     "output_type": "stream",
     "text": [
      "Crawling Ghazals:  86%|████████▌ | 426/495 [38:31<04:51,  4.23s/it]"
     ]
    },
    {
     "name": "stdout",
     "output_type": "stream",
     "text": [
      "از خون دل نوشتم، نزدیک دوست نامه\n",
      "«اِنّی رَأیتُ دَهراً، مِن هَجْرِکَ القیامه»\n"
     ]
    },
    {
     "name": "stderr",
     "output_type": "stream",
     "text": [
      "Crawling Ghazals:  86%|████████▋ | 427/495 [38:37<05:29,  4.85s/it]"
     ]
    },
    {
     "name": "stdout",
     "output_type": "stream",
     "text": [
      "چراغ روی تو را شمع گشت پروانه\n",
      "مرا ز حال تو با حال خویش پروا، نه\n"
     ]
    },
    {
     "name": "stderr",
     "output_type": "stream",
     "text": [
      "Crawling Ghazals:  86%|████████▋ | 428/495 [38:40<04:44,  4.24s/it]"
     ]
    },
    {
     "name": "stdout",
     "output_type": "stream",
     "text": [
      "سحرگاهان که مخمور شبانه\n",
      "گرفتم باده با چنگ و چغانه\n"
     ]
    },
    {
     "name": "stderr",
     "output_type": "stream",
     "text": [
      "Crawling Ghazals:  87%|████████▋ | 429/495 [38:49<06:11,  5.63s/it]"
     ]
    },
    {
     "name": "stdout",
     "output_type": "stream",
     "text": [
      "ساقی بیا که شد قدحِ لاله پر ز می\n",
      "طامات تا به چند و خرافات تا به کی؟\n"
     ]
    },
    {
     "name": "stderr",
     "output_type": "stream",
     "text": [
      "Crawling Ghazals:  87%|████████▋ | 430/495 [38:52<05:15,  4.85s/it]"
     ]
    },
    {
     "name": "stdout",
     "output_type": "stream",
     "text": [
      "به صوت بلبل و قمری اگر ننوشی می\n",
      "علاج کی کنمت؟ آخرالدواء الکی\n"
     ]
    },
    {
     "name": "stderr",
     "output_type": "stream",
     "text": [
      "Crawling Ghazals:  87%|████████▋ | 431/495 [38:55<04:31,  4.25s/it]"
     ]
    },
    {
     "name": "stdout",
     "output_type": "stream",
     "text": [
      "لبش می‌بوسم و در می‌کشم می\n",
      "به آب زندگانی برده‌ام پی\n"
     ]
    },
    {
     "name": "stderr",
     "output_type": "stream",
     "text": [
      "Crawling Ghazals:  87%|████████▋ | 432/495 [39:00<04:38,  4.42s/it]"
     ]
    },
    {
     "name": "stdout",
     "output_type": "stream",
     "text": [
      "مخمور جام عشقم، ساقی بده شرابی\n",
      "پُر کن قدح که بی مِی، مجلس ندارد آبی\n"
     ]
    },
    {
     "name": "stderr",
     "output_type": "stream",
     "text": [
      "Crawling Ghazals:  87%|████████▋ | 433/495 [39:03<04:09,  4.03s/it]"
     ]
    },
    {
     "name": "stdout",
     "output_type": "stream",
     "text": [
      "ای که بر ماه از خط مشکین نقاب انداختی\n",
      "لطف کردی سایه‌ای بر آفتاب انداختی\n"
     ]
    },
    {
     "name": "stderr",
     "output_type": "stream",
     "text": [
      "Crawling Ghazals:  88%|████████▊ | 434/495 [39:09<04:43,  4.64s/it]"
     ]
    },
    {
     "name": "stdout",
     "output_type": "stream",
     "text": [
      "ای دل مباش یک دم خالی ز عشق و مستی\n",
      "وان گه برو که رستی از نیستی و هستی\n"
     ]
    },
    {
     "name": "stderr",
     "output_type": "stream",
     "text": [
      "Crawling Ghazals:  88%|████████▊ | 435/495 [39:14<04:44,  4.74s/it]"
     ]
    },
    {
     "name": "stdout",
     "output_type": "stream",
     "text": [
      "با مدّعی مگویید، اسرارِ عشق و مستی\n",
      "تا بی‌خبر بمیرد، در دردِ خودپرستی\n"
     ]
    },
    {
     "name": "stderr",
     "output_type": "stream",
     "text": [
      "Crawling Ghazals:  88%|████████▊ | 436/495 [39:17<04:07,  4.20s/it]"
     ]
    },
    {
     "name": "stdout",
     "output_type": "stream",
     "text": [
      "آن غالیه‌خط گر سوی ما نامه نوشتی\n",
      "گردون! ورق هستی ما درننوشتی\n"
     ]
    },
    {
     "name": "stderr",
     "output_type": "stream",
     "text": [
      "Crawling Ghazals:  88%|████████▊ | 437/495 [39:20<03:40,  3.80s/it]"
     ]
    },
    {
     "name": "stdout",
     "output_type": "stream",
     "text": [
      "ای قصهٔ بهشت ز کویت حکایتی\n",
      "شرح جمال حور ز رویت روایتی\n"
     ]
    },
    {
     "name": "stderr",
     "output_type": "stream",
     "text": [
      "Crawling Ghazals:  88%|████████▊ | 438/495 [39:25<03:55,  4.13s/it]"
     ]
    },
    {
     "name": "stdout",
     "output_type": "stream",
     "text": [
      "سَبَتْ سَلْمیٰ بِصُدْغَیها فُؤادي\n",
      "و رُوحي کُلَّ یَومٍ لي یُنادي\n"
     ]
    },
    {
     "name": "stderr",
     "output_type": "stream",
     "text": [
      "Crawling Ghazals:  89%|████████▊ | 439/495 [39:28<03:31,  3.78s/it]"
     ]
    },
    {
     "name": "stdout",
     "output_type": "stream",
     "text": [
      "دیدم به خواب دوش که ماهی برآمدی\n",
      "کز عکس روی او شب هجران سر آمدی\n"
     ]
    },
    {
     "name": "stderr",
     "output_type": "stream",
     "text": [
      "Crawling Ghazals:  89%|████████▉ | 440/495 [39:35<04:25,  4.83s/it]"
     ]
    },
    {
     "name": "stdout",
     "output_type": "stream",
     "text": [
      "سحر با باد می‌گفتم حدیث آرزومندی\n",
      "خطاب آمد که «واثق شو به الطاف خداوندی»\n"
     ]
    },
    {
     "name": "stderr",
     "output_type": "stream",
     "text": [
      "Crawling Ghazals:  89%|████████▉ | 441/495 [39:43<05:10,  5.75s/it]"
     ]
    },
    {
     "name": "stdout",
     "output_type": "stream",
     "text": [
      "چه بودی ار دل آن ماه مهربان بودی؟\n",
      "که حال ما نه چنین بودی ار چنان بودی\n"
     ]
    },
    {
     "name": "stderr",
     "output_type": "stream",
     "text": [
      "Crawling Ghazals:  89%|████████▉ | 442/495 [39:47<04:42,  5.33s/it]"
     ]
    },
    {
     "name": "stdout",
     "output_type": "stream",
     "text": [
      "به جان او که گرم دسترس به جان بودی\n",
      "کمینه پیشکش بندگانش آن بودی\n"
     ]
    },
    {
     "name": "stderr",
     "output_type": "stream",
     "text": [
      "Crawling Ghazals:  89%|████████▉ | 443/495 [39:50<04:01,  4.64s/it]"
     ]
    },
    {
     "name": "stdout",
     "output_type": "stream",
     "text": [
      "چو سرو اگر بخرامی دمی به گلزاری\n",
      "خورد ز غیرت روی تو هر گلی خاری\n"
     ]
    },
    {
     "name": "stderr",
     "output_type": "stream",
     "text": [
      "Crawling Ghazals:  90%|████████▉ | 444/495 [39:55<04:04,  4.80s/it]"
     ]
    },
    {
     "name": "stdout",
     "output_type": "stream",
     "text": [
      "شهری‌ست پُر ظریفان وز هر طرف نگاری\n",
      "یاران! صلای عشق است گر می‌کنید کاری\n"
     ]
    },
    {
     "name": "stderr",
     "output_type": "stream",
     "text": [
      "Crawling Ghazals:  90%|████████▉ | 445/495 [39:58<03:31,  4.22s/it]"
     ]
    },
    {
     "name": "stdout",
     "output_type": "stream",
     "text": [
      "تو را که هر چه مراد است در جهان داری\n",
      "چه غم ز حال ضعیفان ناتوان داری؟\n"
     ]
    },
    {
     "name": "stderr",
     "output_type": "stream",
     "text": [
      "Crawling Ghazals:  90%|█████████ | 446/495 [40:01<03:12,  3.93s/it]"
     ]
    },
    {
     "name": "stdout",
     "output_type": "stream",
     "text": [
      "صبا تو نکهت آن زلف مشک بو داری\n",
      "به یادگار بمانی که بوی او داری\n"
     ]
    },
    {
     "name": "stderr",
     "output_type": "stream",
     "text": [
      "Crawling Ghazals:  90%|█████████ | 447/495 [40:07<03:28,  4.33s/it]"
     ]
    },
    {
     "name": "stdout",
     "output_type": "stream",
     "text": [
      "بیا با ما مَوَرز این کینه‌داری\n",
      "که حق صحبت دیرینه داری\n"
     ]
    },
    {
     "name": "stderr",
     "output_type": "stream",
     "text": [
      "Crawling Ghazals:  91%|█████████ | 448/495 [40:13<03:45,  4.79s/it]"
     ]
    },
    {
     "name": "stdout",
     "output_type": "stream",
     "text": [
      "ای که در کوی خرابات مقامی داری\n",
      "جم وقت خودی ار دست به جامی داری\n"
     ]
    },
    {
     "name": "stderr",
     "output_type": "stream",
     "text": [
      "Crawling Ghazals:  91%|█████████ | 449/495 [40:17<03:38,  4.76s/it]"
     ]
    },
    {
     "name": "stdout",
     "output_type": "stream",
     "text": [
      "ای که مهجوری عشاق روا می‌داری\n",
      "عاشقان را ز بر خویش جدا می‌داری\n"
     ]
    },
    {
     "name": "stderr",
     "output_type": "stream",
     "text": [
      "Crawling Ghazals:  91%|█████████ | 450/495 [40:23<03:45,  5.01s/it]"
     ]
    },
    {
     "name": "stdout",
     "output_type": "stream",
     "text": [
      "روزگاری‌ست که ما را نگران می‌داری\n",
      "مخلصان را نه به وضع دگران می‌داری\n"
     ]
    },
    {
     "name": "stderr",
     "output_type": "stream",
     "text": [
      "Crawling Ghazals:  91%|█████████ | 451/495 [40:30<04:04,  5.56s/it]"
     ]
    },
    {
     "name": "stdout",
     "output_type": "stream",
     "text": [
      "خوش کرد یاوری فلکت روز داوری\n",
      "تا شکر چون کنی و چه شکرانه آوری\n"
     ]
    },
    {
     "name": "stderr",
     "output_type": "stream",
     "text": [
      "Crawling Ghazals:  91%|█████████▏| 452/495 [40:33<03:26,  4.81s/it]"
     ]
    },
    {
     "name": "stdout",
     "output_type": "stream",
     "text": [
      "طُفیلِ هستیِ عشقند آدمیّ و پَری\n",
      "ارادتی بنما تا سعادتی بِبَری\n"
     ]
    },
    {
     "name": "stderr",
     "output_type": "stream",
     "text": [
      "Crawling Ghazals:  92%|█████████▏| 453/495 [40:38<03:22,  4.83s/it]"
     ]
    },
    {
     "name": "stdout",
     "output_type": "stream",
     "text": [
      "ای که دایم به خویش مغروری\n",
      "گر تو را عشق نیست معذوری\n"
     ]
    },
    {
     "name": "stderr",
     "output_type": "stream",
     "text": [
      "Crawling Ghazals:  92%|█████████▏| 454/495 [40:41<03:05,  4.54s/it]"
     ]
    },
    {
     "name": "stdout",
     "output_type": "stream",
     "text": [
      "ز کوی یار می‌آید نسیم باد نوروزی\n",
      "از این باد ار مدد خواهی چراغ دل برافروزی\n"
     ]
    },
    {
     "name": "stderr",
     "output_type": "stream",
     "text": [
      "Crawling Ghazals:  92%|█████████▏| 455/495 [40:48<03:19,  4.98s/it]"
     ]
    },
    {
     "name": "stdout",
     "output_type": "stream",
     "text": [
      "عمر بگذشت به بی‌حاصلی و بوالهوسی\n",
      "ای پسر جام مِی‌ام ده که به پیری برسی\n"
     ]
    },
    {
     "name": "stderr",
     "output_type": "stream",
     "text": [
      "Crawling Ghazals:  92%|█████████▏| 456/495 [40:52<03:12,  4.95s/it]"
     ]
    },
    {
     "name": "stdout",
     "output_type": "stream",
     "text": [
      "نوبهار است در آن کوش که خوش‌دل باشی\n",
      "که بسی گُل بدمد باز و تو در گِل باشی\n"
     ]
    },
    {
     "name": "stderr",
     "output_type": "stream",
     "text": [
      "Crawling Ghazals:  92%|█████████▏| 457/495 [40:55<02:44,  4.33s/it]"
     ]
    },
    {
     "name": "stdout",
     "output_type": "stream",
     "text": [
      "هزار جهد بکردم که یار من باشی\n",
      "مرادبخش دل بی‌قرار من باشی\n"
     ]
    },
    {
     "name": "stderr",
     "output_type": "stream",
     "text": [
      "Crawling Ghazals:  93%|█████████▎| 458/495 [40:58<02:23,  3.87s/it]"
     ]
    },
    {
     "name": "stdout",
     "output_type": "stream",
     "text": [
      "ای دل آن دم که خراب از می گلگون باشی\n",
      "بی زر و گنج به صد حشمت قارون باشی\n"
     ]
    },
    {
     "name": "stderr",
     "output_type": "stream",
     "text": [
      "Crawling Ghazals:  93%|█████████▎| 459/495 [41:03<02:31,  4.20s/it]"
     ]
    },
    {
     "name": "stdout",
     "output_type": "stream",
     "text": [
      "زین خوش رقم که بر گل رخسار می‌کشی\n",
      "خط بر صحیفهٔ گل و گلزار می‌کشی\n"
     ]
    },
    {
     "name": "stderr",
     "output_type": "stream",
     "text": [
      "Crawling Ghazals:  93%|█████████▎| 460/495 [41:06<02:16,  3.91s/it]"
     ]
    },
    {
     "name": "stdout",
     "output_type": "stream",
     "text": [
      "سُلَیمیٰ مُنذُ حَلَّت بِالْعراقِ\n",
      "أُلاقی مِن نَواها ما أُلاقی\n"
     ]
    },
    {
     "name": "stderr",
     "output_type": "stream",
     "text": [
      "Crawling Ghazals:  93%|█████████▎| 461/495 [41:09<02:02,  3.61s/it]"
     ]
    },
    {
     "name": "stdout",
     "output_type": "stream",
     "text": [
      "کَتَبتُ قِصَّةَ شَوقی و مَدمَعی باکی\n",
      "بیا که بی تو به جان آمدم ز غمناکی\n"
     ]
    },
    {
     "name": "stderr",
     "output_type": "stream",
     "text": [
      "Crawling Ghazals:  93%|█████████▎| 462/495 [41:21<03:21,  6.11s/it]"
     ]
    },
    {
     "name": "stdout",
     "output_type": "stream",
     "text": [
      "یا مُبْسِماً یُحاکي دُرْجاً مِنَ اللِّآلي\n",
      "یا رب چه درخور آمد گِردَش خط هلالی\n"
     ]
    },
    {
     "name": "stderr",
     "output_type": "stream",
     "text": [
      "Crawling Ghazals:  94%|█████████▎| 463/495 [41:24<02:45,  5.17s/it]"
     ]
    },
    {
     "name": "stdout",
     "output_type": "stream",
     "text": [
      "سَلامُ اللّهِ ما کَرَّ اللَّیالي\n",
      "و جاوَبَتِ الْمثاني و الْمِثالي\n"
     ]
    },
    {
     "name": "stderr",
     "output_type": "stream",
     "text": [
      "Crawling Ghazals:  94%|█████████▎| 464/495 [41:27<02:18,  4.48s/it]"
     ]
    },
    {
     "name": "stdout",
     "output_type": "stream",
     "text": [
      "بگرفت کار حسنت چون عشق من کمالی\n",
      "خوش باش زان که نبود این هر دو را زوالی\n"
     ]
    },
    {
     "name": "stderr",
     "output_type": "stream",
     "text": [
      "Crawling Ghazals:  94%|█████████▍| 465/495 [41:32<02:18,  4.60s/it]"
     ]
    },
    {
     "name": "stdout",
     "output_type": "stream",
     "text": [
      "رفتم به باغ صبحدمی تا چنم گلی\n",
      "آمد به گوش ناگهم آواز بلبلی\n"
     ]
    },
    {
     "name": "stderr",
     "output_type": "stream",
     "text": [
      "Crawling Ghazals:  94%|█████████▍| 466/495 [41:35<01:58,  4.08s/it]"
     ]
    },
    {
     "name": "stdout",
     "output_type": "stream",
     "text": [
      "این خرقه که من دارم در رهن شراب اولی\n",
      "وین دفتر بی‌معنی غرق می ناب اولی\n"
     ]
    },
    {
     "name": "stderr",
     "output_type": "stream",
     "text": [
      "Crawling Ghazals:  94%|█████████▍| 467/495 [41:38<01:43,  3.71s/it]"
     ]
    },
    {
     "name": "stdout",
     "output_type": "stream",
     "text": [
      "زان می عشق، کز او پخته شود هر خامی\n",
      "گر چه ماه رمضان است بیاور جامی\n"
     ]
    },
    {
     "name": "stderr",
     "output_type": "stream",
     "text": [
      "Crawling Ghazals:  95%|█████████▍| 468/495 [41:42<01:48,  4.03s/it]"
     ]
    },
    {
     "name": "stdout",
     "output_type": "stream",
     "text": [
      "که بَرَد به نزد شاهان ز من گدا پیامی؟\n",
      "که به کوی مِی‌فروشان دو هزار جم به جامی\n"
     ]
    },
    {
     "name": "stderr",
     "output_type": "stream",
     "text": [
      "Crawling Ghazals:  95%|█████████▍| 469/495 [41:48<02:00,  4.63s/it]"
     ]
    },
    {
     "name": "stdout",
     "output_type": "stream",
     "text": [
      "أَتَتْ رَوائِحُ رَنْدِ الْحِمیٰ و زادَ غَرامی\n",
      "فدای خاک در دوست باد جان گرامی\n"
     ]
    },
    {
     "name": "stderr",
     "output_type": "stream",
     "text": [
      "Crawling Ghazals:  95%|█████████▍| 470/495 [41:52<01:48,  4.34s/it]"
     ]
    },
    {
     "name": "stdout",
     "output_type": "stream",
     "text": [
      "سینه مالامال درد است ای دریغا مرهمی\n",
      "دل ز تنهایی به جان آمد خدا را همدمی\n"
     ]
    },
    {
     "name": "stderr",
     "output_type": "stream",
     "text": [
      "Crawling Ghazals:  95%|█████████▌| 471/495 [41:57<01:48,  4.53s/it]"
     ]
    },
    {
     "name": "stdout",
     "output_type": "stream",
     "text": [
      "ز دلبرم که رساند نوازش قلمی\n",
      "کجاست پیک صبا گر همی کند کرمی؟\n"
     ]
    },
    {
     "name": "stderr",
     "output_type": "stream",
     "text": [
      "Crawling Ghazals:  95%|█████████▌| 472/495 [42:00<01:32,  4.01s/it]"
     ]
    },
    {
     "name": "stdout",
     "output_type": "stream",
     "text": [
      "اَحمَدُ اللهَ عَلی مَعْدِلَةِ السُلطانِ\n",
      "احمدِ شیخ اُوِیسِ حسنِ ایلخانی\n"
     ]
    },
    {
     "name": "stderr",
     "output_type": "stream",
     "text": [
      "Crawling Ghazals:  96%|█████████▌| 473/495 [42:07<01:47,  4.88s/it]"
     ]
    },
    {
     "name": "stdout",
     "output_type": "stream",
     "text": [
      "وقت را غنیمت دان آن قدر که بتْوانی\n",
      "حاصل از حیات ای جان این دم است تا دانی\n"
     ]
    },
    {
     "name": "stderr",
     "output_type": "stream",
     "text": [
      "Crawling Ghazals:  96%|█████████▌| 474/495 [42:12<01:43,  4.94s/it]"
     ]
    },
    {
     "name": "stdout",
     "output_type": "stream",
     "text": [
      "هواخواه توام جانا و می‌دانم که می‌دانی\n",
      "که هم نادیده می‌بینی و هم ننوشته می‌خوانی\n"
     ]
    },
    {
     "name": "stderr",
     "output_type": "stream",
     "text": [
      "Crawling Ghazals:  96%|█████████▌| 475/495 [42:15<01:27,  4.35s/it]"
     ]
    },
    {
     "name": "stdout",
     "output_type": "stream",
     "text": [
      "گفتند خلایق که تویی یوسف ثانی\n",
      "چون نیک بدیدم به حقیقت به از آنی\n"
     ]
    },
    {
     "name": "stderr",
     "output_type": "stream",
     "text": [
      "Crawling Ghazals:  96%|█████████▌| 476/495 [42:21<01:33,  4.91s/it]"
     ]
    },
    {
     "name": "stdout",
     "output_type": "stream",
     "text": [
      "نسیم صبح سعادت! بدان نشان که تو دانی\n",
      "گذر به کوی فلان کن، در آن زمان که تو دانی\n"
     ]
    },
    {
     "name": "stderr",
     "output_type": "stream",
     "text": [
      "Crawling Ghazals:  96%|█████████▋| 477/495 [42:26<01:28,  4.94s/it]"
     ]
    },
    {
     "name": "stdout",
     "output_type": "stream",
     "text": [
      "دو یار زیرک و از بادهٔ کهن دو منی\n",
      "فراغتی و کتابی و گوشهٔ چمنی\n"
     ]
    },
    {
     "name": "stderr",
     "output_type": "stream",
     "text": [
      "Crawling Ghazals:  97%|█████████▋| 478/495 [42:29<01:13,  4.34s/it]"
     ]
    },
    {
     "name": "stdout",
     "output_type": "stream",
     "text": [
      "نوش کن جامِ شرابِ یک منی\n",
      "تا بِدان بیخِ غم از دل برکَنی\n"
     ]
    },
    {
     "name": "stderr",
     "output_type": "stream",
     "text": [
      "Crawling Ghazals:  97%|█████████▋| 479/495 [42:32<01:01,  3.87s/it]"
     ]
    },
    {
     "name": "stdout",
     "output_type": "stream",
     "text": [
      "صبح است و ژاله می‌چکد از ابر بهمنی\n",
      "برگ صبوح ساز و بده جام یک منی\n"
     ]
    },
    {
     "name": "stderr",
     "output_type": "stream",
     "text": [
      "Crawling Ghazals:  97%|█████████▋| 480/495 [42:37<01:03,  4.20s/it]"
     ]
    },
    {
     "name": "stdout",
     "output_type": "stream",
     "text": [
      "ای که در کشتن ما هیچ مدارا نکنی\n",
      "سود و سرمایه بسوزی و محابا نکنی\n"
     ]
    },
    {
     "name": "stderr",
     "output_type": "stream",
     "text": [
      "Crawling Ghazals:  97%|█████████▋| 481/495 [42:40<00:54,  3.88s/it]"
     ]
    },
    {
     "name": "stdout",
     "output_type": "stream",
     "text": [
      "بشنو این نکته که خود را ز غم آزاده کنی\n",
      "خون خوری گر طلب روزی ننهاده کنی\n"
     ]
    },
    {
     "name": "stderr",
     "output_type": "stream",
     "text": [
      "Crawling Ghazals:  97%|█████████▋| 482/495 [42:43<00:47,  3.65s/it]"
     ]
    },
    {
     "name": "stdout",
     "output_type": "stream",
     "text": [
      "ای دل به کوی عشق گذاری نمی‌کنی\n",
      "اسباب جمع داری و کاری نمی‌کنی\n"
     ]
    },
    {
     "name": "stderr",
     "output_type": "stream",
     "text": [
      "Crawling Ghazals:  98%|█████████▊| 483/495 [42:51<00:59,  4.95s/it]"
     ]
    },
    {
     "name": "stdout",
     "output_type": "stream",
     "text": [
      "سحرگه ره ‎روی در سرزمینی\n",
      "همی گفت این معما با قرینی\n"
     ]
    },
    {
     "name": "stderr",
     "output_type": "stream",
     "text": [
      "Crawling Ghazals:  98%|█████████▊| 484/495 [42:58<01:00,  5.54s/it]"
     ]
    },
    {
     "name": "stdout",
     "output_type": "stream",
     "text": [
      "تو مگر بر لب آبی به هوس بنشینی\n",
      "ور نه هر فتنه که بینی همه از خود بینی\n"
     ]
    },
    {
     "name": "stderr",
     "output_type": "stream",
     "text": [
      "Crawling Ghazals:  98%|█████████▊| 485/495 [43:01<00:47,  4.73s/it]"
     ]
    },
    {
     "name": "stdout",
     "output_type": "stream",
     "text": [
      "ساقیا سایهٔ ابر است و بهار و لب جوی\n",
      "من نگویم چه کن ار اهل دلی خود تو بگوی\n"
     ]
    },
    {
     "name": "stderr",
     "output_type": "stream",
     "text": [
      "Crawling Ghazals:  98%|█████████▊| 486/495 [43:06<00:43,  4.80s/it]"
     ]
    },
    {
     "name": "stdout",
     "output_type": "stream",
     "text": [
      "بلبل، ز شاخِ سرو، به گلبانگِ پهلوی\n",
      "می‌خوانْد دوش، درسِ مقاماتِ معنوی\n"
     ]
    },
    {
     "name": "stderr",
     "output_type": "stream",
     "text": [
      "Crawling Ghazals:  98%|█████████▊| 487/495 [43:09<00:34,  4.30s/it]"
     ]
    },
    {
     "name": "stdout",
     "output_type": "stream",
     "text": [
      "ای بی‌خبر بکوش که صاحب‌خبر شوی\n",
      "تا راهرو نباشی کی راهبر شوی؟\n"
     ]
    },
    {
     "name": "stderr",
     "output_type": "stream",
     "text": [
      "Crawling Ghazals:  99%|█████████▊| 488/495 [43:12<00:27,  3.90s/it]"
     ]
    },
    {
     "name": "stdout",
     "output_type": "stream",
     "text": [
      "سَحرم هاتف میخانه به دولت‌خواهی\n",
      "گفت بازآی که دیرینه این درگاهی\n"
     ]
    },
    {
     "name": "stderr",
     "output_type": "stream",
     "text": [
      "Crawling Ghazals:  99%|█████████▉| 489/495 [43:17<00:25,  4.22s/it]"
     ]
    },
    {
     "name": "stdout",
     "output_type": "stream",
     "text": [
      "ای در رخ تو پیدا انوار پادشاهی\n",
      "در فکرت تو پنهان صد حکمت الهی\n"
     ]
    },
    {
     "name": "stderr",
     "output_type": "stream",
     "text": [
      "Crawling Ghazals:  99%|█████████▉| 490/495 [43:23<00:23,  4.78s/it]"
     ]
    },
    {
     "name": "stdout",
     "output_type": "stream",
     "text": [
      "در همه دِیر مغان نیست چو من شیدایی\n",
      "خرقه جایی گرو باده و دفتر جایی\n"
     ]
    },
    {
     "name": "stderr",
     "output_type": "stream",
     "text": [
      "Crawling Ghazals:  99%|█████████▉| 491/495 [43:26<00:17,  4.39s/it]"
     ]
    },
    {
     "name": "stdout",
     "output_type": "stream",
     "text": [
      "به چشم کرده‌ام ابروی ماه سیمایی\n",
      "خیال سبزخطی نقش بسته‌ام جایی\n"
     ]
    },
    {
     "name": "stderr",
     "output_type": "stream",
     "text": [
      "Crawling Ghazals:  99%|█████████▉| 492/495 [43:31<00:13,  4.56s/it]"
     ]
    },
    {
     "name": "stdout",
     "output_type": "stream",
     "text": [
      "سلامی چو بوی خوش آشنایی\n",
      "بدان مردم دیدهٔ روشنایی\n"
     ]
    },
    {
     "name": "stderr",
     "output_type": "stream",
     "text": [
      "Crawling Ghazals: 100%|█████████▉| 493/495 [43:34<00:08,  4.06s/it]"
     ]
    },
    {
     "name": "stdout",
     "output_type": "stream",
     "text": [
      "ای پادشه خوبان داد از غم تنهایی\n",
      "دل بی‌ تو به جان آمد وقت است که بازآیی\n"
     ]
    },
    {
     "name": "stderr",
     "output_type": "stream",
     "text": [
      "Crawling Ghazals: 100%|█████████▉| 494/495 [43:37<00:03,  3.72s/it]"
     ]
    },
    {
     "name": "stdout",
     "output_type": "stream",
     "text": [
      "ای دل گر از آن چاهِ زَنَخدان به درآیی\n",
      "هر جا که روی زود پشیمان به درآیی\n"
     ]
    },
    {
     "name": "stderr",
     "output_type": "stream",
     "text": [
      "Crawling Ghazals: 100%|██████████| 495/495 [43:46<00:00,  5.31s/it]"
     ]
    },
    {
     "name": "stdout",
     "output_type": "stream",
     "text": [
      "مِی خواه و گُل‌اَفشان کن، از دَهر چه می‌جویی؟\n",
      "این گفت سَحرگَه گُل، بلبل! تو چه می‌گویی؟\n",
      "Crawling completed. Data saved to hafez_ghazals.json\n"
     ]
    },
    {
     "name": "stderr",
     "output_type": "stream",
     "text": [
      "\n"
     ]
    }
   ],
   "source": [
    "base_url = \"https://ganjoor.net/hafez/ghazal/sh\"\n",
    "total_ghazals = 495\n",
    "ghazals_data = {}\n",
    "\n",
    "for i in tqdm(range(1, total_ghazals + 1), desc=\"Crawling Ghazals\"):\n",
    "    url = f\"{base_url}{i}\"\n",
    "    if i % 3 == 0:\n",
    "        time.sleep(2)\n",
    "    if i % 7 == 0:\n",
    "        time.sleep(3)\n",
    "    if i % 11 == 0:\n",
    "        time.sleep(4)\n",
    "    try:\n",
    "        response = requests.get(url, timeout=10)\n",
    "        response.raise_for_status()\n",
    "        soup = BeautifulSoup(response.text, 'html.parser')\n",
    "        baits = {}\n",
    "        bait_divs = soup.find_all('div', class_='b')\n",
    "        for div in bait_divs:\n",
    "            bn_id = div.get('id', '')\n",
    "            if bn_id and bn_id.startswith('bn'):\n",
    "                try:\n",
    "                    num = int(bn_id[2:])\n",
    "                except ValueError:\n",
    "                    print(f\"Warning: Invalid bait ID {bn_id} in ghazal {i}\")\n",
    "                    continue\n",
    "                m1 = div.find('div', class_='m1')\n",
    "                m2 = div.find('div', class_='m2')\n",
    "                m1_text = m1.find('p').text.strip() if m1 and m1.find('p') else ''\n",
    "                m2_text = m2.find('p').text.strip() if m2 and m2.find('p') else ''\n",
    "                content = f\"{m1_text}\\n{m2_text}\".strip()\n",
    "                if content:\n",
    "                    baits[str(num)] = {\"content\": content, \"meaning\": \"\"}\n",
    "        summaries_div = soup.find('div', id='summaries')\n",
    "        if summaries_div:\n",
    "            summary_divs = summaries_div.find_all('div', class_='coupletsummary')\n",
    "            for sdiv in summary_divs:\n",
    "                blockquote = sdiv.find('blockquote')\n",
    "                if blockquote:\n",
    "                    a_tag = blockquote.find('a', href=re.compile(r'#bn\\d+'))\n",
    "                    if a_tag and a_tag.get('href'):\n",
    "                        href = a_tag['href']\n",
    "                        match = re.search(r'#bn(\\d+)', href)\n",
    "                        if match:\n",
    "                            num = int(match.group(1))\n",
    "                            notice = sdiv.find('div', class_='notice')\n",
    "                            meaning = notice.find('p').text.strip() if notice and notice.find('p') else ''\n",
    "                            if str(num) in baits:\n",
    "                                baits[str(num)][\"meaning\"] = meaning\n",
    "                            else:\n",
    "                                print(f\"meaning found for non-existent bait {num} in ghazal {i}\")\n",
    "                        else:\n",
    "                            print(f\"invalid summary link format {href} in ghazal {i}\")\n",
    "                    else:\n",
    "                        print(f\"no valid <a> tag found in summary for ghazal {i}\")\n",
    "        else:\n",
    "            print(f\"no summaries div found for ghazal {i}\")\n",
    "        vazn = \"\"\n",
    "        bahr = \"\"\n",
    "        ghaleb = \"\"\n",
    "        tedad_abiat = len(baits)\n",
    "        tables = soup.find_all('table')\n",
    "        for table in tables:\n",
    "            rows = table.find_all('tr')\n",
    "            for row in rows:\n",
    "                tds = row.find_all('td')\n",
    "                if len(tds) >= 2:\n",
    "                    label = tds[0].text.strip()\n",
    "                    value = tds[1].text.strip()\n",
    "                    if 'وزن:' in label:\n",
    "                        match = re.match(r'(.+?)\\s*\\((.+)\\)', value)\n",
    "                        if match:\n",
    "                            vazn = match.group(1).strip()\n",
    "                            bahr = match.group(2).strip()\n",
    "                        else:\n",
    "                            vazn = value\n",
    "                    elif 'قالب شعری:' in label:\n",
    "                        ghaleb = value\n",
    "                    elif 'تعداد ابیات:' in label:\n",
    "                        try:\n",
    "                            tedad_abiat = int(value) if value and value.isdigit() else len(baits)\n",
    "                        except ValueError:\n",
    "                            print(f\"Warning: Invalid tedad_abiat '{value}' in ghazal {i}\")\n",
    "                            tedad_abiat = len(baits)\n",
    "\n",
    "        tedad_comments = 0\n",
    "        comments_section = soup.find('div', id='comments-section')\n",
    "        if comments_section:\n",
    "            p_tag = comments_section.find('p')\n",
    "            if p_tag:\n",
    "                text = p_tag.text\n",
    "                match = re.search(r'تا به حال (\\d+) حاشیه', text)\n",
    "                if match:\n",
    "                    tedad_comments = int(match.group(1))\n",
    "                else:\n",
    "                    print(f\"Warning: Could not extract comment count from '{text}' in ghazal {i}\")\n",
    "        if baits:\n",
    "            ghazals_data[str(i)] = {\n",
    "                \"baits\": baits,\n",
    "                \"vazn\": vazn,\n",
    "                \"bahr\": bahr,\n",
    "                \"ghaleb\": ghaleb,\n",
    "                \"tedad_abiat\": tedad_abiat,\n",
    "                \"tedad_comments\": tedad_comments\n",
    "            }\n",
    "        else:\n",
    "            print(f\"Warning: No baits found for ghazal {i}\")\n",
    "        time.sleep(2)\n",
    "        print(baits['1']['content'])\n",
    "\n",
    "    except requests.RequestException as e:\n",
    "        print(f\"Error fetching ghazal {i}: {e}\")\n",
    "        continue\n",
    "    except Exception as e:\n",
    "        print(f\"Unexpected error in ghazal {i}: {e}\")\n",
    "        continue\n",
    "\n",
    "with open('hafez_ghazals.json', 'w', encoding='utf-8') as f:\n",
    "    json.dump(ghazals_data, f, ensure_ascii=False, indent=4)\n"
   ]
  },
  {
   "cell_type": "code",
   "execution_count": null,
   "id": "366f61e3",
   "metadata": {},
   "outputs": [],
   "source": []
  },
  {
   "cell_type": "code",
   "execution_count": null,
   "id": "38384998",
   "metadata": {},
   "outputs": [],
   "source": [
    "        <a href=\"https://wbr.bmbzr.ir/bb-archive/25.pdf\"><button><span class=\"week\">هفتهٔ ۲۵</span><span class=\"date\">از ۸ شهریور تا ۱۴ شهریور</span></button></a>\n"
   ]
  }
 ],
 "metadata": {
  "kernelspec": {
   "display_name": "Python 3",
   "language": "python",
   "name": "python3"
  },
  "language_info": {
   "codemirror_mode": {
    "name": "ipython",
    "version": 3
   },
   "file_extension": ".py",
   "mimetype": "text/x-python",
   "name": "python",
   "nbconvert_exporter": "python",
   "pygments_lexer": "ipython3",
   "version": "3.11.5"
  }
 },
 "nbformat": 4,
 "nbformat_minor": 5
}
